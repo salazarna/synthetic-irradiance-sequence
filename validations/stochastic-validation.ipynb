{
 "cells": [
  {
   "cell_type": "code",
   "execution_count": null,
   "metadata": {},
   "outputs": [],
   "source": [
    "# Set-up\n",
    "%matplotlib inline\n",
    "import matplotlib.pyplot as plt\n",
    "\n",
    "# Python add-ons\n",
    "import numpy as np\n",
    "import pandas as pd"
   ]
  },
  {
   "attachments": {},
   "cell_type": "markdown",
   "metadata": {},
   "source": [
    "# 1. Variability metrics validation"
   ]
  },
  {
   "cell_type": "code",
   "execution_count": null,
   "metadata": {},
   "outputs": [],
   "source": [
    "FILE = ['bogota-5', 'bogota-30', 'bogota-60',\n",
    "        'oregon-10', 'oregon-30', 'oregon-60',\n",
    "        'tucson-30', 'tucson-60',\n",
    "        'seville-15', 'seville-30', 'seville-60',\n",
    "        'adelaide-10', 'adelaide-30', 'adelaide-60']\n",
    "\n",
    "VM = {'STOCHASTIC_MONTH': {},\n",
    "      'STOCHASTIC_SC': {}}\n",
    "\n",
    "for i in FILE:\n",
    "    VM['STOCHASTIC_MONTH'][i] = pd.read_csv(filepath_or_buffer=f'./metrics/variability/{i}/stochastic_month.csv', index_col='month').round(decimals=1)\n",
    "    VM['STOCHASTIC_SC'][i] = pd.read_csv(filepath_or_buffer=f'./metrics/variability/{i}/stochastic_sc.csv', index_col='sc').round(decimals=1)"
   ]
  },
  {
   "attachments": {},
   "cell_type": "markdown",
   "metadata": {},
   "source": [
    "## 1.1. Sky conditions"
   ]
  },
  {
   "cell_type": "code",
   "execution_count": null,
   "metadata": {},
   "outputs": [],
   "source": [
    "hor = 15\n",
    "ver = 3\n",
    "\n",
    "labels = []\n",
    "colors = []\n",
    "\n",
    "for i in FILE:\n",
    "    # Labels\n",
    "    a = i.split(sep='-')[0][0:2].upper()\n",
    "    b = i.split(sep='-')[1]\n",
    "\n",
    "    labels.append(f'{a}-{b}')\n",
    "\n",
    "    # Colors\n",
    "    if a == 'BO':\n",
    "        if b == '30':\n",
    "            colors.append('dodgerblue')\n",
    "        elif b == '60':\n",
    "            colors.append('navy')\n",
    "        else:\n",
    "            colors.append('deepskyblue')\n",
    "    elif a == 'OR':\n",
    "        if b == '30':\n",
    "            colors.append('mediumseagreen')\n",
    "        elif b == '60':\n",
    "            colors.append('darkgreen')\n",
    "        else:\n",
    "            colors.append('lightgreen')\n",
    "    elif a == 'TU':\n",
    "        if b == '30':\n",
    "            colors.append('violet')\n",
    "        else:\n",
    "            colors.append('darkviolet')\n",
    "    elif a == 'SE':\n",
    "        if b == '30':\n",
    "            colors.append('tomato')\n",
    "        elif b == '60':\n",
    "            colors.append('crimson')\n",
    "        else:\n",
    "            colors.append('lightsalmon')\n",
    "    else:\n",
    "        if b == '30':\n",
    "            colors.append('orange')\n",
    "        elif b == '60':\n",
    "            colors.append('peru')\n",
    "        else:\n",
    "            colors.append('navajowhite')\n",
    "\n",
    "for i in ['standard_deviation_increments', 'stability_index', 'iccdf', 'variability_index']:\n",
    "    if i == 'standard_deviation_increments':\n",
    "        n = 'a'\n",
    "        fig_title = f'Standard Deviation Increments (SDI)'\n",
    "    elif i == 'stability_index':\n",
    "        n = 'b'\n",
    "        fig_title = 'Stability Index (SI)'\n",
    "    elif i == 'iccdf':\n",
    "        n = 'c'\n",
    "        fig_title = 'Integrated Complementary Cumulative Distribution Function (ICCDF)'\n",
    "    else:\n",
    "        n = 'd'\n",
    "        fig_title = 'Variability Index (VI)'\n",
    "\n",
    "    # pd.DataFrame\n",
    "    df = pd.DataFrame(index=FILE, columns=['SC1', 'SC2', 'SC3', 'SC4', 'SC5'])\n",
    "\n",
    "    for j in FILE:\n",
    "        df.loc[j] = VM['STOCHASTIC_SC'][j][i].values\n",
    "\n",
    "    df.index = labels\n",
    "\n",
    "    plt.figure()\n",
    "\n",
    "    df.T.plot(kind='bar',\n",
    "                color=colors,\n",
    "                edgecolor='white',\n",
    "                linewidth=0.5,\n",
    "                width=0.75,\n",
    "                label=labels,\n",
    "                figsize=(hor,ver))\n",
    "\n",
    "    plt.title(fig_title)\n",
    "    plt.ylabel('Percentage')\n",
    "    plt.xlabel('Sky Condition (SC)')\n",
    "    plt.tick_params(which='major', direction='in', length=5, width=0.75, grid_alpha=0.3)\n",
    "    plt.tick_params(which='minor', direction='in', length=2.5, width=0.5, grid_alpha=0.3)\n",
    "    plt.xticks(rotation=0)\n",
    "    plt.minorticks_on()\n",
    "    plt.ylim(0, None)\n",
    "    plt.xlim(None, None)\n",
    "    plt.grid(True)\n",
    "    plt.grid(visible=True, which='major', color='grey', linestyle='-', linewidth=0.5)\n",
    "    plt.grid(visible=True, which='minor', color='lightgrey', linestyle='-', linewidth=0.3, alpha=0.2)\n",
    "    plt.tight_layout\n",
    "    plt.legend(loc='best', fontsize=7, ncol=2) #, bbox_to_anchor=(1,1))\n",
    "    plt.savefig(f'../figs/fig10{n}.pdf', dpi=300, bbox_inches='tight')"
   ]
  },
  {
   "cell_type": "code",
   "execution_count": null,
   "metadata": {},
   "outputs": [],
   "source": [
    "df.astype(dtype=float).describe().round(decimals=1)"
   ]
  },
  {
   "cell_type": "code",
   "execution_count": null,
   "metadata": {},
   "outputs": [],
   "source": [
    "df2 = df.T.groupby([0, 0, 0, 1, 1, 1, 2, 2, 3, 3, 3, 4, 4, 4], axis=1).median().describe().round(decimals=1)\n",
    "df2.columns = ['BO', 'OR', 'TU', 'SE', 'AD']\n",
    "df2"
   ]
  },
  {
   "attachments": {},
   "cell_type": "markdown",
   "metadata": {},
   "source": [
    "## 1.2. Months"
   ]
  },
  {
   "cell_type": "code",
   "execution_count": null,
   "metadata": {},
   "outputs": [],
   "source": [
    "for i in ['standard_deviation_increments', 'stability_index', 'iccdf', 'variability_index']:\n",
    "    if i == 'standard_deviation_increments':\n",
    "        n = 'a'\n",
    "        fig_title = f'Standard Deviation Increments (SDI)'\n",
    "    elif i == 'stability_index':\n",
    "        n = 'b'\n",
    "        fig_title = 'Stability Index (SI)'\n",
    "    elif i == 'iccdf':\n",
    "        n = 'c'\n",
    "        fig_title = 'Integrated Complementary Cumulative Distribution Function (ICCDF)'\n",
    "    else:\n",
    "        n = 'd'\n",
    "        fig_title = 'Variability Index (VI)'\n",
    "\n",
    "    # pd.DataFrame\n",
    "    df = pd.DataFrame(index=FILE, columns=np.arange(start=1, stop=13, step=1))\n",
    "\n",
    "    for j in FILE:\n",
    "        df.loc[j] = VM['STOCHASTIC_MONTH'][j][i].values\n",
    "\n",
    "    df.index = labels\n",
    "\n",
    "    plt.figure()\n",
    "\n",
    "    df.T.plot(kind='bar',\n",
    "                color=colors,\n",
    "                edgecolor='white',\n",
    "                linewidth=0.5,\n",
    "                width=0.75,\n",
    "                label=labels,\n",
    "                figsize=(hor,ver))\n",
    "\n",
    "    plt.title(fig_title)\n",
    "    plt.ylabel('Percentage')\n",
    "    plt.xlabel('Months of the Year')\n",
    "    plt.tick_params(which='major', direction='in', length=5, width=0.75, grid_alpha=0.3)\n",
    "    plt.tick_params(which='minor', direction='in', length=2.5, width=0.5, grid_alpha=0.3)\n",
    "    plt.xticks(rotation=0)\n",
    "    plt.minorticks_on()\n",
    "    plt.ylim(0, None)\n",
    "    plt.xlim(None, None)\n",
    "    plt.grid(True)\n",
    "    plt.grid(visible=True, which='major', color='grey', linestyle='-', linewidth=0.5)\n",
    "    plt.grid(visible=True, which='minor', color='lightgrey', linestyle='-', linewidth=0.3, alpha=0.2)\n",
    "    plt.tight_layout\n",
    "    plt.legend(loc='best', fontsize=7, ncol=2) #, bbox_to_anchor=(1,1))\n",
    "    plt.savefig(f'../figs/fig11{n}.pdf', dpi=300, bbox_inches='tight')"
   ]
  },
  {
   "cell_type": "code",
   "execution_count": null,
   "metadata": {},
   "outputs": [],
   "source": [
    "df.astype(dtype=float).describe().round(decimals=1)"
   ]
  },
  {
   "cell_type": "code",
   "execution_count": null,
   "metadata": {},
   "outputs": [],
   "source": [
    "df2 = df.T.groupby([0, 0, 0, 1, 1, 1, 2, 2, 3, 3, 3, 4, 4, 4], axis=1).median().describe().round(decimals=1)\n",
    "df2.columns = ['BO', 'OR', 'TU', 'SE', 'AD']\n",
    "df2"
   ]
  },
  {
   "attachments": {},
   "cell_type": "markdown",
   "metadata": {},
   "source": [
    "# 2. Statistical distribution validations"
   ]
  },
  {
   "cell_type": "code",
   "execution_count": null,
   "metadata": {},
   "outputs": [],
   "source": [
    "FILE = ['bogota-5', 'bogota-30', 'bogota-60',\n",
    "        'oregon-10', 'oregon-30', 'oregon-60',\n",
    "        'tucson-30', 'tucson-60',\n",
    "        'seville-15', 'seville-30', 'seville-60',\n",
    "        'adelaide-10', 'adelaide-30', 'adelaide-60']\n",
    "\n",
    "SD = {'STOCHASTIC_MONTH': {},\n",
    "      'STOCHASTIC_SC': {}}\n",
    "\n",
    "for i in FILE:\n",
    "    SD['STOCHASTIC_MONTH'][i] = pd.read_csv(filepath_or_buffer=f'./metrics/statistical/{i}/stochastic_month.csv', index_col='month').round(decimals=1)\n",
    "    SD['STOCHASTIC_SC'][i] = pd.read_csv(filepath_or_buffer=f'./metrics/statistical/{i}/stochastic_sc.csv', index_col='sc').round(decimals=1)"
   ]
  },
  {
   "attachments": {},
   "cell_type": "markdown",
   "metadata": {},
   "source": [
    "## 2.1. Sky conditions"
   ]
  },
  {
   "cell_type": "code",
   "execution_count": null,
   "metadata": {},
   "outputs": [],
   "source": [
    "for i in ['kolmogorov_smirnov', 'kullback_leibler_divergence', 'overlapping_coefficient']:\n",
    "    if i == 'kolmogorov_smirnov':\n",
    "        n = 'a'\n",
    "        fig_title = f'Kolmogorov-Smirnov (KS)'\n",
    "        fig_ylabel = 'p-value'\n",
    "    elif i == 'kullback_leibler_divergence':\n",
    "        n = 'b'\n",
    "        fig_title = 'Kullback-Leibler Divergence (KLD)'\n",
    "        fig_ylabel = 'Percentage'\n",
    "    else:\n",
    "        n = 'c'\n",
    "        fig_title = 'Overlapping Coefficient (OVC)'\n",
    "        fig_ylabel = 'Percentage'\n",
    "\n",
    "    # pd.DataFrame\n",
    "    df = pd.DataFrame(index=FILE, columns=['SC1', 'SC2', 'SC3', 'SC4', 'SC5'])\n",
    "\n",
    "    for j in FILE:\n",
    "        df.loc[j] = SD['STOCHASTIC_SC'][j][i].values\n",
    "\n",
    "    df.index = labels\n",
    "\n",
    "    plt.figure()\n",
    "\n",
    "    df.T.plot(kind='bar',\n",
    "                color=colors,\n",
    "                edgecolor='white',\n",
    "                linewidth=0.5,\n",
    "                width=0.75,\n",
    "                label=labels,\n",
    "                figsize=(hor,ver))\n",
    "\n",
    "    plt.title(fig_title)\n",
    "    plt.ylabel(fig_ylabel)\n",
    "    plt.xlabel('Sky Condition (SC)')\n",
    "    plt.tick_params(which='major', direction='in', length=5, width=0.75, grid_alpha=0.3)\n",
    "    plt.tick_params(which='minor', direction='in', length=2.5, width=0.5, grid_alpha=0.3)\n",
    "    plt.xticks(rotation=0)\n",
    "    plt.minorticks_on()\n",
    "    plt.ylim(0, 1.05)\n",
    "    plt.xlim(None, None)\n",
    "    plt.grid(True)\n",
    "    plt.grid(visible=True, which='major', color='grey', linestyle='-', linewidth=0.5)\n",
    "    plt.grid(visible=True, which='minor', color='lightgrey', linestyle='-', linewidth=0.3, alpha=0.2)\n",
    "    plt.tight_layout\n",
    "    plt.legend(loc='best', fontsize=7, ncol=14) #, bbox_to_anchor=(1,1))\n",
    "    plt.savefig(f'../figs/fig14{n}.pdf', dpi=300, bbox_inches='tight')"
   ]
  },
  {
   "cell_type": "code",
   "execution_count": null,
   "metadata": {},
   "outputs": [],
   "source": [
    "df.astype(dtype=float).describe().round(decimals=1)"
   ]
  },
  {
   "cell_type": "code",
   "execution_count": null,
   "metadata": {},
   "outputs": [],
   "source": [
    "df2 = df.T.groupby([0, 0, 0, 1, 1, 1, 2, 2, 3, 3, 3, 4, 4, 4], axis=1).median().describe().round(decimals=1)\n",
    "df2.columns = ['BO', 'OR', 'TU', 'SE', 'AD']\n",
    "df2"
   ]
  },
  {
   "attachments": {},
   "cell_type": "markdown",
   "metadata": {},
   "source": [
    "## 2.2. Months"
   ]
  },
  {
   "cell_type": "code",
   "execution_count": null,
   "metadata": {},
   "outputs": [],
   "source": [
    "for i in ['kolmogorov_smirnov', 'kullback_leibler_divergence', 'overlapping_coefficient']:\n",
    "    if i == 'kolmogorov_smirnov':\n",
    "        n = 'a'\n",
    "        fig_title = f'Kolmogorov-Smirnov (KS)'\n",
    "        fig_ylabel = 'p-value'\n",
    "    elif i == 'kullback_leibler_divergence':\n",
    "        n = 'b'\n",
    "        fig_title = 'Kullback-Leibler Divergence (KLD)'\n",
    "        fig_ylabel = 'Percentage'\n",
    "    else:\n",
    "        n = 'c'\n",
    "        fig_title = 'Overlapping Coefficient (OVC)'\n",
    "        fig_ylabel = 'Percentage'\n",
    "\n",
    "    # pd.DataFrame\n",
    "    df = pd.DataFrame(index=FILE, columns=np.arange(start=1, stop=13, step=1))\n",
    "\n",
    "    for j in FILE:\n",
    "        df.loc[j] = SD['STOCHASTIC_MONTH'][j][i].values\n",
    "\n",
    "    df.index = labels\n",
    "\n",
    "    plt.figure()\n",
    "\n",
    "    df.T.plot(kind='bar',\n",
    "                color=colors,\n",
    "                edgecolor='white',\n",
    "                linewidth=0.5,\n",
    "                width=0.75,\n",
    "                label=labels,\n",
    "                figsize=(hor,ver))\n",
    "\n",
    "    plt.title(fig_title)\n",
    "    plt.ylabel('Percentage')\n",
    "    plt.xlabel('Months of the Year')\n",
    "    plt.tick_params(which='major', direction='in', length=5, width=0.75, grid_alpha=0.3)\n",
    "    plt.tick_params(which='minor', direction='in', length=2.5, width=0.5, grid_alpha=0.3)\n",
    "    plt.xticks(rotation=0)\n",
    "    plt.minorticks_on()\n",
    "    plt.ylim(0, 1.05)\n",
    "    plt.xlim(None, None)\n",
    "    plt.grid(True)\n",
    "    plt.grid(visible=True, which='major', color='grey', linestyle='-', linewidth=0.5)\n",
    "    plt.grid(visible=True, which='minor', color='lightgrey', linestyle='-', linewidth=0.3, alpha=0.2)\n",
    "    plt.tight_layout\n",
    "    plt.legend(loc='best', fontsize=7, ncol=14) #, bbox_to_anchor=(1, 1))\n",
    "    plt.savefig(f'../figs/fig15{n}.pdf', dpi=300, bbox_inches='tight')"
   ]
  },
  {
   "cell_type": "code",
   "execution_count": null,
   "metadata": {},
   "outputs": [],
   "source": [
    "df.astype(dtype=float).describe().round(decimals=1)"
   ]
  },
  {
   "cell_type": "code",
   "execution_count": null,
   "metadata": {},
   "outputs": [],
   "source": [
    "df2 = df.T.groupby([0, 0, 0, 1, 1, 1, 2, 2, 3, 3, 3, 4, 4, 4], axis=1).median().describe().round(decimals=1)\n",
    "df2.columns = ['BO', 'OR', 'TU', 'SE', 'AD']\n",
    "df2"
   ]
  },
  {
   "attachments": {},
   "cell_type": "markdown",
   "metadata": {},
   "source": [
    "# 3. Energy production validation"
   ]
  },
  {
   "cell_type": "code",
   "execution_count": null,
   "metadata": {},
   "outputs": [],
   "source": [
    "FILE = ['bogota-5', 'bogota-30', 'bogota-60',\n",
    "        'oregon-10', 'oregon-30', 'oregon-60',\n",
    "        'tucson-30', 'tucson-60',\n",
    "        'seville-15', 'seville-30', 'seville-60',\n",
    "        'adelaide-10', 'adelaide-30', 'adelaide-60']\n",
    "\n",
    "EM = {'STOCHASTIC_MONTH': {},\n",
    "      'STOCHASTIC_SC': {}}\n",
    "\n",
    "for i in FILE:\n",
    "    EM['STOCHASTIC_MONTH'][i] = pd.read_csv(filepath_or_buffer=f'./metrics/energy/{i}/stochastic_month.csv', index_col='month').round(decimals=1)\n",
    "    EM['STOCHASTIC_SC'][i] = pd.read_csv(filepath_or_buffer=f'./metrics/energy/{i}/stochastic_sc.csv', index_col='sc').round(decimals=1)"
   ]
  },
  {
   "attachments": {},
   "cell_type": "markdown",
   "metadata": {},
   "source": [
    "## 3.1. Sky conditions"
   ]
  },
  {
   "cell_type": "code",
   "execution_count": null,
   "metadata": {},
   "outputs": [],
   "source": [
    "fig_title = 'Energy Production'\n",
    "fig_ylabel = 'Percentage Error'\n",
    "\n",
    "# pd.DataFrame\n",
    "df = pd.DataFrame(index=FILE, columns=['SC1', 'SC2', 'SC3', 'SC4', 'SC5'])\n",
    "\n",
    "for j in FILE:\n",
    "    df.loc[j] = EM['STOCHASTIC_SC'][j]['percentage_error'].values\n",
    "\n",
    "df.index = labels\n",
    "\n",
    "plt.figure()\n",
    "\n",
    "df.T.plot(kind='bar',\n",
    "            color=colors,\n",
    "            edgecolor='white',\n",
    "            linewidth=0.5,\n",
    "            width=0.75,\n",
    "            label=labels,\n",
    "            figsize=(hor,ver))\n",
    "\n",
    "plt.title(fig_title)\n",
    "plt.ylabel(fig_ylabel)\n",
    "plt.xlabel('Sky Condition (SC)')\n",
    "plt.tick_params(which='major', direction='in', length=5, width=0.75, grid_alpha=0.3)\n",
    "plt.tick_params(which='minor', direction='in', length=2.5, width=0.5, grid_alpha=0.3)\n",
    "plt.xticks(rotation=0)\n",
    "plt.minorticks_on()\n",
    "plt.ylim(0, 100)\n",
    "plt.xlim(None, None)\n",
    "plt.grid(True)\n",
    "plt.grid(visible=True, which='major', color='grey', linestyle='-', linewidth=0.5)\n",
    "plt.grid(visible=True, which='minor', color='lightgrey', linestyle='-', linewidth=0.3, alpha=0.2)\n",
    "plt.tight_layout\n",
    "plt.legend(loc='best', fontsize=7, ncol=2) #, bbox_to_anchor=(1,1))\n",
    "plt.savefig(f'../figs/fig18a.pdf', dpi=300, bbox_inches='tight')"
   ]
  },
  {
   "cell_type": "code",
   "execution_count": null,
   "metadata": {},
   "outputs": [],
   "source": [
    "df.astype(dtype=float).describe().round(decimals=1)"
   ]
  },
  {
   "cell_type": "code",
   "execution_count": null,
   "metadata": {},
   "outputs": [],
   "source": [
    "df2 = df.T.groupby([0, 0, 0, 1, 1, 1, 2, 2, 3, 3, 3, 4, 4, 4], axis=1).median().describe().round(decimals=1)\n",
    "df2.columns = ['BO', 'OR', 'TU', 'SE', 'AD']\n",
    "df2"
   ]
  },
  {
   "attachments": {},
   "cell_type": "markdown",
   "metadata": {},
   "source": [
    "## 3.2. Months"
   ]
  },
  {
   "cell_type": "code",
   "execution_count": null,
   "metadata": {},
   "outputs": [],
   "source": [
    "fig_title = 'Energy Production'\n",
    "fig_ylabel = 'Percentage Error'\n",
    "\n",
    "# pd.DataFrame\n",
    "df = pd.DataFrame(index=FILE, columns=np.arange(start=1, stop=13, step=1))\n",
    "\n",
    "for j in FILE:\n",
    "    df.loc[j] = EM['STOCHASTIC_MONTH'][j]['percentage_error'].values\n",
    "\n",
    "df.index = labels\n",
    "\n",
    "plt.figure()\n",
    "\n",
    "df.T.plot(kind='bar',\n",
    "            color=colors,\n",
    "            edgecolor='white',\n",
    "            linewidth=0.5,\n",
    "            width=0.75,\n",
    "            label=labels,\n",
    "            figsize=(hor,ver))\n",
    "\n",
    "plt.title(fig_title)\n",
    "plt.ylabel('Percentage')\n",
    "plt.xlabel('Months of the Year')\n",
    "plt.tick_params(which='major', direction='in', length=5, width=0.75, grid_alpha=0.3)\n",
    "plt.tick_params(which='minor', direction='in', length=2.5, width=0.5, grid_alpha=0.3)\n",
    "plt.xticks(rotation=0)\n",
    "plt.minorticks_on()\n",
    "plt.ylim(0, 100)\n",
    "plt.xlim(None, None)\n",
    "plt.grid(True)\n",
    "plt.grid(visible=True, which='major', color='grey', linestyle='-', linewidth=0.5)\n",
    "plt.grid(visible=True, which='minor', color='lightgrey', linestyle='-', linewidth=0.3, alpha=0.2)\n",
    "plt.tight_layout\n",
    "plt.legend(loc='best', fontsize=7, ncol=2) #, bbox_to_anchor=(1,1))\n",
    "plt.savefig(f'../figs/fig18b.pdf', dpi=300, bbox_inches='tight')"
   ]
  },
  {
   "cell_type": "code",
   "execution_count": null,
   "metadata": {},
   "outputs": [],
   "source": [
    "df.astype(dtype=float).describe().round(decimals=1)"
   ]
  },
  {
   "cell_type": "code",
   "execution_count": null,
   "metadata": {},
   "outputs": [],
   "source": [
    "df2 = df.T.groupby([0, 0, 0, 1, 1, 1, 2, 2, 3, 3, 3, 4, 4, 4], axis=1).median().describe().round(decimals=1)\n",
    "df2.columns = ['BO', 'OR', 'TU', 'SE', 'AD']\n",
    "df2"
   ]
  }
 ],
 "metadata": {
  "kernelspec": {
   "display_name": "synt",
   "language": "python",
   "name": "python3"
  },
  "language_info": {
   "codemirror_mode": {
    "name": "ipython",
    "version": 3
   },
   "file_extension": ".py",
   "mimetype": "text/x-python",
   "name": "python",
   "nbconvert_exporter": "python",
   "pygments_lexer": "ipython3",
   "version": "3.11.0"
  },
  "vscode": {
   "interpreter": {
    "hash": "c8c41bbeb946ed25b91e141bf4af078b4c4a33e6b170bac4b92dc96c97838c02"
   }
  }
 },
 "nbformat": 4,
 "nbformat_minor": 4
}
