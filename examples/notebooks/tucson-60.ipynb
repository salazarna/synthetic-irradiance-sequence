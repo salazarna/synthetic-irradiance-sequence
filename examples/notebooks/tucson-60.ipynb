{
 "cells": [
  {
   "cell_type": "code",
   "execution_count": null,
   "metadata": {},
   "outputs": [],
   "source": [
    "# Set-up\n",
    "%matplotlib inline\n",
    "import matplotlib.pyplot as plt\n",
    "\n",
    "# Built-in python modules\n",
    "import math\n",
    "import datetime\n",
    "import warnings\n",
    "warnings.filterwarnings(action='ignore')\n",
    "\n",
    "# Python add-ons\n",
    "import numpy as np\n",
    "import pandas as pd\n",
    "from statsmodels.api import qqplot\n",
    "\n",
    "# Sandia pvlib-python\n",
    "import pvlib\n",
    "\n",
    "# Synthetic\n",
    "import sys\n",
    "sys.path.insert(1, '../../')\n",
    "import src"
   ]
  },
  {
   "attachments": {},
   "cell_type": "markdown",
   "metadata": {},
   "source": [
    "# 1. Data"
   ]
  },
  {
   "cell_type": "code",
   "execution_count": null,
   "metadata": {},
   "outputs": [],
   "source": [
    "FILE = 'tucson-60'\n",
    "\n",
    "df = pd.read_csv(filepath_or_buffer=f'../data/{FILE}.csv', sep=',', decimal='.', index_col='timestamp', parse_dates=True)\n",
    "\n",
    "# NaN\n",
    "df = df.fillna(0)\n",
    "\n",
    "# Ant data\n",
    "df.loc[df['ghi_wm2'] <= 1.5, 'ghi_wm2'] = 0"
   ]
  },
  {
   "attachments": {},
   "cell_type": "markdown",
   "metadata": {},
   "source": [
    "# 2. Synthetic Irradiance Data Generation"
   ]
  },
  {
   "attachments": {},
   "cell_type": "markdown",
   "metadata": {},
   "source": [
    "## 2.1. Clear-Sky Index"
   ]
  },
  {
   "cell_type": "code",
   "execution_count": null,
   "metadata": {},
   "outputs": [],
   "source": [
    "# Location\n",
    "latitude = 33.45\n",
    "longitude = -112.06\n",
    "tz = 'America/Phoenix'\n",
    "altitude = 680 # [m]\n",
    "\n",
    "location = pvlib.location.Location(latitude, longitude, tz, altitude)"
   ]
  },
  {
   "cell_type": "code",
   "execution_count": null,
   "metadata": {},
   "outputs": [],
   "source": [
    "# Clear-sky irradiance (Hcs)\n",
    "RESOLUTION = int(pd.Series(df.index.values).diff().median().total_seconds()/60)\n",
    "\n",
    "hcs = location.get_clearsky(times=pd.date_range(start=df.index[0] - datetime.timedelta(days=1, hours=0, minutes=0),\n",
    "                                                end=df.index[-1] + datetime.timedelta(days=1, hours=6, minutes=0),\n",
    "                                                freq=f'{RESOLUTION}min',\n",
    "                                                tz=None),\n",
    "                            model='ineichen')"
   ]
  },
  {
   "cell_type": "code",
   "execution_count": null,
   "metadata": {},
   "outputs": [],
   "source": [
    "# Append clear-sky irradiance to main dataframe\n",
    "df = pd.merge(df, hcs['ghi'], left_index=True, right_index=True)\n",
    "df = df.rename(columns={'ghi': 'hcs_wm2'})\n",
    "\n",
    "# Clear-sky index (kc) to main dataframe\n",
    "df['kc'] = df['ghi_wm2'].values / df['hcs_wm2'].values\n",
    "\n",
    "# Filters\n",
    "## NaN\n",
    "df['kc'] = df['kc'].fillna(1)\n",
    "\n",
    "# Replace kc > 1\n",
    "df.loc[df['kc'] > 1, 'kc'] = 1\n",
    "\n",
    "# Time zone adjustment\n",
    "df.index = df.index - datetime.timedelta(days=0, hours=7, minutes=0)\n",
    "\n",
    "aux = df.iloc[0:7]\n",
    "aux.index = aux.index + datetime.timedelta(days=365)\n",
    "df = pd.concat([df.iloc[7::], aux])"
   ]
  },
  {
   "cell_type": "code",
   "execution_count": null,
   "metadata": {},
   "outputs": [],
   "source": [
    "hor = 8\n",
    "ver = 4\n",
    "plt.figure(figsize=(hor, ver), dpi=100)\n",
    "\n",
    "# GHI and Hcs\n",
    "df['ghi_wm2'][0:50].plot(color='dodgerblue', label='Measured', xlabel='Time', ylabel='Irradiance, W/m$^2$', legend=True)\n",
    "df['hcs_wm2'][0:50].plot(color='orange', label='Clear-sky', xlabel='Time', ylabel='Irradiance, W/m$^2$', legend=True)\n",
    "\n",
    "plt.rcParams['axes.axisbelow'] = True\n",
    "\n",
    "plt.title('Irradiance Behavior')\n",
    "plt.xlabel('Time')\n",
    "\n",
    "plt.tick_params(which='major', direction='in', length=5, width=0.75, grid_alpha=0.3)\n",
    "plt.tick_params(which='minor', direction='in', length=2.5, width=0.5, grid_alpha=0.3)\n",
    "plt.xticks(rotation=0)\n",
    "plt.minorticks_on()\n",
    "plt.ylim(0, None)\n",
    "plt.xlim(None, None)\n",
    "plt.grid(True)\n",
    "plt.grid(visible=True, which='major', color='grey', linestyle='-', linewidth=0.5)\n",
    "plt.grid(visible=True, which='minor', color='lightgrey', linestyle='-', linewidth=0.3, alpha=0.2)\n",
    "plt.legend(loc='best', fontsize=9)\n",
    "plt.tight_layout;\n",
    "\n",
    "# kc\n",
    "df['kc'][0:50].plot(color='limegreen', label='$k_c$', secondary_y=True, xlabel='Time', ylabel='$k_c$', legend=True, mark_right=False)\n",
    "\n",
    "plt.tick_params(which='major', direction='in', length=5, width=0.75, grid_alpha=0.3)\n",
    "plt.tick_params(which='minor', direction='in', length=2.5, width=0.5, grid_alpha=0.3)\n",
    "plt.xticks(rotation=0)\n",
    "plt.minorticks_on()\n",
    "plt.ylim(0, None)\n",
    "plt.xlim(None, None)\n",
    "plt.tight_layout;"
   ]
  },
  {
   "attachments": {},
   "cell_type": "markdown",
   "metadata": {},
   "source": [
    "## 2.2. `analysis`: Function to extract descriptive statistics from irradiance data"
   ]
  },
  {
   "cell_type": "code",
   "execution_count": null,
   "metadata": {},
   "outputs": [],
   "source": [
    "TIMES = [f'{i}:0{j}' if j < 10 else f'{i}:{j}' for i in range(0, 24) for j in range(0, 60, RESOLUTION)]\n",
    "\n",
    "MONTHS = {'1': 'Jan', '2': 'Feb', '3': 'Mar', '4': 'Apr', '5': 'May', '6': 'Jun',\n",
    "          '7': 'Jul', '8': 'Aug', '9': 'Sep', '10': 'Oct', '11': 'Nov', '12': 'Dec'}\n",
    "\n",
    "INVERSE_MONTHS = {'Jan': 1, 'Feb': 2, 'Mar': 3, 'Apr': 4, 'May': 5, 'Jun': 6,\n",
    "                  'Jul': 7, 'Aug': 8, 'Sep': 9, 'Oct': 10, 'Nov': 11, 'Dec': 12}\n",
    "\n",
    "MULTIINDEX = [(i,j) for i in range(0, 24) for j in range(0, 60, 5)]\n",
    "\n",
    "XTICKS = np.arange(start=0, stop=len(TIMES), step=50)\n",
    "LABELS = [TIMES[i] for i in XTICKS]"
   ]
  },
  {
   "attachments": {},
   "cell_type": "markdown",
   "metadata": {},
   "source": [
    "### 2.2.1. Shapiro-Wilk, Anderson-Darling and Kolmogorov-Smirnov tests"
   ]
  },
  {
   "cell_type": "code",
   "execution_count": null,
   "metadata": {},
   "outputs": [],
   "source": [
    "LOOP_YEARS = df.index.year.unique().values\n",
    "LOOP_MONTHS = df.index.month.unique().values\n",
    "LOOP_SC = ['sc1', 'sc2', 'sc3', 'sc4', 'sc5']\n",
    "\n",
    "LOOP_ANALYSIS = {}\n",
    "\n",
    "for i in LOOP_YEARS:\n",
    "    for j in LOOP_MONTHS:\n",
    "        LOOP_ANALYSIS[f'{MONTHS[str(j)]}{i}'] = src.utils.analysis(df=df, year=i, month=j, irradiance_column='ghi_wm2', resolution=RESOLUTION, plot=False)"
   ]
  },
  {
   "cell_type": "code",
   "execution_count": null,
   "metadata": {},
   "outputs": [],
   "source": [
    "# For high resolution (e.g., 5 min), this cell takes ~10 min to run\n",
    "\n",
    "DISTRIBUTIONS = pd.DataFrame()\n",
    "\n",
    "for z in LOOP_ANALYSIS.keys():\n",
    "    i = int(z[3:7]) # Year\n",
    "    j = INVERSE_MONTHS[z[0:3]] # Month\n",
    "\n",
    "    for k in LOOP_SC:\n",
    "        df_to_check = LOOP_ANALYSIS[z]['bootstrap'][k]\n",
    "\n",
    "        if (df_to_check.empty != True) and (len(df_to_check) >= 3):\n",
    "            aux_df = pd.DataFrame(data={'year':i,\n",
    "                                        'month': j,\n",
    "                                        'sc': k,\n",
    "                                        'shapiro_wilk': [src.utils.shapiro_wilk(data=d) for d in df_to_check.T.values],\n",
    "                                        'anderson_darling': [src.utils.anderson_darling(data=d) for d in df_to_check.T.values],\n",
    "                                        'lognormal_test': [src.utils.lognormal_test(data=d) for d in df_to_check.T.values]},\n",
    "                                  index=df_to_check.columns).iloc[TIMES.index('6:00'):TIMES.index('18:00'),:] # 6:15 to 17:45h\n",
    "\n",
    "            DISTRIBUTIONS = pd.concat([DISTRIBUTIONS, aux_df])\n",
    "\n",
    "DISTRIBUTIONS.to_csv(f'../distributions/{FILE}/distributions.csv')\n",
    "\n",
    "DISTRIBUTIONS.describe()"
   ]
  },
  {
   "cell_type": "code",
   "execution_count": null,
   "metadata": {},
   "outputs": [],
   "source": [
    "# Gaussian distribution\n",
    "complete_gaussian = (len(DISTRIBUTIONS[(DISTRIBUTIONS['shapiro_wilk'] > 0.05) & (DISTRIBUTIONS['anderson_darling'] == 1)]) / len(DISTRIBUTIONS)) * 100\n",
    "print(f'{np.round(a=complete_gaussian, decimals=2)}% of the total data behaves as a Gaussian distribution according to Shapiro-Wilk and Anderson-Darling tests.')\n",
    "\n",
    "# Lognormal distribution\n",
    "complete_lognormal = (len(DISTRIBUTIONS[(DISTRIBUTIONS['lognormal_test'] > 0.05)]) / len(DISTRIBUTIONS)) * 100\n",
    "print(f'{np.round(a=complete_lognormal, decimals=2)}% of the total data behaves as a lognormal distribution.')\n",
    "\n",
    "# Gaussian or lognormal\n",
    "gaussian_or_lognormal = (len(DISTRIBUTIONS[((DISTRIBUTIONS['shapiro_wilk'] > 0.05) & (DISTRIBUTIONS['anderson_darling'] == 1)) | (DISTRIBUTIONS['lognormal_test'] > 0.05)]) / len(DISTRIBUTIONS)) * 100\n",
    "print(f'{np.round(a=gaussian_or_lognormal, decimals=2)}% of the total data behaves either Gaussian or lognormal distribution.')"
   ]
  },
  {
   "cell_type": "code",
   "execution_count": null,
   "metadata": {},
   "outputs": [],
   "source": [
    "GROUPED_DISTRIBUTIONS = DISTRIBUTIONS.groupby(by=['year', 'month', 'sc']).mean().round(decimals=2).astype({'anderson_darling': int})\n",
    "GROUPED_DISTRIBUTIONS.to_csv(f'../distributions/{FILE}/grouped.csv')\n",
    "\n",
    "GROUPED_DISTRIBUTIONS.describe()"
   ]
  },
  {
   "cell_type": "code",
   "execution_count": null,
   "metadata": {},
   "outputs": [],
   "source": [
    "# Gaussian distribution\n",
    "grouped_gaussian = (len(GROUPED_DISTRIBUTIONS[(GROUPED_DISTRIBUTIONS['shapiro_wilk'] > 0.05) & (GROUPED_DISTRIBUTIONS['anderson_darling'] == 1)]) / len(GROUPED_DISTRIBUTIONS)) * 100\n",
    "print(f'{np.round(a=grouped_gaussian, decimals=2)}% of the total data behaves as a Gaussian distribution according to Shapiro-Wilk and Anderson-Darling tests.')\n",
    "\n",
    "# Lognormal distribution\n",
    "grouped_lognormal = (len(GROUPED_DISTRIBUTIONS[(GROUPED_DISTRIBUTIONS['lognormal_test'] > 0.05)]) / len(GROUPED_DISTRIBUTIONS)) * 100\n",
    "print(f'{np.round(a=grouped_lognormal, decimals=2)}% of the total data behaves as a lognormal distribution.')\n",
    "\n",
    "# Gaussian or lognormal\n",
    "grouped_gaussian_or_lognormal = (len(GROUPED_DISTRIBUTIONS[((GROUPED_DISTRIBUTIONS['shapiro_wilk'] > 0.05) & (GROUPED_DISTRIBUTIONS['anderson_darling'] == 1)) | (GROUPED_DISTRIBUTIONS['lognormal_test'] > 0.05)]) / len(GROUPED_DISTRIBUTIONS)) * 100\n",
    "print(f'{np.round(a=grouped_gaussian_or_lognormal, decimals=2)}% of the total data behaves either Gaussian or lognormal distribution.')"
   ]
  },
  {
   "cell_type": "code",
   "execution_count": null,
   "metadata": {},
   "outputs": [],
   "source": [
    "aux_grouped_distributions = GROUPED_DISTRIBUTIONS.groupby(['year', 'month']).mean()\n",
    "x_axis = [f'{MONTHS[str(i[1])]}\\n{i[0]}' for i in aux_grouped_distributions.index]\n",
    "\n",
    "XTICKS = np.arange(start=0, stop=len(x_axis), step=5)\n",
    "LABELS = [x_axis[i] for i in XTICKS]\n",
    "\n",
    "hor = 15\n",
    "ver = 5\n",
    "plt.figure(figsize=(hor,ver), dpi=100)\n",
    "\n",
    "plt.plot(aux_grouped_distributions['shapiro_wilk'].values, color='dodgerblue', label='Shapiro-Wilk Test')\n",
    "plt.plot(aux_grouped_distributions['lognormal_test'].values, color='orange', label='KS Test (Lognormal)')\n",
    "plt.axhline(y=0.05, linewidth=0.8, color='tomato', label='Significance Level (0.05)', zorder=0)\n",
    "\n",
    "plt.title(f'Statistical Distribution Goodness of Fit')\n",
    "plt.ylabel('p-value')\n",
    "plt.xlabel('Time')\n",
    "plt.tick_params(which='major', direction='in', length=5, width=0.75, grid_alpha=0.3)\n",
    "plt.tick_params(which='minor', direction='in', length=2.5, width=0.5, grid_alpha=0.3)\n",
    "plt.xticks(rotation=0, ticks=XTICKS, labels=LABELS)\n",
    "plt.minorticks_on()\n",
    "plt.ylim(0, 1)\n",
    "plt.xlim(0, len(aux_grouped_distributions)-1)\n",
    "plt.grid(True)\n",
    "plt.grid(visible=True, which='major', color='grey', linestyle='-', linewidth=0.5)\n",
    "plt.grid(visible=True, which='minor', color='lightgrey', linestyle='-', linewidth=0.3, alpha=0.2)\n",
    "plt.tight_layout\n",
    "plt.legend(loc='best', fontsize=9) # bbox_to_anchor=(1,1)"
   ]
  },
  {
   "attachments": {},
   "cell_type": "markdown",
   "metadata": {},
   "source": [
    "### 2.2.2. Histogram (Gaussian or lognormal distributions)"
   ]
  },
  {
   "cell_type": "code",
   "execution_count": null,
   "metadata": {},
   "outputs": [],
   "source": [
    "# Constants\n",
    "TIMES = [f'{i}:0{j}' if j < 10 else f'{i}:{j}' for i in range(0, 24) for j in range(0, 60, RESOLUTION)]\n",
    "\n",
    "MONTHS = {'1': 'Jan', '2': 'Feb', '3': 'Mar', '4': 'Apr', '5': 'May', '6': 'Jun',\n",
    "          '7': 'Jul', '8': 'Aug', '9': 'Sep', '10': 'Oct', '11': 'Nov', '12': 'Dec'}\n",
    "\n",
    "XTICKS = np.arange(start=0, stop=len(TIMES), step=10)\n",
    "LABELS = [TIMES[i] for i in XTICKS]\n",
    "\n",
    "# src.utils.analysis function example\n",
    "YEAR = 2021\n",
    "MONTH = 1\n",
    "\n",
    "ANALYSIS = src.utils.analysis(df=df, year=YEAR, month=MONTH, irradiance_column='ghi_wm2', resolution=RESOLUTION, plot=False)"
   ]
  },
  {
   "cell_type": "code",
   "execution_count": null,
   "metadata": {},
   "outputs": [],
   "source": [
    "HOUR = 13\n",
    "MINUTE = 0\n",
    "SC = 'sc5'\n",
    "\n",
    "df_to_hist = df[(df.index.year == YEAR) & (df.index.month == MONTH) & (df.index.day.isin(ANALYSIS['bootstrap'][SC].index)) & (df.index.hour == HOUR) & (df.index.minute == MINUTE)]['ghi_wm2'].values\n",
    "\n",
    "hor = 8\n",
    "ver = 5\n",
    "plt.figure(figsize=(hor,ver))\n",
    "\n",
    "plt.hist(x=df_to_hist, bins='auto', color='lightgrey', alpha=0.7, edgecolor='black', linewidth=0.5);\n",
    "\n",
    "plt.title(f'Histogram for {MONTHS[str(MONTH)]}-{YEAR} at {HOUR}:{MINUTE}h ({str.upper(SC)})')\n",
    "plt.ylabel('Irradiance, $W/m^2$')\n",
    "plt.xlabel('Time')\n",
    "plt.tick_params(which='major', direction='in', length=5, width=0.75, grid_alpha=0.3)\n",
    "plt.tick_params(which='minor', direction='in', length=2.5, width=0.5, grid_alpha=0.3)\n",
    "plt.xticks(rotation=0)\n",
    "plt.minorticks_on()\n",
    "plt.ylim(0, None)\n",
    "plt.xlim(None, None)\n",
    "plt.grid(True)\n",
    "plt.grid(visible=True, which='major', color='grey', linestyle='-', linewidth=0.5)\n",
    "plt.grid(visible=True, which='minor', color='lightgrey', linestyle='-', linewidth=0.3, alpha=0.2)\n",
    "plt.tight_layout\n",
    "#plt.legend(loc='best', fontsize=9) # bbox_to_anchor=(1,1)"
   ]
  },
  {
   "attachments": {},
   "cell_type": "markdown",
   "metadata": {},
   "source": [
    "### 2.2.3. QQ-Plots"
   ]
  },
  {
   "cell_type": "code",
   "execution_count": null,
   "metadata": {},
   "outputs": [],
   "source": [
    "hor = 8\n",
    "ver = 5\n",
    "plt.figure(figsize=(hor,ver))\n",
    "\n",
    "qqplot(df_to_hist, line='q', markerfacecolor='blue')\n",
    "\n",
    "plt.title(f'Histogram for {MONTHS[str(MONTH)]}-{YEAR} at {HOUR}:{MINUTE}h ({str.upper(SC)})')\n",
    "#plt.ylabel()\n",
    "#plt.xlabel()\n",
    "plt.tick_params(which='major', direction='in', length=5, width=0.75, grid_alpha=0.3)\n",
    "plt.tick_params(which='minor', direction='in', length=2.5, width=0.5, grid_alpha=0.3)\n",
    "plt.xticks(rotation=0)\n",
    "plt.minorticks_on()\n",
    "plt.ylim(None, None)\n",
    "plt.xlim(None, None)\n",
    "plt.grid(True)\n",
    "plt.grid(visible=True, which='major', color='grey', linestyle='-', linewidth=0.5)\n",
    "plt.grid(visible=True, which='minor', color='lightgrey', linestyle='-', linewidth=0.3, alpha=0.2)\n",
    "plt.tight_layout\n",
    "#plt.legend(loc='best', fontsize=9) # bbox_to_anchor=(1,1)"
   ]
  },
  {
   "attachments": {},
   "cell_type": "markdown",
   "metadata": {},
   "source": [
    "# 3. Validations"
   ]
  },
  {
   "cell_type": "code",
   "execution_count": null,
   "metadata": {},
   "outputs": [],
   "source": [
    "SYNTHETIC = {'stochastic': {}, 'bootstrap': {}}\n",
    "IC = 0.95\n",
    "RUNS = 5\n",
    "\n",
    "for i in LOOP_YEARS:\n",
    "    for j in LOOP_MONTHS:\n",
    "        for k in LOOP_SC:\n",
    "            # Stochastic\n",
    "            SYNTHETIC['stochastic'][f'{MONTHS[str(j)]}{i}-{k}'] = src.methods.autoregressive(data=df,\n",
    "                                                                                             irradiance_column='ghi_wm2',\n",
    "                                                                                             year=i,\n",
    "                                                                                             month=j,\n",
    "                                                                                             sky_condition=k,\n",
    "                                                                                             method='stochastic',\n",
    "                                                                                             IC=IC,\n",
    "                                                                                             resolution=RESOLUTION,\n",
    "                                                                                             runs=RUNS)\n",
    "            # Bootstrap\n",
    "            SYNTHETIC['bootstrap'][f'{MONTHS[str(j)]}{i}-{k}'] = src.methods.autoregressive(data=df,\n",
    "                                                                                            irradiance_column='ghi_wm2',\n",
    "                                                                                            year=i,\n",
    "                                                                                            month=j,\n",
    "                                                                                            sky_condition=k,\n",
    "                                                                                            method='bootstrap',\n",
    "                                                                                            IC=IC,\n",
    "                                                                                            resolution=RESOLUTION,\n",
    "                                                                                            runs=RUNS)"
   ]
  },
  {
   "attachments": {},
   "cell_type": "markdown",
   "metadata": {},
   "source": [
    "## 3.1. Variability metrics"
   ]
  },
  {
   "cell_type": "code",
   "execution_count": null,
   "metadata": {},
   "outputs": [],
   "source": [
    "VARIABILITY_METRICS = {'stochastic': {}, 'bootstrap': {}}\n",
    "RUNS = 5\n",
    "\n",
    "for m in ['stochastic', 'bootstrap']:\n",
    "    for z in SYNTHETIC[m].keys():\n",
    "        i = int(z[3:7]) # Year\n",
    "        j = INVERSE_MONTHS[z[0:3]] # Month\n",
    "        k = z[8:11] # Sky condition\n",
    "\n",
    "        metrics = {'standard_deviation_increments': [[], []],\n",
    "                    'stability_index': [[], []],\n",
    "                    'iccdf': [[], []],\n",
    "                    'variability_index': [[], []]}\n",
    "\n",
    "        for _ in range(RUNS):\n",
    "            try:\n",
    "                aux = LOOP_ANALYSIS[f'{MONTHS[str(j)]}{i}']['bootstrap'][k].T.sample(n=1, axis=1)\n",
    "                sample1 = aux.values.flatten()\n",
    "                sample2 = SYNTHETIC[m][f'{MONTHS[str(j)]}{i}-{k}'].sample(n=1, axis=1).values.flatten()\n",
    "\n",
    "                # Standard deviation of increments (SDI)\n",
    "                metrics['standard_deviation_increments'][0].append(src.metrics.standard_deviation_increments(data=sample1))\n",
    "                metrics['standard_deviation_increments'][1].append(src.metrics.standard_deviation_increments(data=sample2))\n",
    "\n",
    "                # Stability index (SI)\n",
    "                metrics['stability_index'][0].append(src.metrics.stability_index(data=sample1, threshold=100))\n",
    "                metrics['stability_index'][1].append(src.metrics.stability_index(data=sample2, threshold=100))\n",
    "\n",
    "                # Integrated complementary cumulative distribution function (ICCDF)\n",
    "                metrics['iccdf'][0].append(src.metrics.iccdf(data=sample1))\n",
    "                metrics['iccdf'][1].append(src.metrics.iccdf(data=sample2))\n",
    "\n",
    "                # Variability index (VI)\n",
    "                temp = df.loc[(df.index.year == i) & (df.index.month == j) & (df.index.day == aux.columns[0])]\n",
    "                metrics['variability_index'][0].append(src.metrics.variability_index(timestamps=temp.index, ghi=sample1, hcs=temp['hcs_wm2'].values).mean())\n",
    "                metrics['variability_index'][1].append(src.metrics.variability_index(timestamps=temp.index, ghi=sample2, hcs=temp['hcs_wm2'].values).mean())\n",
    "\n",
    "            except:\n",
    "                pass\n",
    "\n",
    "        for _ in metrics.keys():\n",
    "            metrics[_] = np.mean(metrics[_], axis=1)\n",
    "\n",
    "        VARIABILITY_METRICS[m][f'{MONTHS[str(j)]}{i}-{k}'] = metrics"
   ]
  },
  {
   "cell_type": "code",
   "execution_count": null,
   "metadata": {},
   "outputs": [],
   "source": [
    "metrics_stochastic = pd.DataFrame(VARIABILITY_METRICS['stochastic']).T\n",
    "metrics_bootstrap = pd.DataFrame(VARIABILITY_METRICS['bootstrap']).T\n",
    "\n",
    "# Stochastic\n",
    "pe_stochastic = metrics_stochastic * 0\n",
    "pe_stochastic['month'] = [INVERSE_MONTHS[i[0:3]] for i in pe_stochastic.index]\n",
    "pe_stochastic['sc'] = [i[8:11] for i in pe_stochastic.index]\n",
    "\n",
    "for i in metrics_stochastic.columns:\n",
    "    pe_stochastic[i] = [src.metrics.wrapper_percentage_error(j) for j in metrics_stochastic[i]]\n",
    "\n",
    "pe_stochastic = pe_stochastic.fillna(0)\n",
    "\n",
    "# Bootstrap\n",
    "pe_bootstrap = metrics_bootstrap * 0\n",
    "pe_bootstrap['month'] = [INVERSE_MONTHS[i[0:3]] for i in pe_bootstrap.index]\n",
    "pe_bootstrap['sc'] = [i[8:11] for i in pe_bootstrap.index]\n",
    "\n",
    "for i in metrics_bootstrap.columns:\n",
    "    pe_bootstrap[i] = [src.metrics.wrapper_percentage_error(j) for j in metrics_bootstrap[i]]\n",
    "\n",
    "pe_bootstrap = pe_bootstrap.fillna(0)"
   ]
  },
  {
   "cell_type": "code",
   "execution_count": null,
   "metadata": {},
   "outputs": [],
   "source": [
    "# Percentage error monthly average\n",
    "VM_STOCHASTIC_MONTH = pe_stochastic.groupby(by='month').mean().round(decimals=2)\n",
    "VM_BOOTSTRAP_MONTH = pe_bootstrap.groupby(by='month').mean().round(decimals=2)\n",
    "\n",
    "# Percentage error sky condition average\n",
    "VM_STOCHASTIC_SC = pe_stochastic.groupby(by='sc').mean().round(decimals=2)\n",
    "VM_BOOTSTRAP_SC = pe_bootstrap.groupby(by='sc').mean().round(decimals=2)"
   ]
  },
  {
   "cell_type": "code",
   "execution_count": null,
   "metadata": {},
   "outputs": [],
   "source": [
    "# Download\n",
    "VM_STOCHASTIC_MONTH.to_csv(f'../metrics/variability/{FILE}/stochastic_month.csv')\n",
    "VM_BOOTSTRAP_MONTH.to_csv(f'../metrics/variability/{FILE}/bootstrap_month.csv')\n",
    "VM_STOCHASTIC_SC.to_csv(f'../metrics/variability/{FILE}/stochastic_sc.csv')\n",
    "VM_BOOTSTRAP_SC.to_csv(f'../metrics/variability/{FILE}/bootstrap_sc.csv')"
   ]
  },
  {
   "attachments": {},
   "cell_type": "markdown",
   "metadata": {},
   "source": [
    "## 3.2. Comparison of statistical distributions"
   ]
  },
  {
   "cell_type": "code",
   "execution_count": null,
   "metadata": {},
   "outputs": [],
   "source": [
    "STATISTICAL_METRICS = {'stochastic': {}, 'bootstrap': {}}\n",
    "RUNS = 5\n",
    "\n",
    "for m in ['stochastic', 'bootstrap']:\n",
    "    for z in SYNTHETIC[m].keys():\n",
    "        i = int(z[3:7]) # Year\n",
    "        j = INVERSE_MONTHS[z[0:3]] # Month\n",
    "        k = z[8:11] # Sky condition\n",
    "\n",
    "        metrics = {'kolmogorov_smirnov': [],\n",
    "                   'kullback_leibler_divergence': [],\n",
    "                   'overlapping_coefficient': []}\n",
    "\n",
    "        for _ in range(RUNS):\n",
    "            try:\n",
    "                sample1 = LOOP_ANALYSIS[f'{MONTHS[str(j)]}{i}']['bootstrap'][k].T.sample(n=1, axis=1).values.flatten()\n",
    "                sample2 = SYNTHETIC[m][f'{MONTHS[str(j)]}{i}-{k}'].sample(n=1, axis=1).values.flatten()\n",
    "\n",
    "                # Kolmogorov-Smirnov Test (KS)\n",
    "                metrics['kolmogorov_smirnov'].append(src.metrics.kolmogorov_smirnov(sample1=sample1, sample2=sample2))\n",
    "\n",
    "                # Kullback-Leibler Divergence (KLD)\n",
    "                metrics['kullback_leibler_divergence'].append(src.metrics.kullback_leibler_divergence(sample1=sample1, sample2=sample2))\n",
    "\n",
    "                # Overlapping coefficient (OVC)\n",
    "                metrics['overlapping_coefficient'].append(src.metrics.overlapping_coefficient(sample1=sample1, sample2=sample2))\n",
    "\n",
    "            except:\n",
    "                pass\n",
    "\n",
    "        for _ in metrics.keys():\n",
    "            metrics[_] = np.mean(metrics[_])\n",
    "\n",
    "        STATISTICAL_METRICS[m][f'{MONTHS[str(j)]}{i}-{k}'] = metrics"
   ]
  },
  {
   "cell_type": "code",
   "execution_count": null,
   "metadata": {},
   "outputs": [],
   "source": [
    "ovc = pd.Series([STATISTICAL_METRICS['bootstrap'][i]['overlapping_coefficient'] for i in STATISTICAL_METRICS['bootstrap'].keys()])"
   ]
  },
  {
   "cell_type": "code",
   "execution_count": null,
   "metadata": {},
   "outputs": [],
   "source": [
    "# Stochastic\n",
    "metrics_stochastic = pd.DataFrame(STATISTICAL_METRICS['stochastic']).T\n",
    "metrics_stochastic['month'] = [INVERSE_MONTHS[i[0:3]] for i in metrics_stochastic.index]\n",
    "metrics_stochastic['sc'] = [i[8:11] for i in metrics_stochastic.index]\n",
    "metrics_stochastic = metrics_stochastic.fillna(0)\n",
    "\n",
    "# Bootstrap\n",
    "metrics_bootstrap = pd.DataFrame(STATISTICAL_METRICS['bootstrap']).T\n",
    "metrics_bootstrap['month'] = [INVERSE_MONTHS[i[0:3]] for i in metrics_bootstrap.index]\n",
    "metrics_bootstrap['sc'] = [i[8:11] for i in metrics_bootstrap.index]\n",
    "metrics_bootstrap = metrics_bootstrap.fillna(0)"
   ]
  },
  {
   "cell_type": "code",
   "execution_count": null,
   "metadata": {},
   "outputs": [],
   "source": [
    "# Monthly average\n",
    "SM_STOCHASTIC_MONTH = metrics_stochastic.groupby(by='month').mean().round(decimals=2)\n",
    "SM_BOOTSTRAP_MONTH = metrics_bootstrap.groupby(by='month').mean().round(decimals=2)\n",
    "\n",
    "# Sky condition average\n",
    "SM_STOCHASTIC_SC = metrics_stochastic.groupby(by='sc').mean().round(decimals=2)\n",
    "SM_BOOTSTRAP_SC = metrics_bootstrap.groupby(by='sc').mean().round(decimals=2)"
   ]
  },
  {
   "cell_type": "code",
   "execution_count": null,
   "metadata": {},
   "outputs": [],
   "source": [
    "# Download\n",
    "SM_STOCHASTIC_MONTH.to_csv(f'../metrics/statistical/{FILE}/stochastic_month.csv')\n",
    "SM_BOOTSTRAP_MONTH.to_csv(f'../metrics/statistical/{FILE}/bootstrap_month.csv')\n",
    "SM_STOCHASTIC_SC.to_csv(f'../metrics/statistical/{FILE}/stochastic_sc.csv')\n",
    "SM_BOOTSTRAP_SC.to_csv(f'../metrics/statistical/{FILE}/bootstrap_sc.csv')"
   ]
  },
  {
   "attachments": {},
   "cell_type": "markdown",
   "metadata": {},
   "source": [
    "## 3.3. Energy production"
   ]
  },
  {
   "cell_type": "code",
   "execution_count": null,
   "metadata": {},
   "outputs": [],
   "source": [
    "INVERTER = pvlib.pvsystem.retrieve_sam(name='CECInverter')['ABB__TRIO_50_0_TL_OUTD_US_480__480V_']\n",
    "MODULE = pvlib.pvsystem.retrieve_sam(name='CECMod')['LG_Electronics_Inc__LG400N2W_A5']\n",
    "MPS = 16 # Modules per string\n",
    "SPI = 8 # Strings per inverter\n",
    "LOSS = 26.9"
   ]
  },
  {
   "cell_type": "code",
   "execution_count": null,
   "metadata": {},
   "outputs": [],
   "source": [
    "# Module temperature with NOCT equation\n",
    "df['tmod_c'] = df['tamb_c'] + (((MODULE['T_NOCT'] - 20)/800) * df['ghi_wm2'])\n",
    "\n",
    "TMOD = np.mean(df['tmod_c'].loc[(df.index.hour >= 6) & (df.index.hour < 18)])"
   ]
  },
  {
   "cell_type": "code",
   "execution_count": null,
   "metadata": {},
   "outputs": [],
   "source": [
    "ENERGY_METRIC = {'stochastic': {}, 'bootstrap': {}}\n",
    "RUNS = 5\n",
    "\n",
    "for m in ['stochastic', 'bootstrap']:\n",
    "    for z in SYNTHETIC[m].keys():\n",
    "        i = int(z[3:7]) # Year\n",
    "        j = INVERSE_MONTHS[z[0:3]] # Month\n",
    "        k = z[8:11] # Sky condition\n",
    "\n",
    "        metrics = [[], []]\n",
    "\n",
    "        for _ in range(RUNS):\n",
    "            try:\n",
    "                sample1 = LOOP_ANALYSIS[f'{MONTHS[str(j)]}{i}']['bootstrap'][k].T.sample(n=1, axis=1).values.flatten()\n",
    "                sample2 = SYNTHETIC[m][f'{MONTHS[str(j)]}{i}-{k}'].sample(n=1, axis=1).values.flatten()\n",
    "\n",
    "                # Energy production\n",
    "                metrics[0].append(src.metrics.energy(irradiance=sample1, resolution=RESOLUTION, tmod=TMOD, inverter=INVERTER, module=MODULE, mps=MPS, spi=SPI, loss=LOSS))\n",
    "                metrics[1].append(src.metrics.energy(irradiance=sample2, resolution=RESOLUTION, tmod=TMOD, inverter=INVERTER, module=MODULE, mps=MPS, spi=SPI, loss=LOSS))\n",
    "\n",
    "            except:\n",
    "                pass\n",
    "\n",
    "        ENERGY_METRIC[m][f'{MONTHS[str(j)]}{i}-{k}'] = np.mean(metrics, axis=1)"
   ]
  },
  {
   "cell_type": "code",
   "execution_count": null,
   "metadata": {},
   "outputs": [],
   "source": [
    "# Stochastic\n",
    "metrics_stochastic = pd.DataFrame(ENERGY_METRIC['stochastic'], index=['real', 'synthetic']).T\n",
    "metrics_stochastic['month'] = [INVERSE_MONTHS[i[0:3]] for i in metrics_stochastic.index]\n",
    "metrics_stochastic['sc'] = [i[8:11] for i in metrics_stochastic.index]\n",
    "metrics_stochastic['percentage_error'] = src.metrics.percentage_error(target=metrics_stochastic['real'], predicted=metrics_stochastic['synthetic'])\n",
    "metrics_stochastic = metrics_stochastic.fillna(0)\n",
    "\n",
    "# Bootstrap\n",
    "metrics_bootstrap = pd.DataFrame(ENERGY_METRIC['bootstrap'], index=['real', 'synthetic']).T\n",
    "metrics_bootstrap['month'] = [INVERSE_MONTHS[i[0:3]] for i in metrics_bootstrap.index]\n",
    "metrics_bootstrap['sc'] = [i[8:11] for i in metrics_bootstrap.index]\n",
    "metrics_bootstrap['percentage_error'] = src.metrics.percentage_error(target=metrics_bootstrap['real'], predicted=metrics_bootstrap['synthetic'])\n",
    "metrics_bootstrap = metrics_bootstrap.fillna(0)"
   ]
  },
  {
   "cell_type": "code",
   "execution_count": null,
   "metadata": {},
   "outputs": [],
   "source": [
    "# Percentage error monthly average\n",
    "EM_STOCHASTIC_MONTH = metrics_stochastic.groupby(by='month').mean().round(decimals=2)\n",
    "EM_BOOTSTRAP_MONTH = metrics_bootstrap.groupby(by='month').mean().round(decimals=2)\n",
    "\n",
    "# Percentage error sky condition average\n",
    "EM_STOCHASTIC_SC = metrics_stochastic.groupby(by='sc').mean().round(decimals=2)\n",
    "EM_BOOTSTRAP_SC = metrics_bootstrap.groupby(by='sc').mean().round(decimals=2)"
   ]
  },
  {
   "cell_type": "code",
   "execution_count": null,
   "metadata": {},
   "outputs": [],
   "source": [
    "# Download\n",
    "EM_STOCHASTIC_MONTH.to_csv(f'../metrics/energy/{FILE}/stochastic_month.csv')\n",
    "EM_BOOTSTRAP_MONTH.to_csv(f'../metrics/energy/{FILE}/bootstrap_month.csv')\n",
    "EM_STOCHASTIC_SC.to_csv(f'../metrics/energy/{FILE}/stochastic_sc.csv')\n",
    "EM_BOOTSTRAP_SC.to_csv(f'../metrics/energy/{FILE}/bootstrap_sc.csv')"
   ]
  },
  {
   "attachments": {},
   "cell_type": "markdown",
   "metadata": {},
   "source": [
    "## 3.4. Cumulative density functions (CDF)"
   ]
  },
  {
   "cell_type": "code",
   "execution_count": null,
   "metadata": {},
   "outputs": [],
   "source": [
    "YY = 2021\n",
    "MM = 'Jan'\n",
    "\n",
    "for i in LOOP_SC[1::]:\n",
    "    x, y = src.utils.cdf(data=LOOP_ANALYSIS[f'{MM}{YY}']['bootstrap'][i].T.sample(n=1, axis=1).iloc[:,0].values)\n",
    "    xs, ys = src.utils.cdf(data=SYNTHETIC['stochastic'][f'{MM}{YY}-{i}'].sample(n=1, axis=1).iloc[:,0].values)\n",
    "    xb, yb = src.utils.cdf(data=SYNTHETIC['bootstrap'][f'{MM}{YY}-{i}'].sample(n=1, axis=1).iloc[:,0].values)\n",
    "\n",
    "    hor = 6\n",
    "    ver = 5\n",
    "    plt.figure(figsize=(hor,ver), dpi=100)\n",
    "\n",
    "    plt.plot(x, y, color='dodgerblue', label='Measured')\n",
    "    plt.plot(xs, ys, color='orange', label='Synthetic (Stochastic)')\n",
    "    plt.plot(xb, yb, color='tomato', label='Synthetic (Bootstrap)')\n",
    "\n",
    "    plt.title(f'CDF Comparison ({MM}-{YY} {str.upper(i)})')\n",
    "    plt.ylabel('Cumulative Probability')\n",
    "    plt.xlabel('Irradiance, $W/m^2$')\n",
    "    plt.tick_params(which='major', direction='in', length=5, width=0.75, grid_alpha=0.3)\n",
    "    plt.tick_params(which='minor', direction='in', length=2.5, width=0.5, grid_alpha=0.3)\n",
    "    plt.xticks(rotation=0)\n",
    "    plt.minorticks_on()\n",
    "    plt.ylim(0, 1)\n",
    "    plt.xlim(-10, None)\n",
    "    plt.grid(True)\n",
    "    plt.grid(visible=True, which='major', color='grey', linestyle='-', linewidth=0.5)\n",
    "    plt.grid(visible=True, which='minor', color='lightgrey', linestyle='-', linewidth=0.3, alpha=0.2)\n",
    "    plt.tight_layout\n",
    "    plt.legend(loc='center right', fontsize=9) # bbox_to_anchor=(1,1)"
   ]
  }
 ],
 "metadata": {
  "kernelspec": {
   "display_name": "synt",
   "language": "python",
   "name": "python3"
  },
  "language_info": {
   "codemirror_mode": {
    "name": "ipython",
    "version": 3
   },
   "file_extension": ".py",
   "mimetype": "text/x-python",
   "name": "python",
   "nbconvert_exporter": "python",
   "pygments_lexer": "ipython3",
   "version": "3.11.0"
  },
  "vscode": {
   "interpreter": {
    "hash": "c8c41bbeb946ed25b91e141bf4af078b4c4a33e6b170bac4b92dc96c97838c02"
   }
  }
 },
 "nbformat": 4,
 "nbformat_minor": 4
}
