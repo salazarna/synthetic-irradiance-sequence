{
 "cells": [
  {
   "cell_type": "code",
   "execution_count": 1,
   "metadata": {},
   "outputs": [],
   "source": [
    "# Set-up\n",
    "%matplotlib inline\n",
    "import matplotlib.pyplot as plt\n",
    "\n",
    "# Built-in python modules\n",
    "import math\n",
    "import datetime\n",
    "import warnings\n",
    "warnings.filterwarnings(action='ignore')\n",
    "\n",
    "# Python add-ons\n",
    "import numpy as np\n",
    "import pandas as pd\n",
    "from statsmodels.api import qqplot\n",
    "\n",
    "# Sandia pvlib-python\n",
    "import pvlib\n",
    "\n",
    "# Synthetic\n",
    "import sys\n",
    "sys.path.insert(1, '../../')\n",
    "import src"
   ]
  },
  {
   "attachments": {},
   "cell_type": "markdown",
   "metadata": {},
   "source": [
    "# 1. Data"
   ]
  },
  {
   "cell_type": "code",
   "execution_count": 2,
   "metadata": {},
   "outputs": [
    {
     "data": {
      "text/html": [
       "<div>\n",
       "<style scoped>\n",
       "    .dataframe tbody tr th:only-of-type {\n",
       "        vertical-align: middle;\n",
       "    }\n",
       "\n",
       "    .dataframe tbody tr th {\n",
       "        vertical-align: top;\n",
       "    }\n",
       "\n",
       "    .dataframe thead th {\n",
       "        text-align: right;\n",
       "    }\n",
       "</style>\n",
       "<table border=\"1\" class=\"dataframe\">\n",
       "  <thead>\n",
       "    <tr style=\"text-align: right;\">\n",
       "      <th></th>\n",
       "      <th>ghi_wm2</th>\n",
       "      <th>poa_wm2</th>\n",
       "      <th>tmod_c</th>\n",
       "      <th>tamb_c</th>\n",
       "    </tr>\n",
       "    <tr>\n",
       "      <th>timestamp</th>\n",
       "      <th></th>\n",
       "      <th></th>\n",
       "      <th></th>\n",
       "      <th></th>\n",
       "    </tr>\n",
       "  </thead>\n",
       "  <tbody>\n",
       "    <tr>\n",
       "      <th>2020-01-01 00:00:00</th>\n",
       "      <td>0.0</td>\n",
       "      <td>0.0</td>\n",
       "      <td>13.608</td>\n",
       "      <td>26.528</td>\n",
       "    </tr>\n",
       "    <tr>\n",
       "      <th>2020-01-01 00:30:00</th>\n",
       "      <td>0.0</td>\n",
       "      <td>0.0</td>\n",
       "      <td>12.301</td>\n",
       "      <td>24.214</td>\n",
       "    </tr>\n",
       "    <tr>\n",
       "      <th>2020-01-01 01:00:00</th>\n",
       "      <td>0.0</td>\n",
       "      <td>0.0</td>\n",
       "      <td>11.561</td>\n",
       "      <td>22.762</td>\n",
       "    </tr>\n",
       "    <tr>\n",
       "      <th>2020-01-01 01:30:00</th>\n",
       "      <td>0.0</td>\n",
       "      <td>0.0</td>\n",
       "      <td>10.887</td>\n",
       "      <td>21.537</td>\n",
       "    </tr>\n",
       "    <tr>\n",
       "      <th>2020-01-01 02:00:00</th>\n",
       "      <td>0.0</td>\n",
       "      <td>0.0</td>\n",
       "      <td>10.652</td>\n",
       "      <td>21.007</td>\n",
       "    </tr>\n",
       "  </tbody>\n",
       "</table>\n",
       "</div>"
      ],
      "text/plain": [
       "                     ghi_wm2  poa_wm2  tmod_c  tamb_c\n",
       "timestamp                                            \n",
       "2020-01-01 00:00:00      0.0      0.0  13.608  26.528\n",
       "2020-01-01 00:30:00      0.0      0.0  12.301  24.214\n",
       "2020-01-01 01:00:00      0.0      0.0  11.561  22.762\n",
       "2020-01-01 01:30:00      0.0      0.0  10.887  21.537\n",
       "2020-01-01 02:00:00      0.0      0.0  10.652  21.007"
      ]
     },
     "execution_count": 2,
     "metadata": {},
     "output_type": "execute_result"
    }
   ],
   "source": [
    "FILE = 'bogota-30'\n",
    "\n",
    "df = pd.read_csv(filepath_or_buffer=f'../data/{FILE}.csv', sep=',', decimal='.', index_col='timestamp', parse_dates=True)\n",
    "\n",
    "# NaN\n",
    "df = df.fillna(0)\n",
    "\n",
    "# Ant data\n",
    "df.loc[df['poa_wm2'] <= 1.5, 'poa_wm2'] = 0\n",
    "\n",
    "df.head()"
   ]
  },
  {
   "attachments": {},
   "cell_type": "markdown",
   "metadata": {},
   "source": [
    "# 2. Synthetic Irradiance Data Generation"
   ]
  },
  {
   "attachments": {},
   "cell_type": "markdown",
   "metadata": {},
   "source": [
    "## 2.1. Clear-Sky Index\n",
    "\n",
    "According to **(Skartveit and Olseth, 1992)**, the clear-sky index ($k_c$) is the measured irradiance in the plane of array (in this case `poa_wm2` data) normalized by the global irradiance (GHI) under clear sky conditions.\n",
    "\n",
    "$$\n",
    "k= \\frac{H}{H_{cs}}\n",
    "\\tag{1}\n",
    "$$\n",
    "\n",
    "Where $H$ is the observed GHI in the plane of array, and $H_{cs}$ is the clear-sky GHI.\n",
    "\n",
    "The main benefit is that the losses due to atmosphere are already accounted for as they are encompassed within clear-sky global horizontal irradiance ($H_{cs}$). This means that the losses described by the clear-sky index can be exclusively isolated to the influence of clouds. The clear-sky index, therefore, explains the optical losses associated to clouds.\n",
    "\n",
    "The value of $k_c$ allows estimating the meteorological conditions of the day according to **(Larrañeta et al., 2015)**. Also, expressing irradiance in terms of $k_c$ is the closest approximation of stationarity with solar irradiance time series, according to (**Bright et al., 2021**). A stationary time series has the same mean, variance and auto-correlation over time.\n",
    "\n",
    "**Note:** As the presence of clouds is not stationary (except over coarse temporal averages), and the indices represent losses due to clouds, a time series of $k_c$ are not perfectly stationary. That said, it effectively remove all influence of seasons and the daily curve of irradiance (from sunrise and sunset) from the time series (**Bright et al., 2021**)."
   ]
  },
  {
   "cell_type": "code",
   "execution_count": 3,
   "metadata": {},
   "outputs": [],
   "source": [
    "# Location\n",
    "latitude = 4.6024\n",
    "longitude = -74.0674\n",
    "tz = 'America/Bogota'\n",
    "altitude = 2624 # [m]\n",
    "\n",
    "location = pvlib.location.Location(latitude, longitude, tz, altitude)"
   ]
  },
  {
   "cell_type": "code",
   "execution_count": 4,
   "metadata": {},
   "outputs": [
    {
     "data": {
      "text/html": [
       "<div>\n",
       "<style scoped>\n",
       "    .dataframe tbody tr th:only-of-type {\n",
       "        vertical-align: middle;\n",
       "    }\n",
       "\n",
       "    .dataframe tbody tr th {\n",
       "        vertical-align: top;\n",
       "    }\n",
       "\n",
       "    .dataframe thead th {\n",
       "        text-align: right;\n",
       "    }\n",
       "</style>\n",
       "<table border=\"1\" class=\"dataframe\">\n",
       "  <thead>\n",
       "    <tr style=\"text-align: right;\">\n",
       "      <th></th>\n",
       "      <th>ghi</th>\n",
       "      <th>dni</th>\n",
       "      <th>dhi</th>\n",
       "    </tr>\n",
       "  </thead>\n",
       "  <tbody>\n",
       "    <tr>\n",
       "      <th>2020-01-01 00:00:00-05:00</th>\n",
       "      <td>0.0</td>\n",
       "      <td>0.0</td>\n",
       "      <td>0.0</td>\n",
       "    </tr>\n",
       "    <tr>\n",
       "      <th>2020-01-01 00:30:00-05:00</th>\n",
       "      <td>0.0</td>\n",
       "      <td>0.0</td>\n",
       "      <td>0.0</td>\n",
       "    </tr>\n",
       "    <tr>\n",
       "      <th>2020-01-01 01:00:00-05:00</th>\n",
       "      <td>0.0</td>\n",
       "      <td>0.0</td>\n",
       "      <td>0.0</td>\n",
       "    </tr>\n",
       "    <tr>\n",
       "      <th>2020-01-01 01:30:00-05:00</th>\n",
       "      <td>0.0</td>\n",
       "      <td>0.0</td>\n",
       "      <td>0.0</td>\n",
       "    </tr>\n",
       "    <tr>\n",
       "      <th>2020-01-01 02:00:00-05:00</th>\n",
       "      <td>0.0</td>\n",
       "      <td>0.0</td>\n",
       "      <td>0.0</td>\n",
       "    </tr>\n",
       "  </tbody>\n",
       "</table>\n",
       "</div>"
      ],
      "text/plain": [
       "                           ghi  dni  dhi\n",
       "2020-01-01 00:00:00-05:00  0.0  0.0  0.0\n",
       "2020-01-01 00:30:00-05:00  0.0  0.0  0.0\n",
       "2020-01-01 01:00:00-05:00  0.0  0.0  0.0\n",
       "2020-01-01 01:30:00-05:00  0.0  0.0  0.0\n",
       "2020-01-01 02:00:00-05:00  0.0  0.0  0.0"
      ]
     },
     "execution_count": 4,
     "metadata": {},
     "output_type": "execute_result"
    }
   ],
   "source": [
    "# Clear-sky irradiance (Hcs)\n",
    "RESOLUTION = int(pd.Series(df.index.values).diff().median().total_seconds()/60)\n",
    "\n",
    "# Clear-sky irradiance (Hcs)\n",
    "hcs = location.get_clearsky(times=pd.date_range(start=df.index[0], end=df.index[-1], freq=f'{RESOLUTION}min', tz=tz),\n",
    "                            model='ineichen')\n",
    "\n",
    "hcs.head()"
   ]
  },
  {
   "attachments": {},
   "cell_type": "markdown",
   "metadata": {},
   "source": [
    "Same as (**Bright et al., 2021**) described, at sunrise and sunset the values of irradiance are in the order of 0 - 10 W/m2, $k_c$ become very sensitive to discrepancies between clear-sky estimate and measurement. It is common in solar energy engineering to ignore the first 5° of solar elevation."
   ]
  },
  {
   "cell_type": "code",
   "execution_count": 5,
   "metadata": {},
   "outputs": [
    {
     "data": {
      "text/html": [
       "<div>\n",
       "<style scoped>\n",
       "    .dataframe tbody tr th:only-of-type {\n",
       "        vertical-align: middle;\n",
       "    }\n",
       "\n",
       "    .dataframe tbody tr th {\n",
       "        vertical-align: top;\n",
       "    }\n",
       "\n",
       "    .dataframe thead th {\n",
       "        text-align: right;\n",
       "    }\n",
       "</style>\n",
       "<table border=\"1\" class=\"dataframe\">\n",
       "  <thead>\n",
       "    <tr style=\"text-align: right;\">\n",
       "      <th></th>\n",
       "      <th>ghi_wm2</th>\n",
       "      <th>poa_wm2</th>\n",
       "      <th>tmod_c</th>\n",
       "      <th>tamb_c</th>\n",
       "      <th>hcs_wm2</th>\n",
       "      <th>kc</th>\n",
       "    </tr>\n",
       "    <tr>\n",
       "      <th>timestamp</th>\n",
       "      <th></th>\n",
       "      <th></th>\n",
       "      <th></th>\n",
       "      <th></th>\n",
       "      <th></th>\n",
       "      <th></th>\n",
       "    </tr>\n",
       "  </thead>\n",
       "  <tbody>\n",
       "    <tr>\n",
       "      <th>2020-01-01 00:00:00</th>\n",
       "      <td>0.0</td>\n",
       "      <td>0.0</td>\n",
       "      <td>13.608</td>\n",
       "      <td>26.528</td>\n",
       "      <td>0.0</td>\n",
       "      <td>1.0</td>\n",
       "    </tr>\n",
       "    <tr>\n",
       "      <th>2020-01-01 00:30:00</th>\n",
       "      <td>0.0</td>\n",
       "      <td>0.0</td>\n",
       "      <td>12.301</td>\n",
       "      <td>24.214</td>\n",
       "      <td>0.0</td>\n",
       "      <td>1.0</td>\n",
       "    </tr>\n",
       "    <tr>\n",
       "      <th>2020-01-01 01:00:00</th>\n",
       "      <td>0.0</td>\n",
       "      <td>0.0</td>\n",
       "      <td>11.561</td>\n",
       "      <td>22.762</td>\n",
       "      <td>0.0</td>\n",
       "      <td>1.0</td>\n",
       "    </tr>\n",
       "    <tr>\n",
       "      <th>2020-01-01 01:30:00</th>\n",
       "      <td>0.0</td>\n",
       "      <td>0.0</td>\n",
       "      <td>10.887</td>\n",
       "      <td>21.537</td>\n",
       "      <td>0.0</td>\n",
       "      <td>1.0</td>\n",
       "    </tr>\n",
       "    <tr>\n",
       "      <th>2020-01-01 02:00:00</th>\n",
       "      <td>0.0</td>\n",
       "      <td>0.0</td>\n",
       "      <td>10.652</td>\n",
       "      <td>21.007</td>\n",
       "      <td>0.0</td>\n",
       "      <td>1.0</td>\n",
       "    </tr>\n",
       "  </tbody>\n",
       "</table>\n",
       "</div>"
      ],
      "text/plain": [
       "                     ghi_wm2  poa_wm2  tmod_c  tamb_c  hcs_wm2   kc\n",
       "timestamp                                                          \n",
       "2020-01-01 00:00:00      0.0      0.0  13.608  26.528      0.0  1.0\n",
       "2020-01-01 00:30:00      0.0      0.0  12.301  24.214      0.0  1.0\n",
       "2020-01-01 01:00:00      0.0      0.0  11.561  22.762      0.0  1.0\n",
       "2020-01-01 01:30:00      0.0      0.0  10.887  21.537      0.0  1.0\n",
       "2020-01-01 02:00:00      0.0      0.0  10.652  21.007      0.0  1.0"
      ]
     },
     "execution_count": 5,
     "metadata": {},
     "output_type": "execute_result"
    }
   ],
   "source": [
    "# Append clear-sky irradiance to main dataframe\n",
    "df['hcs_wm2'] = hcs['ghi'].values\n",
    "\n",
    "# Clear-sky index (kc) to main dataframe\n",
    "df['kc'] = df['poa_wm2'].values / df['hcs_wm2'].values\n",
    "\n",
    "# Filters\n",
    "## NaN\n",
    "df['kc'] = df['kc'].fillna(1)\n",
    "\n",
    "# Replace kc > 1\n",
    "df.loc[df['kc'] > 1, 'kc'] = 1\n",
    "\n",
    "df.head()"
   ]
  },
  {
   "cell_type": "code",
   "execution_count": 6,
   "metadata": {},
   "outputs": [
    {
     "data": {
      "image/png": "[encoded data removed]",
      "text/plain": [
       "<Figure size 800x400 with 2 Axes>"
      ]
     },
     "metadata": {},
     "output_type": "display_data"
    }
   ],
   "source": [
    "hor = 8\n",
    "ver = 4\n",
    "plt.figure(figsize=(hor, ver), dpi=100)\n",
    "\n",
    "# GHI and Hcs\n",
    "df['ghi_wm2'][0:50].plot(color='dodgerblue', label='Measured', xlabel='Time', ylabel='Irradiance, W/m$^2$', legend=True)\n",
    "df['hcs_wm2'][0:50].plot(color='orange', label='Clear-sky', xlabel='Time', ylabel='Irradiance, W/m$^2$', legend=True)\n",
    "\n",
    "plt.rcParams['axes.axisbelow'] = True\n",
    "\n",
    "plt.title('Irradiance Behavior')\n",
    "plt.xlabel('Time')\n",
    "\n",
    "plt.tick_params(which='major', direction='in', length=5, width=0.75, grid_alpha=0.3)\n",
    "plt.tick_params(which='minor', direction='in', length=2.5, width=0.5, grid_alpha=0.3)\n",
    "plt.xticks(rotation=0)\n",
    "plt.minorticks_on()\n",
    "plt.ylim(0, None)\n",
    "plt.xlim(None, None)\n",
    "plt.grid(True)\n",
    "plt.grid(visible=True, which='major', color='grey', linestyle='-', linewidth=0.5)\n",
    "plt.grid(visible=True, which='minor', color='lightgrey', linestyle='-', linewidth=0.3, alpha=0.2)\n",
    "plt.legend(loc='best', fontsize=9)\n",
    "plt.tight_layout;\n",
    "\n",
    "# kc\n",
    "df['kc'][0:50].plot(color='limegreen', label='$k_c$', secondary_y=True, xlabel='Time', ylabel='$k_c$', legend=True, mark_right=False)\n",
    "\n",
    "plt.tick_params(which='major', direction='in', length=5, width=0.75, grid_alpha=0.3)\n",
    "plt.tick_params(which='minor', direction='in', length=2.5, width=0.5, grid_alpha=0.3)\n",
    "plt.xticks(rotation=0)\n",
    "plt.minorticks_on()\n",
    "plt.ylim(0, None)\n",
    "plt.xlim(None, None)\n",
    "plt.tight_layout;"
   ]
  },
  {
   "attachments": {},
   "cell_type": "markdown",
   "metadata": {},
   "source": [
    "## 2.2. `analysis`: Function to extract descriptive statistics from irradiance data"
   ]
  },
  {
   "cell_type": "code",
   "execution_count": 7,
   "metadata": {},
   "outputs": [],
   "source": [
    "TIMES = [f'{i}:0{j}' if j < 10 else f'{i}:{j}' for i in range(0, 24) for j in range(0, 60, RESOLUTION)]\n",
    "\n",
    "MONTHS = {'1': 'Jan', '2': 'Feb', '3': 'Mar', '4': 'Apr', '5': 'May', '6': 'Jun',\n",
    "          '7': 'Jul', '8': 'Aug', '9': 'Sep', '10': 'Oct', '11': 'Nov', '12': 'Dec'}\n",
    "\n",
    "INVERSE_MONTHS = {'Jan': 1, 'Feb': 2, 'Mar': 3, 'Apr': 4, 'May': 5, 'Jun': 6,\n",
    "                  'Jul': 7, 'Aug': 8, 'Sep': 9, 'Oct': 10, 'Nov': 11, 'Dec': 12}\n",
    "\n",
    "MULTIINDEX = [(i,j) for i in range(0, 24) for j in range(0, 60, RESOLUTION)]\n",
    "\n",
    "XTICKS = np.arange(start=0, stop=len(TIMES), step=50)\n",
    "LABELS = [TIMES[i] for i in XTICKS]"
   ]
  },
  {
   "cell_type": "code",
   "execution_count": 8,
   "metadata": {
    "scrolled": true
   },
   "outputs": [],
   "source": [
    "# src.utils.analysis function example\n",
    "\n",
    "# Selecting year and month to extract\n",
    "YEAR = 2023\n",
    "MONTH = 1\n",
    "\n",
    "ANALYSIS = src.utils.analysis(df=df, year=YEAR, month=MONTH, irradiance_column='poa_wm2', resolution=RESOLUTION, plot=False)"
   ]
  },
  {
   "cell_type": "code",
   "execution_count": 9,
   "metadata": {},
   "outputs": [
    {
     "data": {
      "text/plain": [
       "<matplotlib.legend.Legend at 0x15e718990>"
      ]
     },
     "execution_count": 9,
     "metadata": {},
     "output_type": "execute_result"
    },
    {
     "data": {
      "image/png": "[encoded data removed]",
      "text/plain": [
       "<Figure size 800x500 with 1 Axes>"
      ]
     },
     "metadata": {},
     "output_type": "display_data"
    }
   ],
   "source": [
    "# Array list to store daily irradiance values from irrad_range\n",
    "aux_irradiance = {'stochastic': {}, 'bootstrap': {}}\n",
    "\n",
    "# Constants\n",
    "TIMES = [f'{i}:0{j}' if j < 10 else f'{i}:{j}' for i in range(0, 24) for j in range(0, 60, RESOLUTION)]\n",
    "\n",
    "MONTHS = {'1': 'Jan', '2': 'Feb', '3': 'Mar', '4': 'Apr', '5': 'May', '6': 'Jun',\n",
    "          '7': 'Jul', '8': 'Aug', '9': 'Sep', '10': 'Oct', '11': 'Nov', '12': 'Dec'}\n",
    "\n",
    "# DataFrame filtered by date and between 6:00 to 18:00h range\n",
    "data = df.loc[(df.index.year == YEAR) & (df.index.month == MONTH)]\n",
    "aux_data = data.groupby([data.index.hour, data.index.minute])['poa_wm2'].describe()\n",
    "\n",
    "XTICKS = np.arange(start=0, stop=len(TIMES), step=50)\n",
    "LABELS = [TIMES[i] for i in XTICKS]\n",
    "\n",
    "hor = 8\n",
    "ver = 5\n",
    "plt.figure(figsize=(hor,ver))\n",
    "\n",
    "plt.plot(pd.DataFrame(data['poa_wm2'].values.reshape(31, len(TIMES))).T.values, color='black', alpha=0.1, linestyle='', marker='.', markersize=2, fillstyle='none')\n",
    "\n",
    "plt.plot(aux_data['max'].values, color='#1580E4', marker='.', markersize=4, linestyle='', label='Max')\n",
    "plt.plot(aux_data['mean'].values, color='#2DBD07', marker='.', markersize=4, linestyle='', label='Mean')\n",
    "plt.plot(aux_data['min'].values, color='coral', marker='.', markersize=4, linestyle='', label='Min')\n",
    "\n",
    "plt.fill_between(x=np.arange(len(aux_data)), y1=aux_data['max'], y2=aux_data['min'], color='whitesmoke', alpha=0.35, label='Stochastic Range')\n",
    "\n",
    "plt.title(f'Irradiance Behaviour for {MONTHS[str(MONTH)]}-{YEAR}')\n",
    "plt.ylabel('Irradiance, $W/m^2$')\n",
    "plt.xlabel('Time')\n",
    "\n",
    "plt.tick_params(which='major', direction='in', length=5, width=0.75, grid_alpha=0.3)\n",
    "plt.tick_params(which='minor', direction='in', length=2.5, width=0.5, grid_alpha=0.3)\n",
    "plt.xticks(rotation=0, ticks=XTICKS, labels=LABELS)\n",
    "plt.minorticks_on()\n",
    "plt.ylim(0, None)\n",
    "plt.xlim(0, len(aux_data))\n",
    "plt.grid(True)\n",
    "plt.grid(visible=True, which='major', color='grey', linestyle='-', linewidth=0.5)\n",
    "plt.grid(visible=True, which='minor', color='lightgrey', linestyle='-', linewidth=0.3, alpha=0.2)\n",
    "plt.tight_layout\n",
    "plt.legend(loc='best', fontsize=9) # bbox_to_anchor=(1,1)"
   ]
  },
  {
   "attachments": {},
   "cell_type": "markdown",
   "metadata": {},
   "source": [
    "### 2.2.1. Shapiro-Wilk, Anderson-Darling and Kolmogorov-Smirnov tests"
   ]
  },
  {
   "cell_type": "code",
   "execution_count": 10,
   "metadata": {},
   "outputs": [],
   "source": [
    "LOOP_YEARS = df.index.year.unique().values\n",
    "LOOP_MONTHS = df.index.month.unique().values\n",
    "LOOP_SC = ['sc1', 'sc2', 'sc3', 'sc4', 'sc5']\n",
    "\n",
    "LOOP_ANALYSIS = {}\n",
    "\n",
    "for i in LOOP_YEARS:\n",
    "    for j in LOOP_MONTHS:\n",
    "        LOOP_ANALYSIS[f'{MONTHS[str(j)]}{i}'] = src.utils.analysis(df=df, year=i, month=j, irradiance_column='poa_wm2', resolution=RESOLUTION, plot=False)"
   ]
  },
  {
   "cell_type": "code",
   "execution_count": 11,
   "metadata": {},
   "outputs": [
    {
     "data": {
      "text/html": [
       "<div>\n",
       "<style scoped>\n",
       "    .dataframe tbody tr th:only-of-type {\n",
       "        vertical-align: middle;\n",
       "    }\n",
       "\n",
       "    .dataframe tbody tr th {\n",
       "        vertical-align: top;\n",
       "    }\n",
       "\n",
       "    .dataframe thead th {\n",
       "        text-align: right;\n",
       "    }\n",
       "</style>\n",
       "<table border=\"1\" class=\"dataframe\">\n",
       "  <thead>\n",
       "    <tr style=\"text-align: right;\">\n",
       "      <th></th>\n",
       "      <th>year</th>\n",
       "      <th>month</th>\n",
       "      <th>shapiro_wilk</th>\n",
       "      <th>anderson_darling</th>\n",
       "      <th>lognormal_test</th>\n",
       "    </tr>\n",
       "  </thead>\n",
       "  <tbody>\n",
       "    <tr>\n",
       "      <th>count</th>\n",
       "      <td>2256.000000</td>\n",
       "      <td>2256.000000</td>\n",
       "      <td>2256.000000</td>\n",
       "      <td>2256.000000</td>\n",
       "      <td>2256.000000</td>\n",
       "    </tr>\n",
       "    <tr>\n",
       "      <th>mean</th>\n",
       "      <td>2021.170213</td>\n",
       "      <td>6.042553</td>\n",
       "      <td>0.410696</td>\n",
       "      <td>0.957447</td>\n",
       "      <td>0.218808</td>\n",
       "    </tr>\n",
       "    <tr>\n",
       "      <th>std</th>\n",
       "      <td>0.941443</td>\n",
       "      <td>3.787476</td>\n",
       "      <td>0.321035</td>\n",
       "      <td>0.201892</td>\n",
       "      <td>0.321486</td>\n",
       "    </tr>\n",
       "    <tr>\n",
       "      <th>min</th>\n",
       "      <td>2020.000000</td>\n",
       "      <td>1.000000</td>\n",
       "      <td>0.000000</td>\n",
       "      <td>0.000000</td>\n",
       "      <td>0.000000</td>\n",
       "    </tr>\n",
       "    <tr>\n",
       "      <th>25%</th>\n",
       "      <td>2020.000000</td>\n",
       "      <td>2.000000</td>\n",
       "      <td>0.110000</td>\n",
       "      <td>1.000000</td>\n",
       "      <td>0.000000</td>\n",
       "    </tr>\n",
       "    <tr>\n",
       "      <th>50%</th>\n",
       "      <td>2021.000000</td>\n",
       "      <td>6.000000</td>\n",
       "      <td>0.350000</td>\n",
       "      <td>1.000000</td>\n",
       "      <td>0.025000</td>\n",
       "    </tr>\n",
       "    <tr>\n",
       "      <th>75%</th>\n",
       "      <td>2022.000000</td>\n",
       "      <td>10.000000</td>\n",
       "      <td>0.670000</td>\n",
       "      <td>1.000000</td>\n",
       "      <td>0.350000</td>\n",
       "    </tr>\n",
       "    <tr>\n",
       "      <th>max</th>\n",
       "      <td>2023.000000</td>\n",
       "      <td>12.000000</td>\n",
       "      <td>1.000000</td>\n",
       "      <td>1.000000</td>\n",
       "      <td>1.000000</td>\n",
       "    </tr>\n",
       "  </tbody>\n",
       "</table>\n",
       "</div>"
      ],
      "text/plain": [
       "              year        month  shapiro_wilk  anderson_darling  \\\n",
       "count  2256.000000  2256.000000   2256.000000       2256.000000   \n",
       "mean   2021.170213     6.042553      0.410696          0.957447   \n",
       "std       0.941443     3.787476      0.321035          0.201892   \n",
       "min    2020.000000     1.000000      0.000000          0.000000   \n",
       "25%    2020.000000     2.000000      0.110000          1.000000   \n",
       "50%    2021.000000     6.000000      0.350000          1.000000   \n",
       "75%    2022.000000    10.000000      0.670000          1.000000   \n",
       "max    2023.000000    12.000000      1.000000          1.000000   \n",
       "\n",
       "       lognormal_test  \n",
       "count     2256.000000  \n",
       "mean         0.218808  \n",
       "std          0.321486  \n",
       "min          0.000000  \n",
       "25%          0.000000  \n",
       "50%          0.025000  \n",
       "75%          0.350000  \n",
       "max          1.000000  "
      ]
     },
     "execution_count": 11,
     "metadata": {},
     "output_type": "execute_result"
    }
   ],
   "source": [
    "# For high resolution (e.g., 5 min), this cell takes ~10 min to run\n",
    "\n",
    "DISTRIBUTIONS = pd.DataFrame()\n",
    "\n",
    "for z in LOOP_ANALYSIS.keys():\n",
    "    i = int(z[3:7]) # Year\n",
    "    j = INVERSE_MONTHS[z[0:3]] # Month\n",
    "\n",
    "    for k in LOOP_SC:\n",
    "        df_to_check = LOOP_ANALYSIS[z]['bootstrap'][k]\n",
    "\n",
    "        if (df_to_check.empty != True) and (len(df_to_check) >= 3):\n",
    "            aux_df = pd.DataFrame(data={'year':i,\n",
    "                                        'month': j,\n",
    "                                        'sc': k,\n",
    "                                        'shapiro_wilk': [src.utils.shapiro_wilk(data=d) for d in df_to_check.T.values],\n",
    "                                        'anderson_darling': [src.utils.anderson_darling(data=d) for d in df_to_check.T.values],\n",
    "                                        'lognormal_test': [src.utils.lognormal_test(data=d) for d in df_to_check.T.values]},\n",
    "                                  index=df_to_check.columns).iloc[TIMES.index('6:00'):TIMES.index('18:00'),:] # 6:15 to 17:45h\n",
    "\n",
    "            DISTRIBUTIONS = pd.concat([DISTRIBUTIONS, aux_df])\n",
    "\n",
    "DISTRIBUTIONS.to_csv(f'../distributions/{FILE}/distributions.csv')\n",
    "\n",
    "DISTRIBUTIONS.describe()"
   ]
  },
  {
   "cell_type": "code",
   "execution_count": 12,
   "metadata": {},
   "outputs": [
    {
     "name": "stdout",
     "output_type": "stream",
     "text": [
      "79.57% of the total data behaves as a Gaussian distribution according to Shapiro-Wilk and Anderson-Darling tests.\n",
      "45.17% of the total data behaves as a lognormal distribution.\n",
      "84.8% of the total data behaves either Gaussian or lognormal distribution.\n"
     ]
    }
   ],
   "source": [
    "# Gaussian distribution\n",
    "complete_gaussian = (len(DISTRIBUTIONS[(DISTRIBUTIONS['shapiro_wilk'] > 0.05) & (DISTRIBUTIONS['anderson_darling'] == 1)]) / len(DISTRIBUTIONS)) * 100\n",
    "print(f'{np.round(a=complete_gaussian, decimals=2)}% of the total data behaves as a Gaussian distribution according to Shapiro-Wilk and Anderson-Darling tests.')\n",
    "\n",
    "# Lognormal distribution\n",
    "complete_lognormal = (len(DISTRIBUTIONS[(DISTRIBUTIONS['lognormal_test'] > 0.05)]) / len(DISTRIBUTIONS)) * 100\n",
    "print(f'{np.round(a=complete_lognormal, decimals=2)}% of the total data behaves as a lognormal distribution.')\n",
    "\n",
    "# Gaussian or lognormal\n",
    "gaussian_or_lognormal = (len(DISTRIBUTIONS[((DISTRIBUTIONS['shapiro_wilk'] > 0.05) & (DISTRIBUTIONS['anderson_darling'] == 1)) | (DISTRIBUTIONS['lognormal_test'] > 0.05)]) / len(DISTRIBUTIONS)) * 100\n",
    "print(f'{np.round(a=gaussian_or_lognormal, decimals=2)}% of the total data behaves either Gaussian or lognormal distribution.')"
   ]
  },
  {
   "cell_type": "code",
   "execution_count": 13,
   "metadata": {},
   "outputs": [
    {
     "data": {
      "text/html": [
       "<div>\n",
       "<style scoped>\n",
       "    .dataframe tbody tr th:only-of-type {\n",
       "        vertical-align: middle;\n",
       "    }\n",
       "\n",
       "    .dataframe tbody tr th {\n",
       "        vertical-align: top;\n",
       "    }\n",
       "\n",
       "    .dataframe thead th {\n",
       "        text-align: right;\n",
       "    }\n",
       "</style>\n",
       "<table border=\"1\" class=\"dataframe\">\n",
       "  <thead>\n",
       "    <tr style=\"text-align: right;\">\n",
       "      <th></th>\n",
       "      <th>shapiro_wilk</th>\n",
       "      <th>anderson_darling</th>\n",
       "      <th>lognormal_test</th>\n",
       "    </tr>\n",
       "  </thead>\n",
       "  <tbody>\n",
       "    <tr>\n",
       "      <th>count</th>\n",
       "      <td>94.000000</td>\n",
       "      <td>94.000000</td>\n",
       "      <td>94.000000</td>\n",
       "    </tr>\n",
       "    <tr>\n",
       "      <th>mean</th>\n",
       "      <td>0.410638</td>\n",
       "      <td>0.957447</td>\n",
       "      <td>0.218936</td>\n",
       "    </tr>\n",
       "    <tr>\n",
       "      <th>std</th>\n",
       "      <td>0.165210</td>\n",
       "      <td>0.202930</td>\n",
       "      <td>0.106574</td>\n",
       "    </tr>\n",
       "    <tr>\n",
       "      <th>min</th>\n",
       "      <td>0.120000</td>\n",
       "      <td>0.000000</td>\n",
       "      <td>0.000000</td>\n",
       "    </tr>\n",
       "    <tr>\n",
       "      <th>25%</th>\n",
       "      <td>0.300000</td>\n",
       "      <td>1.000000</td>\n",
       "      <td>0.160000</td>\n",
       "    </tr>\n",
       "    <tr>\n",
       "      <th>50%</th>\n",
       "      <td>0.390000</td>\n",
       "      <td>1.000000</td>\n",
       "      <td>0.210000</td>\n",
       "    </tr>\n",
       "    <tr>\n",
       "      <th>75%</th>\n",
       "      <td>0.490000</td>\n",
       "      <td>1.000000</td>\n",
       "      <td>0.287500</td>\n",
       "    </tr>\n",
       "    <tr>\n",
       "      <th>max</th>\n",
       "      <td>1.000000</td>\n",
       "      <td>1.000000</td>\n",
       "      <td>0.480000</td>\n",
       "    </tr>\n",
       "  </tbody>\n",
       "</table>\n",
       "</div>"
      ],
      "text/plain": [
       "       shapiro_wilk  anderson_darling  lognormal_test\n",
       "count     94.000000         94.000000       94.000000\n",
       "mean       0.410638          0.957447        0.218936\n",
       "std        0.165210          0.202930        0.106574\n",
       "min        0.120000          0.000000        0.000000\n",
       "25%        0.300000          1.000000        0.160000\n",
       "50%        0.390000          1.000000        0.210000\n",
       "75%        0.490000          1.000000        0.287500\n",
       "max        1.000000          1.000000        0.480000"
      ]
     },
     "execution_count": 13,
     "metadata": {},
     "output_type": "execute_result"
    }
   ],
   "source": [
    "GROUPED_DISTRIBUTIONS = DISTRIBUTIONS.groupby(by=['year', 'month', 'sc']).mean().round(decimals=2).astype({'anderson_darling': int})\n",
    "GROUPED_DISTRIBUTIONS.to_csv(f'../distributions/{FILE}/grouped.csv')\n",
    "\n",
    "GROUPED_DISTRIBUTIONS.describe()"
   ]
  },
  {
   "cell_type": "code",
   "execution_count": 14,
   "metadata": {},
   "outputs": [
    {
     "data": {
      "text/html": [
       "<div>\n",
       "<style scoped>\n",
       "    .dataframe tbody tr th:only-of-type {\n",
       "        vertical-align: middle;\n",
       "    }\n",
       "\n",
       "    .dataframe tbody tr th {\n",
       "        vertical-align: top;\n",
       "    }\n",
       "\n",
       "    .dataframe thead th {\n",
       "        text-align: right;\n",
       "    }\n",
       "</style>\n",
       "<table border=\"1\" class=\"dataframe\">\n",
       "  <thead>\n",
       "    <tr style=\"text-align: right;\">\n",
       "      <th></th>\n",
       "      <th>shapiro_wilk</th>\n",
       "      <th>anderson_darling</th>\n",
       "      <th>lognormal_test</th>\n",
       "    </tr>\n",
       "  </thead>\n",
       "  <tbody>\n",
       "    <tr>\n",
       "      <th>count</th>\n",
       "      <td>89.000000</td>\n",
       "      <td>89.0</td>\n",
       "      <td>89.000000</td>\n",
       "    </tr>\n",
       "    <tr>\n",
       "      <th>mean</th>\n",
       "      <td>0.385506</td>\n",
       "      <td>1.0</td>\n",
       "      <td>0.229101</td>\n",
       "    </tr>\n",
       "    <tr>\n",
       "      <th>std</th>\n",
       "      <td>0.110690</td>\n",
       "      <td>0.0</td>\n",
       "      <td>0.098542</td>\n",
       "    </tr>\n",
       "    <tr>\n",
       "      <th>min</th>\n",
       "      <td>0.120000</td>\n",
       "      <td>1.0</td>\n",
       "      <td>0.050000</td>\n",
       "    </tr>\n",
       "    <tr>\n",
       "      <th>25%</th>\n",
       "      <td>0.300000</td>\n",
       "      <td>1.0</td>\n",
       "      <td>0.170000</td>\n",
       "    </tr>\n",
       "    <tr>\n",
       "      <th>50%</th>\n",
       "      <td>0.380000</td>\n",
       "      <td>1.0</td>\n",
       "      <td>0.220000</td>\n",
       "    </tr>\n",
       "    <tr>\n",
       "      <th>75%</th>\n",
       "      <td>0.480000</td>\n",
       "      <td>1.0</td>\n",
       "      <td>0.290000</td>\n",
       "    </tr>\n",
       "    <tr>\n",
       "      <th>max</th>\n",
       "      <td>0.640000</td>\n",
       "      <td>1.0</td>\n",
       "      <td>0.480000</td>\n",
       "    </tr>\n",
       "  </tbody>\n",
       "</table>\n",
       "</div>"
      ],
      "text/plain": [
       "       shapiro_wilk  anderson_darling  lognormal_test\n",
       "count     89.000000              89.0       89.000000\n",
       "mean       0.385506               1.0        0.229101\n",
       "std        0.110690               0.0        0.098542\n",
       "min        0.120000               1.0        0.050000\n",
       "25%        0.300000               1.0        0.170000\n",
       "50%        0.380000               1.0        0.220000\n",
       "75%        0.480000               1.0        0.290000\n",
       "max        0.640000               1.0        0.480000"
      ]
     },
     "execution_count": 14,
     "metadata": {},
     "output_type": "execute_result"
    }
   ],
   "source": [
    "GROUPED_DISTRIBUTIONS_FILTERED = GROUPED_DISTRIBUTIONS.drop(GROUPED_DISTRIBUTIONS.loc[(2021, [8, 9, 10, 11], ['sc1', 'sc2', 'sc3', 'sc4', 'sc5'])].index)\n",
    "GROUPED_DISTRIBUTIONS_FILTERED.describe()"
   ]
  },
  {
   "cell_type": "code",
   "execution_count": 15,
   "metadata": {},
   "outputs": [
    {
     "name": "stdout",
     "output_type": "stream",
     "text": [
      "100.0% of the total data behaves as a Gaussian distribution according to Shapiro-Wilk and Anderson-Darling tests.\n",
      "97.75% of the total data behaves as a lognormal distribution.\n",
      "100.0% of the total data behaves either Gaussian or lognormal distribution.\n"
     ]
    }
   ],
   "source": [
    "# Gaussian distribution\n",
    "grouped_gaussian = (len(GROUPED_DISTRIBUTIONS_FILTERED[(GROUPED_DISTRIBUTIONS_FILTERED['shapiro_wilk'] > 0.05) & (GROUPED_DISTRIBUTIONS_FILTERED['anderson_darling'] == 1)]) / len(GROUPED_DISTRIBUTIONS_FILTERED)) * 100\n",
    "print(f'{np.round(a=grouped_gaussian, decimals=2)}% of the total data behaves as a Gaussian distribution according to Shapiro-Wilk and Anderson-Darling tests.')\n",
    "\n",
    "# Lognormal distribution\n",
    "grouped_lognormal = (len(GROUPED_DISTRIBUTIONS_FILTERED[(GROUPED_DISTRIBUTIONS_FILTERED['lognormal_test'] > 0.05)]) / len(GROUPED_DISTRIBUTIONS_FILTERED)) * 100\n",
    "print(f'{np.round(a=grouped_lognormal, decimals=2)}% of the total data behaves as a lognormal distribution.')\n",
    "\n",
    "# Gaussian or lognormal\n",
    "grouped_gaussian_or_lognormal = (len(GROUPED_DISTRIBUTIONS_FILTERED[((GROUPED_DISTRIBUTIONS_FILTERED['shapiro_wilk'] > 0.05) & (GROUPED_DISTRIBUTIONS_FILTERED['anderson_darling'] == 1)) | (GROUPED_DISTRIBUTIONS_FILTERED['lognormal_test'] > 0.05)]) / len(GROUPED_DISTRIBUTIONS_FILTERED)) * 100\n",
    "print(f'{np.round(a=grouped_gaussian_or_lognormal, decimals=2)}% of the total data behaves either Gaussian or lognormal distribution.')"
   ]
  },
  {
   "cell_type": "code",
   "execution_count": 16,
   "metadata": {},
   "outputs": [
    {
     "data": {
      "text/plain": [
       "<matplotlib.legend.Legend at 0x15e81df10>"
      ]
     },
     "execution_count": 16,
     "metadata": {},
     "output_type": "execute_result"
    },
    {
     "data": {
      "image/png": "[encoded data removed]",
      "text/plain": [
       "<Figure size 1500x500 with 1 Axes>"
      ]
     },
     "metadata": {},
     "output_type": "display_data"
    }
   ],
   "source": [
    "aux_grouped_distributions = GROUPED_DISTRIBUTIONS_FILTERED.groupby(['year', 'month']).mean()\n",
    "x_axis = [f'{MONTHS[str(i[1])]}\\n{i[0]}' for i in aux_grouped_distributions.index]\n",
    "\n",
    "XTICKS = np.arange(start=0, stop=len(x_axis), step=3)\n",
    "LABELS = [x_axis[i] for i in XTICKS]\n",
    "\n",
    "hor = 15\n",
    "ver = 5\n",
    "plt.figure(figsize=(hor,ver), dpi=100)\n",
    "\n",
    "plt.plot(aux_grouped_distributions['shapiro_wilk'].values, color='dodgerblue', label='Shapiro-Wilk Test')\n",
    "plt.plot(aux_grouped_distributions['lognormal_test'].values, color='orange', label='KS Test (Lognormal)')\n",
    "plt.axhline(y=0.05, linewidth=0.8, color='tomato', label='Significance Level (0.05)', zorder=0)\n",
    "\n",
    "plt.title(f'Statistical Distribution Goodness of Fit')\n",
    "plt.ylabel('p-value')\n",
    "plt.xlabel('Time')\n",
    "plt.tick_params(which='major', direction='in', length=5, width=0.75, grid_alpha=0.3)\n",
    "plt.tick_params(which='minor', direction='in', length=2.5, width=0.5, grid_alpha=0.3)\n",
    "plt.xticks(rotation=0, ticks=XTICKS, labels=LABELS)\n",
    "plt.minorticks_on()\n",
    "plt.ylim(0, 1)\n",
    "plt.xlim(0, len(aux_grouped_distributions)-1)\n",
    "plt.grid(True)\n",
    "plt.grid(visible=True, which='major', color='grey', linestyle='-', linewidth=0.5)\n",
    "plt.grid(visible=True, which='minor', color='lightgrey', linestyle='-', linewidth=0.3, alpha=0.2)\n",
    "plt.tight_layout\n",
    "plt.legend(loc='best', fontsize=9) # bbox_to_anchor=(1,1)"
   ]
  },
  {
   "attachments": {},
   "cell_type": "markdown",
   "metadata": {},
   "source": [
    "### 2.2.2. Histogram (Gaussian or lognormal distributions)"
   ]
  },
  {
   "cell_type": "code",
   "execution_count": 17,
   "metadata": {},
   "outputs": [
    {
     "data": {
      "text/plain": [
       "<function matplotlib.pyplot.tight_layout(*, pad=1.08, h_pad=None, w_pad=None, rect=None)>"
      ]
     },
     "execution_count": 17,
     "metadata": {},
     "output_type": "execute_result"
    },
    {
     "data": {
      "image/png": "[encoded data removed]",
      "text/plain": [
       "<Figure size 800x500 with 1 Axes>"
      ]
     },
     "metadata": {},
     "output_type": "display_data"
    }
   ],
   "source": [
    "HOUR = 12\n",
    "MINUTE = 00\n",
    "SC = 'sc2'\n",
    "\n",
    "df_to_hist = df[(df.index.year == YEAR) & (df.index.month == MONTH) & (df.index.day.isin(ANALYSIS['bootstrap'][SC].index)) & (df.index.hour == HOUR) & (df.index.minute == MINUTE)]['poa_wm2'].values\n",
    "\n",
    "hor = 8\n",
    "ver = 5\n",
    "plt.figure(figsize=(hor,ver))\n",
    "\n",
    "plt.hist(x=df_to_hist, bins='auto', color='lightgrey', alpha=0.7, edgecolor='black', linewidth=0.5);\n",
    "\n",
    "plt.title(f'Histogram for {MONTHS[str(MONTH)]}-{YEAR} at {HOUR}:{MINUTE}h ({str.upper(SC)})')\n",
    "plt.ylabel('Irradiance, $W/m^2$')\n",
    "plt.xlabel('Time')\n",
    "plt.tick_params(which='major', direction='in', length=5, width=0.75, grid_alpha=0.3)\n",
    "plt.tick_params(which='minor', direction='in', length=2.5, width=0.5, grid_alpha=0.3)\n",
    "plt.xticks(rotation=0)\n",
    "plt.minorticks_on()\n",
    "plt.ylim(0, None)\n",
    "plt.xlim(None, None)\n",
    "plt.grid(True)\n",
    "plt.grid(visible=True, which='major', color='grey', linestyle='-', linewidth=0.5)\n",
    "plt.grid(visible=True, which='minor', color='lightgrey', linestyle='-', linewidth=0.3, alpha=0.2)\n",
    "plt.tight_layout\n",
    "#plt.legend(loc='best', fontsize=9) # bbox_to_anchor=(1,1)"
   ]
  },
  {
   "attachments": {},
   "cell_type": "markdown",
   "metadata": {},
   "source": [
    "### 2.2.3. QQ-Plots"
   ]
  },
  {
   "cell_type": "code",
   "execution_count": 18,
   "metadata": {},
   "outputs": [
    {
     "data": {
      "text/plain": [
       "<function matplotlib.pyplot.tight_layout(*, pad=1.08, h_pad=None, w_pad=None, rect=None)>"
      ]
     },
     "execution_count": 18,
     "metadata": {},
     "output_type": "execute_result"
    },
    {
     "data": {
      "text/plain": [
       "<Figure size 800x500 with 0 Axes>"
      ]
     },
     "metadata": {},
     "output_type": "display_data"
    },
    {
     "data": {
      "image/png": "[encoded data removed]",
      "text/plain": [
       "<Figure size 640x480 with 1 Axes>"
      ]
     },
     "metadata": {},
     "output_type": "display_data"
    }
   ],
   "source": [
    "hor = 8\n",
    "ver = 5\n",
    "plt.figure(figsize=(hor,ver))\n",
    "\n",
    "qqplot(df_to_hist, line='q', markerfacecolor='blue')\n",
    "\n",
    "plt.title(f'Histogram for {MONTHS[str(MONTH)]}-{YEAR} at {HOUR}:{MINUTE}h ({str.upper(SC)})')\n",
    "#plt.ylabel()\n",
    "#plt.xlabel()\n",
    "plt.tick_params(which='major', direction='in', length=5, width=0.75, grid_alpha=0.3)\n",
    "plt.tick_params(which='minor', direction='in', length=2.5, width=0.5, grid_alpha=0.3)\n",
    "plt.xticks(rotation=0)\n",
    "plt.minorticks_on()\n",
    "plt.ylim(None, None)\n",
    "plt.xlim(None, None)\n",
    "plt.grid(True)\n",
    "plt.grid(visible=True, which='major', color='grey', linestyle='-', linewidth=0.5)\n",
    "plt.grid(visible=True, which='minor', color='lightgrey', linestyle='-', linewidth=0.3, alpha=0.2)\n",
    "plt.tight_layout\n",
    "#plt.legend(loc='best', fontsize=9) # bbox_to_anchor=(1,1)"
   ]
  },
  {
   "attachments": {},
   "cell_type": "markdown",
   "metadata": {},
   "source": [
    "## 2.3. Methods: `stochastic` and `bootstrap`"
   ]
  },
  {
   "cell_type": "code",
   "execution_count": 19,
   "metadata": {},
   "outputs": [],
   "source": [
    "SC = 'sc5'\n",
    "IC = 0.95"
   ]
  },
  {
   "cell_type": "code",
   "execution_count": 20,
   "metadata": {},
   "outputs": [
    {
     "ename": "NameError",
     "evalue": "name 'RUNS' is not defined",
     "output_type": "error",
     "traceback": [
      "\u001b[0;31m---------------------------------------------------------------------------\u001b[0m",
      "\u001b[0;31mNameError\u001b[0m                                 Traceback (most recent call last)",
      "Cell \u001b[0;32mIn[20], line 9\u001b[0m\n\u001b[1;32m      1\u001b[0m test_autoregressive_stochastic \u001b[39m=\u001b[39m src\u001b[39m.\u001b[39mmethods\u001b[39m.\u001b[39mautoregressive(data\u001b[39m=\u001b[39mdf,\n\u001b[1;32m      2\u001b[0m                                                             irradiance_column\u001b[39m=\u001b[39m\u001b[39m'\u001b[39m\u001b[39mpoa_wm2\u001b[39m\u001b[39m'\u001b[39m,\n\u001b[1;32m      3\u001b[0m                                                             year\u001b[39m=\u001b[39mYEAR,\n\u001b[1;32m      4\u001b[0m                                                             month\u001b[39m=\u001b[39m\u001b[39m1\u001b[39m,\n\u001b[1;32m      5\u001b[0m                                                             sky_condition\u001b[39m=\u001b[39mSC,\n\u001b[1;32m      6\u001b[0m                                                             method\u001b[39m=\u001b[39m\u001b[39m'\u001b[39m\u001b[39mstochastic\u001b[39m\u001b[39m'\u001b[39m,\n\u001b[1;32m      7\u001b[0m                                                             IC\u001b[39m=\u001b[39mIC,\n\u001b[1;32m      8\u001b[0m                                                             resolution\u001b[39m=\u001b[39mRESOLUTION,\n\u001b[0;32m----> 9\u001b[0m                                                             runs\u001b[39m=\u001b[39mRUNS)\n\u001b[1;32m     11\u001b[0m test_autoregressive_stochastic\u001b[39m.\u001b[39mhead()\n",
      "\u001b[0;31mNameError\u001b[0m: name 'RUNS' is not defined"
     ]
    }
   ],
   "source": [
    "test_autoregressive_stochastic = src.methods.autoregressive(data=df,\n",
    "                                                            irradiance_column='poa_wm2',\n",
    "                                                            year=YEAR,\n",
    "                                                            month=1,\n",
    "                                                            sky_condition=SC,\n",
    "                                                            method='stochastic',\n",
    "                                                            IC=IC,\n",
    "                                                            resolution=RESOLUTION,\n",
    "                                                            runs=RUNS)\n",
    "\n",
    "test_autoregressive_stochastic.head()"
   ]
  },
  {
   "cell_type": "code",
   "execution_count": null,
   "metadata": {},
   "outputs": [],
   "source": [
    "test_autoregressive_bootstrap = src.methods.autoregressive(data=df,\n",
    "                                                           irradiance_column='poa_wm2',\n",
    "                                                           year=YEAR,\n",
    "                                                           month=1,\n",
    "                                                           sky_condition=SC,\n",
    "                                                           method='bootstrap',\n",
    "                                                           IC=IC,\n",
    "                                                           resolution=RESOLUTION,\n",
    "                                                           runs=RUNS)\n",
    "\n",
    "test_autoregressive_bootstrap.head()"
   ]
  },
  {
   "cell_type": "code",
   "execution_count": null,
   "metadata": {},
   "outputs": [],
   "source": [
    "XTICKS = np.arange(start=0, stop=len(TIMES), step=50)\n",
    "LABELS = [TIMES[i] for i in XTICKS]\n",
    "\n",
    "hor = 8\n",
    "ver = 5\n",
    "plt.figure(figsize=(hor,ver))\n",
    "\n",
    "test_autoregressive_stochastic.plot(alpha=0.8, linewidth=0.5, linestyle='-', marker='.', fillstyle='none', figsize=(hor,ver), legend=True)\n",
    "\n",
    "plt.title(f'Synthetic (Stochastic) Irradiance ({MONTHS[str(MONTH)]}-{YEAR} {str.upper(SC)})')\n",
    "plt.ylabel('Irradiance, $W/m^2$')\n",
    "plt.xlabel('Time')\n",
    "plt.tick_params(which='major', direction='in', length=5, width=0.75, grid_alpha=0.3)\n",
    "plt.tick_params(which='minor', direction='in', length=2.5, width=0.5, grid_alpha=0.3)\n",
    "plt.xticks(rotation=0, ticks=XTICKS, labels=LABELS)\n",
    "plt.minorticks_on()\n",
    "plt.ylim(0, None)\n",
    "plt.xlim(0, len(test_autoregressive_stochastic))\n",
    "plt.grid(True)\n",
    "plt.grid(visible=True, which='major', color='grey', linestyle='-', linewidth=0.5)\n",
    "plt.grid(visible=True, which='minor', color='lightgrey', linestyle='-', linewidth=0.3, alpha=0.2)\n",
    "plt.tight_layout\n",
    "plt.legend(loc='best', fontsize=9) # bbox_to_anchor=(1,1)"
   ]
  },
  {
   "cell_type": "code",
   "execution_count": null,
   "metadata": {},
   "outputs": [],
   "source": [
    "hor = 8\n",
    "ver = 5\n",
    "plt.figure(figsize=(hor,ver))\n",
    "\n",
    "test_autoregressive_bootstrap.plot(alpha=0.8, linewidth=0.5, linestyle='-', marker='.', fillstyle='none', figsize=(hor,ver), legend=True)\n",
    "\n",
    "plt.title(f'Synthetic (Bootstrap) Irradiance ({MONTHS[str(MONTH)]}-{YEAR} {str.upper(SC)})')\n",
    "plt.ylabel('Irradiance, $W/m^2$')\n",
    "plt.xlabel('Time')\n",
    "plt.tick_params(which='major', direction='in', length=5, width=0.75, grid_alpha=0.3)\n",
    "plt.tick_params(which='minor', direction='in', length=2.5, width=0.5, grid_alpha=0.3)\n",
    "plt.xticks(rotation=0, ticks=XTICKS, labels=LABELS)\n",
    "plt.minorticks_on()\n",
    "plt.ylim(0, None)\n",
    "plt.xlim(0, len(test_autoregressive_bootstrap))\n",
    "plt.grid(True)\n",
    "plt.grid(visible=True, which='major', color='grey', linestyle='-', linewidth=0.5)\n",
    "plt.grid(visible=True, which='minor', color='lightgrey', linestyle='-', linewidth=0.3, alpha=0.2)\n",
    "plt.tight_layout\n",
    "plt.legend(loc='best', fontsize=9) # bbox_to_anchor=(1,1)"
   ]
  },
  {
   "attachments": {},
   "cell_type": "markdown",
   "metadata": {},
   "source": [
    "# 3. Validations"
   ]
  },
  {
   "cell_type": "code",
   "execution_count": null,
   "metadata": {},
   "outputs": [],
   "source": [
    "SYNTHETIC = {'stochastic': {}, 'bootstrap': {}}\n",
    "IC = 0.95\n",
    "RUNS = 5\n",
    "\n",
    "for i in LOOP_YEARS:\n",
    "    for j in LOOP_MONTHS:\n",
    "        for k in LOOP_SC:\n",
    "            # Stochastic\n",
    "            SYNTHETIC['stochastic'][f'{MONTHS[str(j)]}{i}-{k}'] = src.methods.autoregressive(data=df,\n",
    "                                                                                             irradiance_column='poa_wm2',\n",
    "                                                                                             year=i,\n",
    "                                                                                             month=j,\n",
    "                                                                                             sky_condition=k,\n",
    "                                                                                             method='stochastic',\n",
    "                                                                                             IC=IC,\n",
    "                                                                                             resolution=RESOLUTION,\n",
    "                                                                                             runs=RUNS)\n",
    "            # Bootstrap\n",
    "            SYNTHETIC['bootstrap'][f'{MONTHS[str(j)]}{i}-{k}'] = src.methods.autoregressive(data=df,\n",
    "                                                                                            irradiance_column='poa_wm2',\n",
    "                                                                                            year=i,\n",
    "                                                                                            month=j,\n",
    "                                                                                            sky_condition=k,\n",
    "                                                                                            method='bootstrap',\n",
    "                                                                                            IC=IC,\n",
    "                                                                                            resolution=RESOLUTION,\n",
    "                                                                                            runs=RUNS)"
   ]
  },
  {
   "attachments": {},
   "cell_type": "markdown",
   "metadata": {},
   "source": [
    "## 3.1. Variability metrics"
   ]
  },
  {
   "cell_type": "code",
   "execution_count": null,
   "metadata": {},
   "outputs": [],
   "source": [
    "VARIABILITY_METRICS = {'stochastic': {}, 'bootstrap': {}}\n",
    "RUNS = 5\n",
    "\n",
    "for m in ['stochastic', 'bootstrap']:\n",
    "    for z in SYNTHETIC[m].keys():\n",
    "        i = int(z[3:7]) # Year\n",
    "        j = INVERSE_MONTHS[z[0:3]] # Month\n",
    "        k = z[8:11] # Sky condition\n",
    "\n",
    "        metrics = {'standard_deviation_increments': [[], []],\n",
    "                    'stability_index': [[], []],\n",
    "                    'iccdf': [[], []],\n",
    "                    'variability_index': [[], []]}\n",
    "\n",
    "        for _ in range(RUNS):\n",
    "            try:\n",
    "                aux = LOOP_ANALYSIS[f'{MONTHS[str(j)]}{i}']['bootstrap'][k].T.sample(n=1, axis=1)\n",
    "                sample1 = aux.values.flatten()\n",
    "                sample2 = SYNTHETIC[m][f'{MONTHS[str(j)]}{i}-{k}'].sample(n=1, axis=1).values.flatten()\n",
    "\n",
    "                # Standard deviation of increments (SDI)\n",
    "                metrics['standard_deviation_increments'][0].append(src.metrics.standard_deviation_increments(data=sample1))\n",
    "                metrics['standard_deviation_increments'][1].append(src.metrics.standard_deviation_increments(data=sample2))\n",
    "\n",
    "                # Stability index (SI)\n",
    "                metrics['stability_index'][0].append(src.metrics.stability_index(data=sample1, threshold=100))\n",
    "                metrics['stability_index'][1].append(src.metrics.stability_index(data=sample2, threshold=100))\n",
    "\n",
    "                # Integrated complementary cumulative distribution function (ICCDF)\n",
    "                metrics['iccdf'][0].append(src.metrics.iccdf(data=sample1))\n",
    "                metrics['iccdf'][1].append(src.metrics.iccdf(data=sample2))\n",
    "\n",
    "                # Variability index (VI)\n",
    "                temp = df.loc[(df.index.year == i) & (df.index.month == j) & (df.index.day == aux.columns[0])]\n",
    "                metrics['variability_index'][0].append(src.metrics.variability_index(timestamps=temp.index, ghi=sample1, hcs=temp['hcs_wm2'].values).mean())\n",
    "                metrics['variability_index'][1].append(src.metrics.variability_index(timestamps=temp.index, ghi=sample2, hcs=temp['hcs_wm2'].values).mean())\n",
    "\n",
    "            except:\n",
    "                pass\n",
    "\n",
    "        for _ in metrics.keys():\n",
    "            metrics[_] = np.mean(metrics[_], axis=1)\n",
    "\n",
    "        VARIABILITY_METRICS[m][f'{MONTHS[str(j)]}{i}-{k}'] = metrics"
   ]
  },
  {
   "cell_type": "code",
   "execution_count": null,
   "metadata": {},
   "outputs": [],
   "source": [
    "metrics_stochastic = pd.DataFrame(VARIABILITY_METRICS['stochastic']).T\n",
    "metrics_bootstrap = pd.DataFrame(VARIABILITY_METRICS['bootstrap']).T\n",
    "\n",
    "# Stochastic\n",
    "pe_stochastic = metrics_stochastic * 0\n",
    "pe_stochastic['month'] = [INVERSE_MONTHS[i[0:3]] for i in pe_stochastic.index]\n",
    "pe_stochastic['sc'] = [i[8:11] for i in pe_stochastic.index]\n",
    "\n",
    "for i in metrics_stochastic.columns:\n",
    "    pe_stochastic[i] = [src.metrics.wrapper_percentage_error(j) for j in metrics_stochastic[i]]\n",
    "\n",
    "pe_stochastic = pe_stochastic.fillna(0)\n",
    "\n",
    "# Bootstrap\n",
    "pe_bootstrap = metrics_bootstrap * 0\n",
    "pe_bootstrap['month'] = [INVERSE_MONTHS[i[0:3]] for i in pe_bootstrap.index]\n",
    "pe_bootstrap['sc'] = [i[8:11] for i in pe_bootstrap.index]\n",
    "\n",
    "for i in metrics_bootstrap.columns:\n",
    "    pe_bootstrap[i] = [src.metrics.wrapper_percentage_error(j) for j in metrics_bootstrap[i]]\n",
    "\n",
    "pe_bootstrap = pe_bootstrap.fillna(0)"
   ]
  },
  {
   "cell_type": "code",
   "execution_count": null,
   "metadata": {},
   "outputs": [],
   "source": [
    "# Percentage error monthly average\n",
    "VM_STOCHASTIC_MONTH = pe_stochastic.groupby(by='month').mean().round(decimals=2)\n",
    "VM_BOOTSTRAP_MONTH = pe_bootstrap.groupby(by='month').mean().round(decimals=2)\n",
    "\n",
    "# Percentage error sky condition average\n",
    "VM_STOCHASTIC_SC = pe_stochastic.groupby(by='sc').mean().round(decimals=2)\n",
    "VM_BOOTSTRAP_SC = pe_bootstrap.groupby(by='sc').mean().round(decimals=2)"
   ]
  },
  {
   "cell_type": "code",
   "execution_count": null,
   "metadata": {},
   "outputs": [],
   "source": [
    "# Download\n",
    "VM_STOCHASTIC_MONTH.to_csv(f'../metrics/variability/{FILE}/stochastic_month.csv')\n",
    "VM_BOOTSTRAP_MONTH.to_csv(f'../metrics/variability/{FILE}/bootstrap_month.csv')\n",
    "VM_STOCHASTIC_SC.to_csv(f'../metrics/variability/{FILE}/stochastic_sc.csv')\n",
    "VM_BOOTSTRAP_SC.to_csv(f'../metrics/variability/{FILE}/bootstrap_sc.csv')"
   ]
  },
  {
   "attachments": {},
   "cell_type": "markdown",
   "metadata": {},
   "source": [
    "## 3.2. Comparison of statistical distributions"
   ]
  },
  {
   "cell_type": "code",
   "execution_count": null,
   "metadata": {},
   "outputs": [],
   "source": [
    "STATISTICAL_METRICS = {'stochastic': {}, 'bootstrap': {}}\n",
    "RUNS = 5\n",
    "\n",
    "for m in ['stochastic', 'bootstrap']:\n",
    "    for z in SYNTHETIC[m].keys():\n",
    "        i = int(z[3:7]) # Year\n",
    "        j = INVERSE_MONTHS[z[0:3]] # Month\n",
    "        k = z[8:11] # Sky condition\n",
    "\n",
    "        metrics = {'kolmogorov_smirnov': [],\n",
    "                   'kullback_leibler_divergence': [],\n",
    "                   'overlapping_coefficient': []}\n",
    "\n",
    "        for _ in range(RUNS):\n",
    "            try:\n",
    "                sample1 = LOOP_ANALYSIS[f'{MONTHS[str(j)]}{i}']['bootstrap'][k].T.sample(n=1, axis=1).values.flatten()\n",
    "                sample2 = SYNTHETIC[m][f'{MONTHS[str(j)]}{i}-{k}'].sample(n=1, axis=1).values.flatten()\n",
    "\n",
    "                # Kolmogorov-Smirnov Test (KS)\n",
    "                metrics['kolmogorov_smirnov'].append(src.metrics.kolmogorov_smirnov(sample1=sample1, sample2=sample2))\n",
    "\n",
    "                # Kullback-Leibler Divergence (KLD)\n",
    "                metrics['kullback_leibler_divergence'].append(src.metrics.kullback_leibler_divergence(sample1=sample1, sample2=sample2))\n",
    "\n",
    "                # Overlapping coefficient (OVC)\n",
    "                metrics['overlapping_coefficient'].append(src.metrics.overlapping_coefficient(sample1=sample1, sample2=sample2))\n",
    "\n",
    "            except:\n",
    "                pass\n",
    "\n",
    "        for _ in metrics.keys():\n",
    "            metrics[_] = np.mean(metrics[_])\n",
    "\n",
    "        STATISTICAL_METRICS[m][f'{MONTHS[str(j)]}{i}-{k}'] = metrics"
   ]
  },
  {
   "cell_type": "code",
   "execution_count": null,
   "metadata": {},
   "outputs": [],
   "source": [
    "ovc = pd.Series([STATISTICAL_METRICS['bootstrap'][i]['overlapping_coefficient'] for i in STATISTICAL_METRICS['bootstrap'].keys()])"
   ]
  },
  {
   "cell_type": "code",
   "execution_count": null,
   "metadata": {},
   "outputs": [],
   "source": [
    "# Stochastic\n",
    "metrics_stochastic = pd.DataFrame(STATISTICAL_METRICS['stochastic']).T\n",
    "metrics_stochastic['month'] = [INVERSE_MONTHS[i[0:3]] for i in metrics_stochastic.index]\n",
    "metrics_stochastic['sc'] = [i[8:11] for i in metrics_stochastic.index]\n",
    "metrics_stochastic = metrics_stochastic.fillna(0)\n",
    "\n",
    "# Bootstrap\n",
    "metrics_bootstrap = pd.DataFrame(STATISTICAL_METRICS['bootstrap']).T\n",
    "metrics_bootstrap['month'] = [INVERSE_MONTHS[i[0:3]] for i in metrics_bootstrap.index]\n",
    "metrics_bootstrap['sc'] = [i[8:11] for i in metrics_bootstrap.index]\n",
    "metrics_bootstrap = metrics_bootstrap.fillna(0)"
   ]
  },
  {
   "cell_type": "code",
   "execution_count": null,
   "metadata": {},
   "outputs": [],
   "source": [
    "# Monthly average\n",
    "SM_STOCHASTIC_MONTH = metrics_stochastic.groupby(by='month').mean().round(decimals=2)\n",
    "SM_BOOTSTRAP_MONTH = metrics_bootstrap.groupby(by='month').mean().round(decimals=2)\n",
    "\n",
    "# Sky condition average\n",
    "SM_STOCHASTIC_SC = metrics_stochastic.groupby(by='sc').mean().round(decimals=2)\n",
    "SM_BOOTSTRAP_SC = metrics_bootstrap.groupby(by='sc').mean().round(decimals=2)"
   ]
  },
  {
   "cell_type": "code",
   "execution_count": null,
   "metadata": {},
   "outputs": [],
   "source": [
    "# Download\n",
    "SM_STOCHASTIC_MONTH.to_csv(f'../metrics/statistical/{FILE}/stochastic_month.csv')\n",
    "SM_BOOTSTRAP_MONTH.to_csv(f'../metrics/statistical/{FILE}/bootstrap_month.csv')\n",
    "SM_STOCHASTIC_SC.to_csv(f'../metrics/statistical/{FILE}/stochastic_sc.csv')\n",
    "SM_BOOTSTRAP_SC.to_csv(f'../metrics/statistical/{FILE}/bootstrap_sc.csv')"
   ]
  },
  {
   "attachments": {},
   "cell_type": "markdown",
   "metadata": {},
   "source": [
    "## 3.3. Energy production"
   ]
  },
  {
   "cell_type": "code",
   "execution_count": null,
   "metadata": {},
   "outputs": [],
   "source": [
    "INVERTER = pvlib.pvsystem.retrieve_sam(name='CECInverter')['ABB__TRIO_50_0_TL_OUTD_US_480__480V_']\n",
    "MODULE = pvlib.pvsystem.retrieve_sam(name='CECMod')['LG_Electronics_Inc__LG400N2W_A5']\n",
    "MPS = 16 # Modules per string\n",
    "SPI = 8 # Strings per inverter\n",
    "LOSS = 26.9"
   ]
  },
  {
   "cell_type": "code",
   "execution_count": null,
   "metadata": {},
   "outputs": [],
   "source": [
    "TMOD = np.mean(df['tmod_c'].loc[(df.index.hour >= 6) & (df.index.hour < 18)])"
   ]
  },
  {
   "cell_type": "code",
   "execution_count": null,
   "metadata": {},
   "outputs": [],
   "source": [
    "ENERGY_METRIC = {'stochastic': {}, 'bootstrap': {}}\n",
    "RUNS = 5\n",
    "\n",
    "for m in ['stochastic', 'bootstrap']:\n",
    "    for z in SYNTHETIC[m].keys():\n",
    "        i = int(z[3:7]) # Year\n",
    "        j = INVERSE_MONTHS[z[0:3]] # Month\n",
    "        k = z[8:11] # Sky condition\n",
    "\n",
    "        metrics = [[], []]\n",
    "\n",
    "        for _ in range(RUNS):\n",
    "            try:\n",
    "                sample1 = LOOP_ANALYSIS[f'{MONTHS[str(j)]}{i}']['bootstrap'][k].T.sample(n=1, axis=1).values.flatten()\n",
    "                sample2 = SYNTHETIC[m][f'{MONTHS[str(j)]}{i}-{k}'].sample(n=1, axis=1).values.flatten()\n",
    "\n",
    "                # Energy production\n",
    "                metrics[0].append(src.metrics.energy(irradiance=sample1, resolution=RESOLUTION, tmod=TMOD, inverter=INVERTER, module=MODULE, mps=MPS, spi=SPI, loss=LOSS))\n",
    "                metrics[1].append(src.metrics.energy(irradiance=sample2, resolution=RESOLUTION, tmod=TMOD, inverter=INVERTER, module=MODULE, mps=MPS, spi=SPI, loss=LOSS))\n",
    "\n",
    "            except:\n",
    "                pass\n",
    "\n",
    "        ENERGY_METRIC[m][f'{MONTHS[str(j)]}{i}-{k}'] = np.mean(metrics, axis=1)"
   ]
  },
  {
   "cell_type": "code",
   "execution_count": null,
   "metadata": {},
   "outputs": [],
   "source": [
    "# Stochastic\n",
    "metrics_stochastic = pd.DataFrame(ENERGY_METRIC['stochastic'], index=['real', 'synthetic']).T\n",
    "metrics_stochastic['month'] = [INVERSE_MONTHS[i[0:3]] for i in metrics_stochastic.index]\n",
    "metrics_stochastic['sc'] = [i[8:11] for i in metrics_stochastic.index]\n",
    "metrics_stochastic['percentage_error'] = src.metrics.percentage_error(target=metrics_stochastic['real'], predicted=metrics_stochastic['synthetic'])\n",
    "metrics_stochastic = metrics_stochastic.fillna(0)\n",
    "\n",
    "# Bootstrap\n",
    "metrics_bootstrap = pd.DataFrame(ENERGY_METRIC['bootstrap'], index=['real', 'synthetic']).T\n",
    "metrics_bootstrap['month'] = [INVERSE_MONTHS[i[0:3]] for i in metrics_bootstrap.index]\n",
    "metrics_bootstrap['sc'] = [i[8:11] for i in metrics_bootstrap.index]\n",
    "metrics_bootstrap['percentage_error'] = src.metrics.percentage_error(target=metrics_bootstrap['real'], predicted=metrics_bootstrap['synthetic'])\n",
    "metrics_bootstrap = metrics_bootstrap.fillna(0)"
   ]
  },
  {
   "cell_type": "code",
   "execution_count": null,
   "metadata": {},
   "outputs": [],
   "source": [
    "# Percentage error monthly average\n",
    "EM_STOCHASTIC_MONTH = metrics_stochastic.groupby(by='month').mean().round(decimals=2)\n",
    "EM_BOOTSTRAP_MONTH = metrics_bootstrap.groupby(by='month').mean().round(decimals=2)\n",
    "\n",
    "# Percentage error sky condition average\n",
    "EM_STOCHASTIC_SC = metrics_stochastic.groupby(by='sc').mean().round(decimals=2)\n",
    "EM_BOOTSTRAP_SC = metrics_bootstrap.groupby(by='sc').mean().round(decimals=2)"
   ]
  },
  {
   "cell_type": "code",
   "execution_count": null,
   "metadata": {},
   "outputs": [],
   "source": [
    "# Download\n",
    "EM_STOCHASTIC_MONTH.to_csv(f'../metrics/energy/{FILE}/stochastic_month.csv')\n",
    "EM_BOOTSTRAP_MONTH.to_csv(f'../metrics/energy/{FILE}/bootstrap_month.csv')\n",
    "EM_STOCHASTIC_SC.to_csv(f'../metrics/energy/{FILE}/stochastic_sc.csv')\n",
    "EM_BOOTSTRAP_SC.to_csv(f'../metrics/energy/{FILE}/bootstrap_sc.csv')"
   ]
  },
  {
   "attachments": {},
   "cell_type": "markdown",
   "metadata": {},
   "source": [
    "## 3.4. Cumulative density functions (CDF)"
   ]
  },
  {
   "cell_type": "code",
   "execution_count": null,
   "metadata": {},
   "outputs": [],
   "source": [
    "for i in LOOP_SC:\n",
    "    x, y = src.utils.cdf(data=LOOP_ANALYSIS['Jan2023']['bootstrap'][i].T.sample(n=1, axis=1).iloc[:,0].values)\n",
    "    xs, ys = src.utils.cdf(data=SYNTHETIC['stochastic'][f'Jan2023-{i}'].sample(n=1, axis=1).iloc[:,0].values)\n",
    "    xb, yb = src.utils.cdf(data=SYNTHETIC['bootstrap'][f'Jan2023-{i}'].sample(n=1, axis=1).iloc[:,0].values)\n",
    "\n",
    "    hor = 6\n",
    "    ver = 5\n",
    "    plt.figure(figsize=(hor,ver), dpi=100)\n",
    "\n",
    "    plt.plot(x, y, color='dodgerblue', label='Measured')\n",
    "    plt.plot(xs, ys, color='orange', label='Synthetic (Stochastic)')\n",
    "    plt.plot(xb, yb, color='tomato', label='Synthetic (Bootstrap)')\n",
    "\n",
    "    plt.title(f'CDF Comparison (Jan-2023 {str.upper(i)})')\n",
    "    plt.ylabel('Cumulative Probability')\n",
    "    plt.xlabel('Irradiance, $W/m^2$')\n",
    "    plt.tick_params(which='major', direction='in', length=5, width=0.75, grid_alpha=0.3)\n",
    "    plt.tick_params(which='minor', direction='in', length=2.5, width=0.5, grid_alpha=0.3)\n",
    "    plt.xticks(rotation=0)\n",
    "    plt.minorticks_on()\n",
    "    plt.ylim(0, 1)\n",
    "    plt.xlim(-10, None)\n",
    "    plt.grid(True)\n",
    "    plt.grid(visible=True, which='major', color='grey', linestyle='-', linewidth=0.5)\n",
    "    plt.grid(visible=True, which='minor', color='lightgrey', linestyle='-', linewidth=0.3, alpha=0.2)\n",
    "    plt.tight_layout\n",
    "    plt.legend(loc='center right', fontsize=9) # bbox_to_anchor=(1,1)"
   ]
  },
  {
   "attachments": {},
   "cell_type": "markdown",
   "metadata": {},
   "source": [
    "# 4. $T_{amb}$ and $T_{mod}$ Synthetic Data Generation"
   ]
  },
  {
   "attachments": {},
   "cell_type": "markdown",
   "metadata": {},
   "source": [
    "## 4.1. Data"
   ]
  },
  {
   "cell_type": "code",
   "execution_count": null,
   "metadata": {},
   "outputs": [],
   "source": [
    "df['noct_c'] = df['tamb_c'] + (((MODULE['T_NOCT'] - 20)/800) * df['poa_wm2'])"
   ]
  },
  {
   "attachments": {},
   "cell_type": "markdown",
   "metadata": {},
   "source": [
    "## 4.2. Method: `autoregressive`"
   ]
  },
  {
   "cell_type": "code",
   "execution_count": null,
   "metadata": {},
   "outputs": [],
   "source": [
    "SC = 'sc5'\n",
    "\n",
    "SYNTHETIC_TAMB = {}\n",
    "SYNTHETIC_TMOD = {}\n",
    "\n",
    "for sc in ['sc1', 'sc2', 'sc3', 'sc4', 'sc5']:\n",
    "    try:\n",
    "        SYNTHETIC_TAMB[sc] = SYNTHETIC['bootstrap'][f'Jan2020-{sc}'] * 0\n",
    "        SYNTHETIC_TMOD[sc] = SYNTHETIC['bootstrap'][f'Jan2020-{sc}'] * 0\n",
    "\n",
    "        data = df.loc[(df.index.year == 2020) & (df.index.month == 1) & (df.index.day.isin(LOOP_ANALYSIS['Jan2020']['bootstrap'][sc].T.columns))]\n",
    "\n",
    "        for s in SYNTHETIC['bootstrap'][f'Jan2020-{sc}'].columns:\n",
    "            irradiance = SYNTHETIC['bootstrap'][f'Jan2020-{sc}'][s].values\n",
    "\n",
    "            tamb = []\n",
    "            tmod = []\n",
    "\n",
    "            # Synthetic stochastic temperature\n",
    "            for i in irradiance:\n",
    "                irradiance_range = data.loc[(i - i*0.025 <= data['poa_wm2']) & (data['poa_wm2'] <= i + i*0.025)]\n",
    "\n",
    "                synt_tamb = np.random.normal(loc=irradiance_range['tamb_c'].mean(), scale=irradiance_range['tamb_c'].std())\n",
    "                synt_tmod = np.random.normal(loc=irradiance_range['tmod_c'].mean(), scale=irradiance_range['tmod_c'].std())\n",
    "\n",
    "                tamb.append(synt_tamb)\n",
    "                tmod.append(synt_tmod)\n",
    "\n",
    "            # Filter synthetic ambient temperature\n",
    "            new_tamb = []\n",
    "            for i in range(len(tamb)):\n",
    "                if math.isnan(tamb[i]) == False:\n",
    "                    new_tamb.append(tamb[i])\n",
    "                else:\n",
    "                    # Previous temperature\n",
    "                    c = 1\n",
    "                    t_back = tamb[i-c]\n",
    "\n",
    "                    while math.isnan(t_back) == True:\n",
    "                        c += 1\n",
    "                        t_back = tamb[i-c]\n",
    "\n",
    "                    # Next temperature\n",
    "                    c = 1\n",
    "                    t_front = tamb[i+c]\n",
    "\n",
    "                    while math.isnan(t_front) == True:\n",
    "                        c += 1\n",
    "                        t_front = tamb[i+c]\n",
    "\n",
    "                    new_tamb.append(np.mean((t_back, t_front)))\n",
    "\n",
    "            # Filter synthetic module temperature\n",
    "            new_tmod = []\n",
    "            for i in range(len(tmod)):\n",
    "                if math.isnan(tmod[i]) == False:\n",
    "                    new_tmod.append(tmod[i])\n",
    "                else:\n",
    "                    # Previous temperature\n",
    "                    c = 1\n",
    "                    t_back = tmod[i-c]\n",
    "\n",
    "                    while math.isnan(t_back) == True:\n",
    "                        c += 1\n",
    "                        t_back = tmod[i-c]\n",
    "\n",
    "                    # Next temperature\n",
    "                    c = 1\n",
    "                    t_front = tmod[i+c]\n",
    "\n",
    "                    while math.isnan(t_front) == True:\n",
    "                        c += 1\n",
    "                        t_front = tmod[i+c]\n",
    "\n",
    "                    new_tmod.append(np.mean((t_back, t_front)))\n",
    "\n",
    "            SYNTHETIC_TAMB[sc][s] = tamb\n",
    "            SYNTHETIC_TMOD[sc][s] = tmod\n",
    "\n",
    "    except:\n",
    "        SYNTHETIC_TAMB[sc] = None\n",
    "        SYNTHETIC_TMOD[sc] = None"
   ]
  },
  {
   "cell_type": "code",
   "execution_count": null,
   "metadata": {},
   "outputs": [],
   "source": [
    "# Ambient temperature\n",
    "synthetic_tamb = []\n",
    "for i in SYNTHETIC_TAMB.keys():\n",
    "    try:\n",
    "        synthetic_tamb = np.concatenate((synthetic_tamb, SYNTHETIC_TAMB[i].to_numpy().T.flatten()))\n",
    "    except:\n",
    "        pass\n",
    "\n",
    "# Module temperature\n",
    "synthetic_tmod = []\n",
    "for i in SYNTHETIC_TMOD.keys():\n",
    "    try:\n",
    "        synthetic_tmod = np.concatenate((synthetic_tmod, SYNTHETIC_TMOD[i].to_numpy().T.flatten()))\n",
    "    except:\n",
    "        pass"
   ]
  },
  {
   "cell_type": "code",
   "execution_count": null,
   "metadata": {},
   "outputs": [],
   "source": [
    "hor = 8\n",
    "ver = 5\n",
    "plt.figure(figsize=(hor,ver))\n",
    "\n",
    "plt.plot(data['poa_wm2'].values, data['tamb_c'].values, linestyle='', marker='o', markerfacecolor='dodgerblue', markeredgecolor='dodgerblue', ms=2, label='Measured')\n",
    "plt.plot(data['poa_wm2'].values, synthetic_tamb[0:len(data)], linestyle='', marker='o', markerfacecolor='tomato', markeredgecolor='tomato', ms=2, label='Synthetic')\n",
    "#plt.plot(data['poa_wm2'].values, data['noct_c'].values, linestyle='', marker='o', markerfacecolor='orange', markeredgecolor='orange', ms=2, label='NOCT')\n",
    "\n",
    "aux_str = '$T_{amb}$'\n",
    "plt.title(f'{aux_str} Comparison ({MONTHS[str(MONTH)]}-{YEAR})')\n",
    "plt.ylabel('Temperature, $°C$')\n",
    "plt.xlabel('Irradiance, $W/m^2$')\n",
    "plt.tick_params(which='major', direction='in', length=5, width=0.75, grid_alpha=0.3)\n",
    "plt.tick_params(which='minor', direction='in', length=2.5, width=0.5, grid_alpha=0.3)\n",
    "plt.xticks(rotation=0)\n",
    "plt.minorticks_on()\n",
    "plt.ylim(0, None)\n",
    "plt.xlim(0, None)\n",
    "plt.grid(True)\n",
    "plt.grid(visible=True, which='major', color='grey', linestyle='-', linewidth=0.5)\n",
    "plt.grid(visible=True, which='minor', color='lightgrey', linestyle='-', linewidth=0.3, alpha=0.2)\n",
    "plt.tight_layout\n",
    "plt.legend(loc='best', fontsize=9) # bbox_to_anchor=(1,1)"
   ]
  },
  {
   "cell_type": "code",
   "execution_count": null,
   "metadata": {},
   "outputs": [],
   "source": [
    "hor = 8\n",
    "ver = 5\n",
    "plt.figure(figsize=(hor,ver))\n",
    "\n",
    "plt.plot(data['poa_wm2'].values, data['tmod_c'].values, linestyle='', marker='o', markerfacecolor='dodgerblue', markeredgecolor='dodgerblue', ms=2, label='Measured')\n",
    "plt.plot(data['poa_wm2'].values, synthetic_tmod[0:len(data)], linestyle='', marker='o', markerfacecolor='tomato', markeredgecolor='tomato', ms=2, label='Synthetic')\n",
    "plt.plot(data['poa_wm2'].values, data['noct_c'].values, linestyle='', marker='o', markerfacecolor='orange', markeredgecolor='orange', ms=2, label='NOCT')\n",
    "\n",
    "aux_str = '$T_{cell}$'\n",
    "plt.title(f'{aux_str} Comparison ({MONTHS[str(MONTH)]}-{YEAR})')\n",
    "plt.ylabel('Temperature, $°C$')\n",
    "plt.xlabel('Irradiance, $W/m^2$')\n",
    "plt.tick_params(which='major', direction='in', length=5, width=0.75, grid_alpha=0.3)\n",
    "plt.tick_params(which='minor', direction='in', length=2.5, width=0.5, grid_alpha=0.3)\n",
    "plt.xticks(rotation=0)\n",
    "plt.minorticks_on()\n",
    "plt.ylim(0, None)\n",
    "plt.xlim(0, None)\n",
    "plt.grid(True)\n",
    "plt.grid(visible=True, which='major', color='grey', linestyle='-', linewidth=0.5)\n",
    "plt.grid(visible=True, which='minor', color='lightgrey', linestyle='-', linewidth=0.3, alpha=0.2)\n",
    "plt.tight_layout\n",
    "plt.legend(loc='best', fontsize=9) # bbox_to_anchor=(1,1)"
   ]
  }
 ],
 "metadata": {
  "kernelspec": {
   "display_name": "synt",
   "language": "python",
   "name": "python3"
  },
  "language_info": {
   "codemirror_mode": {
    "name": "ipython",
    "version": 3
   },
   "file_extension": ".py",
   "mimetype": "text/x-python",
   "name": "python",
   "nbconvert_exporter": "python",
   "pygments_lexer": "ipython3",
   "version": "3.11.0"
  },
  "vscode": {
   "interpreter": {
    "hash": "c8c41bbeb946ed25b91e141bf4af078b4c4a33e6b170bac4b92dc96c97838c02"
   }
  }
 },
 "nbformat": 4,
 "nbformat_minor": 4
}
