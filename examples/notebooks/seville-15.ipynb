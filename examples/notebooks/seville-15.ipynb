{
 "cells": [
  {
   "cell_type": "code",
   "execution_count": 1,
   "metadata": {},
   "outputs": [],
   "source": [
    "# Set-up\n",
    "%matplotlib inline\n",
    "import matplotlib.pyplot as plt\n",
    "\n",
    "# Built-in python modules\n",
    "import math\n",
    "import datetime\n",
    "import warnings\n",
    "warnings.filterwarnings(action='ignore')\n",
    "\n",
    "# Python add-ons\n",
    "import numpy as np\n",
    "import pandas as pd\n",
    "from statsmodels.api import qqplot\n",
    "\n",
    "# Sandia pvlib-python\n",
    "import pvlib\n",
    "\n",
    "# Synthetic\n",
    "import sys\n",
    "sys.path.insert(1, '../../')\n",
    "import src"
   ]
  },
  {
   "attachments": {},
   "cell_type": "markdown",
   "metadata": {},
   "source": [
    "# 1. Data"
   ]
  },
  {
   "cell_type": "code",
   "execution_count": 2,
   "metadata": {},
   "outputs": [],
   "source": [
    "FILE = 'seville-15'\n",
    "\n",
    "df = pd.read_csv(filepath_or_buffer=f'../data/{FILE}.csv', sep=',', decimal='.', index_col='timestamp', parse_dates=True)\n",
    "\n",
    "# NaN\n",
    "df = df.fillna(0)\n",
    "\n",
    "# Ant data\n",
    "df.loc[df['ghi_wm2'] <= 1.5, 'ghi_wm2'] = 0"
   ]
  },
  {
   "attachments": {},
   "cell_type": "markdown",
   "metadata": {},
   "source": [
    "# 2. Synthetic Irradiance Data Generation"
   ]
  },
  {
   "attachments": {},
   "cell_type": "markdown",
   "metadata": {},
   "source": [
    "## 2.1. Clear-Sky Index"
   ]
  },
  {
   "cell_type": "code",
   "execution_count": 3,
   "metadata": {},
   "outputs": [],
   "source": [
    "# Location\n",
    "latitude = 40.41\n",
    "longitude = -3.70\n",
    "tz = 'Europe/Madrid'\n",
    "altitude = 680 # [m]\n",
    "\n",
    "location = pvlib.location.Location(latitude, longitude, tz, altitude)"
   ]
  },
  {
   "cell_type": "code",
   "execution_count": 4,
   "metadata": {},
   "outputs": [],
   "source": [
    "# Clear-sky irradiance (Hcs)\n",
    "RESOLUTION = int(pd.Series(df.index.values).diff().median().total_seconds()/60)\n",
    "\n",
    "hcs = location.get_clearsky(times=pd.date_range(start=df.index[0] - datetime.timedelta(days=1, hours=0, minutes=0),\n",
    "                                                end=df.index[-1] + datetime.timedelta(days=1, hours=6, minutes=0),\n",
    "                                                freq=f'{RESOLUTION}min',\n",
    "                                                tz=None),\n",
    "                            model='ineichen')"
   ]
  },
  {
   "cell_type": "code",
   "execution_count": 5,
   "metadata": {},
   "outputs": [
    {
     "data": {
      "text/html": [
       "<div>\n",
       "<style scoped>\n",
       "    .dataframe tbody tr th:only-of-type {\n",
       "        vertical-align: middle;\n",
       "    }\n",
       "\n",
       "    .dataframe tbody tr th {\n",
       "        vertical-align: top;\n",
       "    }\n",
       "\n",
       "    .dataframe thead th {\n",
       "        text-align: right;\n",
       "    }\n",
       "</style>\n",
       "<table border=\"1\" class=\"dataframe\">\n",
       "  <thead>\n",
       "    <tr style=\"text-align: right;\">\n",
       "      <th></th>\n",
       "      <th>ghi_wm2</th>\n",
       "      <th>tamb_c</th>\n",
       "      <th>hcs_wm2</th>\n",
       "      <th>kc</th>\n",
       "    </tr>\n",
       "  </thead>\n",
       "  <tbody>\n",
       "    <tr>\n",
       "      <th>2019-01-01 00:00:00</th>\n",
       "      <td>0</td>\n",
       "      <td>6.5</td>\n",
       "      <td>0.0</td>\n",
       "      <td>1.0</td>\n",
       "    </tr>\n",
       "    <tr>\n",
       "      <th>2019-01-01 00:15:00</th>\n",
       "      <td>0</td>\n",
       "      <td>6.4</td>\n",
       "      <td>0.0</td>\n",
       "      <td>1.0</td>\n",
       "    </tr>\n",
       "    <tr>\n",
       "      <th>2019-01-01 00:30:00</th>\n",
       "      <td>0</td>\n",
       "      <td>6.3</td>\n",
       "      <td>0.0</td>\n",
       "      <td>1.0</td>\n",
       "    </tr>\n",
       "    <tr>\n",
       "      <th>2019-01-01 00:45:00</th>\n",
       "      <td>0</td>\n",
       "      <td>6.1</td>\n",
       "      <td>0.0</td>\n",
       "      <td>1.0</td>\n",
       "    </tr>\n",
       "    <tr>\n",
       "      <th>2019-01-01 01:00:00</th>\n",
       "      <td>0</td>\n",
       "      <td>6.0</td>\n",
       "      <td>0.0</td>\n",
       "      <td>1.0</td>\n",
       "    </tr>\n",
       "  </tbody>\n",
       "</table>\n",
       "</div>"
      ],
      "text/plain": [
       "                     ghi_wm2  tamb_c  hcs_wm2   kc\n",
       "2019-01-01 00:00:00        0     6.5      0.0  1.0\n",
       "2019-01-01 00:15:00        0     6.4      0.0  1.0\n",
       "2019-01-01 00:30:00        0     6.3      0.0  1.0\n",
       "2019-01-01 00:45:00        0     6.1      0.0  1.0\n",
       "2019-01-01 01:00:00        0     6.0      0.0  1.0"
      ]
     },
     "execution_count": 5,
     "metadata": {},
     "output_type": "execute_result"
    }
   ],
   "source": [
    "# Append clear-sky irradiance to main dataframe\n",
    "df = pd.merge(df, hcs['ghi'], left_index=True, right_index=True)\n",
    "df = df.rename(columns={'ghi': 'hcs_wm2'})\n",
    "\n",
    "# Clear-sky index (kc) to main dataframe\n",
    "df['kc'] = df['ghi_wm2'].values / df['hcs_wm2'].values\n",
    "\n",
    "# Filters\n",
    "## NaN\n",
    "df['kc'] = df['kc'].fillna(1)\n",
    "\n",
    "# Replace kc > 1\n",
    "df.loc[df['kc'] > 1, 'kc'] = 1\n",
    "\n",
    "df.head()"
   ]
  },
  {
   "cell_type": "code",
   "execution_count": 6,
   "metadata": {},
   "outputs": [
    {
     "data": {
      "image/png": "[encoded data removed]",
      "text/plain": [
       "<Figure size 800x400 with 2 Axes>"
      ]
     },
     "metadata": {},
     "output_type": "display_data"
    }
   ],
   "source": [
    "hor = 8\n",
    "ver = 4\n",
    "plt.figure(figsize=(hor, ver), dpi=100)\n",
    "\n",
    "# GHI and Hcs\n",
    "df['ghi_wm2'][0:150].plot(color='dodgerblue', label='Measured', xlabel='Time', ylabel='Irradiance, W/m$^2$', legend=True)\n",
    "df['hcs_wm2'][0:150].plot(color='orange', label='Clear-sky', xlabel='Time', ylabel='Irradiance, W/m$^2$', legend=True)\n",
    "\n",
    "plt.rcParams['axes.axisbelow'] = True\n",
    "\n",
    "plt.title('Irradiance Behavior')\n",
    "plt.xlabel('Time')\n",
    "\n",
    "plt.tick_params(which='major', direction='in', length=5, width=0.75, grid_alpha=0.3)\n",
    "plt.tick_params(which='minor', direction='in', length=2.5, width=0.5, grid_alpha=0.3)\n",
    "plt.xticks(rotation=0)\n",
    "plt.minorticks_on()\n",
    "plt.ylim(0, None)\n",
    "plt.xlim(None, None)\n",
    "plt.grid(True)\n",
    "plt.grid(visible=True, which='major', color='grey', linestyle='-', linewidth=0.5)\n",
    "plt.grid(visible=True, which='minor', color='lightgrey', linestyle='-', linewidth=0.3, alpha=0.2)\n",
    "plt.legend(loc='best', fontsize=9)\n",
    "plt.tight_layout;\n",
    "\n",
    "# kc\n",
    "df['kc'][0:50].plot(color='limegreen', label='$k_c$', secondary_y=True, xlabel='Time', ylabel='$k_c$', legend=True, mark_right=False)\n",
    "\n",
    "plt.tick_params(which='major', direction='in', length=5, width=0.75, grid_alpha=0.3)\n",
    "plt.tick_params(which='minor', direction='in', length=2.5, width=0.5, grid_alpha=0.3)\n",
    "plt.xticks(rotation=0)\n",
    "plt.minorticks_on()\n",
    "plt.ylim(0, None)\n",
    "plt.xlim(None, None)\n",
    "plt.tight_layout;"
   ]
  },
  {
   "attachments": {},
   "cell_type": "markdown",
   "metadata": {},
   "source": [
    "## 2.2. `analysis`: Function to extract descriptive statistics from irradiance data"
   ]
  },
  {
   "cell_type": "code",
   "execution_count": 7,
   "metadata": {},
   "outputs": [],
   "source": [
    "TIMES = [f'{i}:0{j}' if j < 10 else f'{i}:{j}' for i in range(0, 24) for j in range(0, 60, RESOLUTION)]\n",
    "\n",
    "MONTHS = {'1': 'Jan', '2': 'Feb', '3': 'Mar', '4': 'Apr', '5': 'May', '6': 'Jun',\n",
    "          '7': 'Jul', '8': 'Aug', '9': 'Sep', '10': 'Oct', '11': 'Nov', '12': 'Dec'}\n",
    "\n",
    "INVERSE_MONTHS = {'Jan': 1, 'Feb': 2, 'Mar': 3, 'Apr': 4, 'May': 5, 'Jun': 6,\n",
    "                  'Jul': 7, 'Aug': 8, 'Sep': 9, 'Oct': 10, 'Nov': 11, 'Dec': 12}\n",
    "\n",
    "MULTIINDEX = [(i,j) for i in range(0, 24) for j in range(0, 60, RESOLUTION)]\n",
    "\n",
    "XTICKS = np.arange(start=0, stop=len(TIMES), step=50)\n",
    "LABELS = [TIMES[i] for i in XTICKS]"
   ]
  },
  {
   "attachments": {},
   "cell_type": "markdown",
   "metadata": {},
   "source": [
    "### 2.2.1. Shapiro-Wilk, Anderson-Darling and Kolmogorov-Smirnov tests"
   ]
  },
  {
   "cell_type": "code",
   "execution_count": 8,
   "metadata": {},
   "outputs": [],
   "source": [
    "LOOP_YEARS = df.index.year.unique().values\n",
    "LOOP_MONTHS = df.index.month.unique().values\n",
    "LOOP_SC = ['sc1', 'sc2', 'sc3', 'sc4', 'sc5']\n",
    "\n",
    "LOOP_ANALYSIS = {}\n",
    "\n",
    "for i in LOOP_YEARS:\n",
    "    for j in LOOP_MONTHS:\n",
    "        LOOP_ANALYSIS[f'{MONTHS[str(j)]}{i}'] = src.utils.analysis(df=df, year=i, month=j, irradiance_column='ghi_wm2', resolution=RESOLUTION, plot=False)"
   ]
  },
  {
   "cell_type": "code",
   "execution_count": 9,
   "metadata": {},
   "outputs": [
    {
     "data": {
      "text/html": [
       "<div>\n",
       "<style scoped>\n",
       "    .dataframe tbody tr th:only-of-type {\n",
       "        vertical-align: middle;\n",
       "    }\n",
       "\n",
       "    .dataframe tbody tr th {\n",
       "        vertical-align: top;\n",
       "    }\n",
       "\n",
       "    .dataframe thead th {\n",
       "        text-align: right;\n",
       "    }\n",
       "</style>\n",
       "<table border=\"1\" class=\"dataframe\">\n",
       "  <thead>\n",
       "    <tr style=\"text-align: right;\">\n",
       "      <th></th>\n",
       "      <th>year</th>\n",
       "      <th>month</th>\n",
       "      <th>shapiro_wilk</th>\n",
       "      <th>anderson_darling</th>\n",
       "      <th>lognormal_test</th>\n",
       "    </tr>\n",
       "  </thead>\n",
       "  <tbody>\n",
       "    <tr>\n",
       "      <th>count</th>\n",
       "      <td>912.0</td>\n",
       "      <td>912.000000</td>\n",
       "      <td>912.000000</td>\n",
       "      <td>912.000000</td>\n",
       "      <td>912.000000</td>\n",
       "    </tr>\n",
       "    <tr>\n",
       "      <th>mean</th>\n",
       "      <td>2019.0</td>\n",
       "      <td>7.052632</td>\n",
       "      <td>0.216732</td>\n",
       "      <td>0.930921</td>\n",
       "      <td>0.164934</td>\n",
       "    </tr>\n",
       "    <tr>\n",
       "      <th>std</th>\n",
       "      <td>0.0</td>\n",
       "      <td>3.577812</td>\n",
       "      <td>0.333034</td>\n",
       "      <td>0.253727</td>\n",
       "      <td>0.270707</td>\n",
       "    </tr>\n",
       "    <tr>\n",
       "      <th>min</th>\n",
       "      <td>2019.0</td>\n",
       "      <td>1.000000</td>\n",
       "      <td>-0.000000</td>\n",
       "      <td>0.000000</td>\n",
       "      <td>0.000000</td>\n",
       "    </tr>\n",
       "    <tr>\n",
       "      <th>25%</th>\n",
       "      <td>2019.0</td>\n",
       "      <td>4.000000</td>\n",
       "      <td>0.000000</td>\n",
       "      <td>1.000000</td>\n",
       "      <td>0.000000</td>\n",
       "    </tr>\n",
       "    <tr>\n",
       "      <th>50%</th>\n",
       "      <td>2019.0</td>\n",
       "      <td>7.000000</td>\n",
       "      <td>0.010000</td>\n",
       "      <td>1.000000</td>\n",
       "      <td>0.000000</td>\n",
       "    </tr>\n",
       "    <tr>\n",
       "      <th>75%</th>\n",
       "      <td>2019.0</td>\n",
       "      <td>11.000000</td>\n",
       "      <td>0.330000</td>\n",
       "      <td>1.000000</td>\n",
       "      <td>0.270000</td>\n",
       "    </tr>\n",
       "    <tr>\n",
       "      <th>max</th>\n",
       "      <td>2019.0</td>\n",
       "      <td>12.000000</td>\n",
       "      <td>1.000000</td>\n",
       "      <td>1.000000</td>\n",
       "      <td>1.000000</td>\n",
       "    </tr>\n",
       "  </tbody>\n",
       "</table>\n",
       "</div>"
      ],
      "text/plain": [
       "         year       month  shapiro_wilk  anderson_darling  lognormal_test\n",
       "count   912.0  912.000000    912.000000        912.000000      912.000000\n",
       "mean   2019.0    7.052632      0.216732          0.930921        0.164934\n",
       "std       0.0    3.577812      0.333034          0.253727        0.270707\n",
       "min    2019.0    1.000000     -0.000000          0.000000        0.000000\n",
       "25%    2019.0    4.000000      0.000000          1.000000        0.000000\n",
       "50%    2019.0    7.000000      0.010000          1.000000        0.000000\n",
       "75%    2019.0   11.000000      0.330000          1.000000        0.270000\n",
       "max    2019.0   12.000000      1.000000          1.000000        1.000000"
      ]
     },
     "execution_count": 9,
     "metadata": {},
     "output_type": "execute_result"
    }
   ],
   "source": [
    "# For high resolution (e.g., 5 min), this cell takes ~10 min to run\n",
    "\n",
    "DISTRIBUTIONS = pd.DataFrame()\n",
    "\n",
    "for z in LOOP_ANALYSIS.keys():\n",
    "    i = int(z[3:7]) # Year\n",
    "    j = INVERSE_MONTHS[z[0:3]] # Month\n",
    "\n",
    "    for k in LOOP_SC:\n",
    "        df_to_check = LOOP_ANALYSIS[z]['bootstrap'][k]\n",
    "\n",
    "        if (df_to_check.empty != True) and (len(df_to_check) >= 3):\n",
    "            aux_df = pd.DataFrame(data={'year':i,\n",
    "                                        'month': j,\n",
    "                                        'sc': k,\n",
    "                                        'shapiro_wilk': [src.utils.shapiro_wilk(data=d) for d in df_to_check.T.values],\n",
    "                                        'anderson_darling': [src.utils.anderson_darling(data=d) for d in df_to_check.T.values],\n",
    "                                        'lognormal_test': [src.utils.lognormal_test(data=d) for d in df_to_check.T.values]},\n",
    "                                  index=df_to_check.columns).iloc[TIMES.index('6:00'):TIMES.index('18:00'),:] # 6:15 to 17:45h\n",
    "\n",
    "            DISTRIBUTIONS = pd.concat([DISTRIBUTIONS, aux_df])\n",
    "\n",
    "DISTRIBUTIONS.to_csv(f'../distributions/{FILE}/distributions.csv')\n",
    "\n",
    "DISTRIBUTIONS.describe()"
   ]
  },
  {
   "cell_type": "code",
   "execution_count": 10,
   "metadata": {},
   "outputs": [
    {
     "name": "stdout",
     "output_type": "stream",
     "text": [
      "33.99% of the total data behaves as a Gaussian distribution according to Shapiro-Wilk and Anderson-Darling tests.\n",
      "35.64% of the total data behaves as a lognormal distribution.\n",
      "43.64% of the total data behaves either Gaussian or lognormal distribution.\n"
     ]
    }
   ],
   "source": [
    "# Gaussian distribution\n",
    "complete_gaussian = (len(DISTRIBUTIONS[(DISTRIBUTIONS['shapiro_wilk'] > 0.05) & (DISTRIBUTIONS['anderson_darling'] == 1)]) / len(DISTRIBUTIONS)) * 100\n",
    "print(f'{np.round(a=complete_gaussian, decimals=2)}% of the total data behaves as a Gaussian distribution according to Shapiro-Wilk and Anderson-Darling tests.')\n",
    "\n",
    "# Lognormal distribution\n",
    "complete_lognormal = (len(DISTRIBUTIONS[(DISTRIBUTIONS['lognormal_test'] > 0.05)]) / len(DISTRIBUTIONS)) * 100\n",
    "print(f'{np.round(a=complete_lognormal, decimals=2)}% of the total data behaves as a lognormal distribution.')\n",
    "\n",
    "# Gaussian or lognormal\n",
    "gaussian_or_lognormal = (len(DISTRIBUTIONS[((DISTRIBUTIONS['shapiro_wilk'] > 0.05) & (DISTRIBUTIONS['anderson_darling'] == 1)) | (DISTRIBUTIONS['lognormal_test'] > 0.05)]) / len(DISTRIBUTIONS)) * 100\n",
    "print(f'{np.round(a=gaussian_or_lognormal, decimals=2)}% of the total data behaves either Gaussian or lognormal distribution.')"
   ]
  },
  {
   "cell_type": "code",
   "execution_count": 11,
   "metadata": {},
   "outputs": [
    {
     "data": {
      "text/html": [
       "<div>\n",
       "<style scoped>\n",
       "    .dataframe tbody tr th:only-of-type {\n",
       "        vertical-align: middle;\n",
       "    }\n",
       "\n",
       "    .dataframe tbody tr th {\n",
       "        vertical-align: top;\n",
       "    }\n",
       "\n",
       "    .dataframe thead th {\n",
       "        text-align: right;\n",
       "    }\n",
       "</style>\n",
       "<table border=\"1\" class=\"dataframe\">\n",
       "  <thead>\n",
       "    <tr style=\"text-align: right;\">\n",
       "      <th></th>\n",
       "      <th>shapiro_wilk</th>\n",
       "      <th>anderson_darling</th>\n",
       "      <th>lognormal_test</th>\n",
       "    </tr>\n",
       "  </thead>\n",
       "  <tbody>\n",
       "    <tr>\n",
       "      <th>count</th>\n",
       "      <td>19.000000</td>\n",
       "      <td>19.000000</td>\n",
       "      <td>19.000000</td>\n",
       "    </tr>\n",
       "    <tr>\n",
       "      <th>mean</th>\n",
       "      <td>0.216842</td>\n",
       "      <td>0.421053</td>\n",
       "      <td>0.164737</td>\n",
       "    </tr>\n",
       "    <tr>\n",
       "      <th>std</th>\n",
       "      <td>0.171466</td>\n",
       "      <td>0.507257</td>\n",
       "      <td>0.198197</td>\n",
       "    </tr>\n",
       "    <tr>\n",
       "      <th>min</th>\n",
       "      <td>0.000000</td>\n",
       "      <td>0.000000</td>\n",
       "      <td>0.000000</td>\n",
       "    </tr>\n",
       "    <tr>\n",
       "      <th>25%</th>\n",
       "      <td>0.080000</td>\n",
       "      <td>0.000000</td>\n",
       "      <td>0.015000</td>\n",
       "    </tr>\n",
       "    <tr>\n",
       "      <th>50%</th>\n",
       "      <td>0.200000</td>\n",
       "      <td>0.000000</td>\n",
       "      <td>0.050000</td>\n",
       "    </tr>\n",
       "    <tr>\n",
       "      <th>75%</th>\n",
       "      <td>0.355000</td>\n",
       "      <td>1.000000</td>\n",
       "      <td>0.290000</td>\n",
       "    </tr>\n",
       "    <tr>\n",
       "      <th>max</th>\n",
       "      <td>0.500000</td>\n",
       "      <td>1.000000</td>\n",
       "      <td>0.550000</td>\n",
       "    </tr>\n",
       "  </tbody>\n",
       "</table>\n",
       "</div>"
      ],
      "text/plain": [
       "       shapiro_wilk  anderson_darling  lognormal_test\n",
       "count     19.000000         19.000000       19.000000\n",
       "mean       0.216842          0.421053        0.164737\n",
       "std        0.171466          0.507257        0.198197\n",
       "min        0.000000          0.000000        0.000000\n",
       "25%        0.080000          0.000000        0.015000\n",
       "50%        0.200000          0.000000        0.050000\n",
       "75%        0.355000          1.000000        0.290000\n",
       "max        0.500000          1.000000        0.550000"
      ]
     },
     "execution_count": 11,
     "metadata": {},
     "output_type": "execute_result"
    }
   ],
   "source": [
    "GROUPED_DISTRIBUTIONS = DISTRIBUTIONS.groupby(by=['year', 'month', 'sc']).mean().round(decimals=2).astype({'anderson_darling': int})\n",
    "GROUPED_DISTRIBUTIONS.to_csv(f'../distributions/{FILE}/grouped.csv')\n",
    "GROUPED_DISTRIBUTIONS.describe()"
   ]
  },
  {
   "cell_type": "code",
   "execution_count": 12,
   "metadata": {},
   "outputs": [
    {
     "name": "stdout",
     "output_type": "stream",
     "text": [
      "21.05% of the total data behaves as a Gaussian distribution according to Shapiro-Wilk and Anderson-Darling tests.\n",
      "47.37% of the total data behaves as a lognormal distribution.\n",
      "52.63% of the total data behaves either Gaussian or lognormal distribution.\n"
     ]
    }
   ],
   "source": [
    "# Gaussian distribution\n",
    "grouped_gaussian = (len(GROUPED_DISTRIBUTIONS[(GROUPED_DISTRIBUTIONS['shapiro_wilk'] > 0.05) & (GROUPED_DISTRIBUTIONS['anderson_darling'] == 1)]) / len(GROUPED_DISTRIBUTIONS)) * 100\n",
    "print(f'{np.round(a=grouped_gaussian, decimals=2)}% of the total data behaves as a Gaussian distribution according to Shapiro-Wilk and Anderson-Darling tests.')\n",
    "\n",
    "# Lognormal distribution\n",
    "grouped_lognormal = (len(GROUPED_DISTRIBUTIONS[(GROUPED_DISTRIBUTIONS['lognormal_test'] > 0.05)]) / len(GROUPED_DISTRIBUTIONS)) * 100\n",
    "print(f'{np.round(a=grouped_lognormal, decimals=2)}% of the total data behaves as a lognormal distribution.')\n",
    "\n",
    "# Gaussian or lognormal\n",
    "grouped_gaussian_or_lognormal = (len(GROUPED_DISTRIBUTIONS[((GROUPED_DISTRIBUTIONS['shapiro_wilk'] > 0.05) & (GROUPED_DISTRIBUTIONS['anderson_darling'] == 1)) | (GROUPED_DISTRIBUTIONS['lognormal_test'] > 0.05)]) / len(GROUPED_DISTRIBUTIONS)) * 100\n",
    "print(f'{np.round(a=grouped_gaussian_or_lognormal, decimals=2)}% of the total data behaves either Gaussian or lognormal distribution.')"
   ]
  },
  {
   "cell_type": "code",
   "execution_count": 13,
   "metadata": {},
   "outputs": [
    {
     "ename": "FileNotFoundError",
     "evalue": "[Errno 2] No such file or directory: '../../figs/new/fig5d.pdf'",
     "output_type": "error",
     "traceback": [
      "\u001b[0;31m---------------------------------------------------------------------------\u001b[0m",
      "\u001b[0;31mFileNotFoundError\u001b[0m                         Traceback (most recent call last)",
      "Cell \u001b[0;32mIn[13], line 29\u001b[0m\n\u001b[1;32m     27\u001b[0m plt\u001b[39m.\u001b[39mtight_layout\n\u001b[1;32m     28\u001b[0m plt\u001b[39m.\u001b[39mlegend(loc\u001b[39m=\u001b[39m\u001b[39m'\u001b[39m\u001b[39mbest\u001b[39m\u001b[39m'\u001b[39m, fontsize\u001b[39m=\u001b[39m\u001b[39m9\u001b[39m) \u001b[39m# bbox_to_anchor=(1,1)\u001b[39;00m\n\u001b[0;32m---> 29\u001b[0m plt\u001b[39m.\u001b[39;49msavefig(\u001b[39m'\u001b[39;49m\u001b[39m../../figs/new/fig5d.pdf\u001b[39;49m\u001b[39m'\u001b[39;49m, dpi\u001b[39m=\u001b[39;49m\u001b[39m300\u001b[39;49m, bbox_inches\u001b[39m=\u001b[39;49m\u001b[39m'\u001b[39;49m\u001b[39mtight\u001b[39;49m\u001b[39m'\u001b[39;49m)\n",
      "File \u001b[0;32m~/miniforge3/envs/synt/lib/python3.11/site-packages/matplotlib/pyplot.py:996\u001b[0m, in \u001b[0;36msavefig\u001b[0;34m(*args, **kwargs)\u001b[0m\n\u001b[1;32m    993\u001b[0m \u001b[39m@_copy_docstring_and_deprecators\u001b[39m(Figure\u001b[39m.\u001b[39msavefig)\n\u001b[1;32m    994\u001b[0m \u001b[39mdef\u001b[39;00m \u001b[39msavefig\u001b[39m(\u001b[39m*\u001b[39margs, \u001b[39m*\u001b[39m\u001b[39m*\u001b[39mkwargs):\n\u001b[1;32m    995\u001b[0m     fig \u001b[39m=\u001b[39m gcf()\n\u001b[0;32m--> 996\u001b[0m     res \u001b[39m=\u001b[39m fig\u001b[39m.\u001b[39;49msavefig(\u001b[39m*\u001b[39;49margs, \u001b[39m*\u001b[39;49m\u001b[39m*\u001b[39;49mkwargs)\n\u001b[1;32m    997\u001b[0m     fig\u001b[39m.\u001b[39mcanvas\u001b[39m.\u001b[39mdraw_idle()  \u001b[39m# Need this if 'transparent=True', to reset colors.\u001b[39;00m\n\u001b[1;32m    998\u001b[0m     \u001b[39mreturn\u001b[39;00m res\n",
      "File \u001b[0;32m~/miniforge3/envs/synt/lib/python3.11/site-packages/matplotlib/figure.py:3328\u001b[0m, in \u001b[0;36mFigure.savefig\u001b[0;34m(self, fname, transparent, **kwargs)\u001b[0m\n\u001b[1;32m   3324\u001b[0m     \u001b[39mfor\u001b[39;00m ax \u001b[39min\u001b[39;00m \u001b[39mself\u001b[39m\u001b[39m.\u001b[39maxes:\n\u001b[1;32m   3325\u001b[0m         stack\u001b[39m.\u001b[39menter_context(\n\u001b[1;32m   3326\u001b[0m             ax\u001b[39m.\u001b[39mpatch\u001b[39m.\u001b[39m_cm_set(facecolor\u001b[39m=\u001b[39m\u001b[39m'\u001b[39m\u001b[39mnone\u001b[39m\u001b[39m'\u001b[39m, edgecolor\u001b[39m=\u001b[39m\u001b[39m'\u001b[39m\u001b[39mnone\u001b[39m\u001b[39m'\u001b[39m))\n\u001b[0;32m-> 3328\u001b[0m \u001b[39mself\u001b[39;49m\u001b[39m.\u001b[39;49mcanvas\u001b[39m.\u001b[39;49mprint_figure(fname, \u001b[39m*\u001b[39;49m\u001b[39m*\u001b[39;49mkwargs)\n",
      "File \u001b[0;32m~/miniforge3/envs/synt/lib/python3.11/site-packages/matplotlib/backend_bases.py:2362\u001b[0m, in \u001b[0;36mFigureCanvasBase.print_figure\u001b[0;34m(self, filename, dpi, facecolor, edgecolor, orientation, format, bbox_inches, pad_inches, bbox_extra_artists, backend, **kwargs)\u001b[0m\n\u001b[1;32m   2358\u001b[0m \u001b[39mtry\u001b[39;00m:\n\u001b[1;32m   2359\u001b[0m     \u001b[39m# _get_renderer may change the figure dpi (as vector formats\u001b[39;00m\n\u001b[1;32m   2360\u001b[0m     \u001b[39m# force the figure dpi to 72), so we need to set it again here.\u001b[39;00m\n\u001b[1;32m   2361\u001b[0m     \u001b[39mwith\u001b[39;00m cbook\u001b[39m.\u001b[39m_setattr_cm(\u001b[39mself\u001b[39m\u001b[39m.\u001b[39mfigure, dpi\u001b[39m=\u001b[39mdpi):\n\u001b[0;32m-> 2362\u001b[0m         result \u001b[39m=\u001b[39m print_method(\n\u001b[1;32m   2363\u001b[0m             filename,\n\u001b[1;32m   2364\u001b[0m             facecolor\u001b[39m=\u001b[39;49mfacecolor,\n\u001b[1;32m   2365\u001b[0m             edgecolor\u001b[39m=\u001b[39;49medgecolor,\n\u001b[1;32m   2366\u001b[0m             orientation\u001b[39m=\u001b[39;49morientation,\n\u001b[1;32m   2367\u001b[0m             bbox_inches_restore\u001b[39m=\u001b[39;49m_bbox_inches_restore,\n\u001b[1;32m   2368\u001b[0m             \u001b[39m*\u001b[39;49m\u001b[39m*\u001b[39;49mkwargs)\n\u001b[1;32m   2369\u001b[0m \u001b[39mfinally\u001b[39;00m:\n\u001b[1;32m   2370\u001b[0m     \u001b[39mif\u001b[39;00m bbox_inches \u001b[39mand\u001b[39;00m restore_bbox:\n",
      "File \u001b[0;32m~/miniforge3/envs/synt/lib/python3.11/site-packages/matplotlib/backend_bases.py:2228\u001b[0m, in \u001b[0;36mFigureCanvasBase._switch_canvas_and_return_print_method.<locals>.<lambda>\u001b[0;34m(*args, **kwargs)\u001b[0m\n\u001b[1;32m   2224\u001b[0m     optional_kws \u001b[39m=\u001b[39m {  \u001b[39m# Passed by print_figure for other renderers.\u001b[39;00m\n\u001b[1;32m   2225\u001b[0m         \u001b[39m\"\u001b[39m\u001b[39mdpi\u001b[39m\u001b[39m\"\u001b[39m, \u001b[39m\"\u001b[39m\u001b[39mfacecolor\u001b[39m\u001b[39m\"\u001b[39m, \u001b[39m\"\u001b[39m\u001b[39medgecolor\u001b[39m\u001b[39m\"\u001b[39m, \u001b[39m\"\u001b[39m\u001b[39morientation\u001b[39m\u001b[39m\"\u001b[39m,\n\u001b[1;32m   2226\u001b[0m         \u001b[39m\"\u001b[39m\u001b[39mbbox_inches_restore\u001b[39m\u001b[39m\"\u001b[39m}\n\u001b[1;32m   2227\u001b[0m     skip \u001b[39m=\u001b[39m optional_kws \u001b[39m-\u001b[39m {\u001b[39m*\u001b[39minspect\u001b[39m.\u001b[39msignature(meth)\u001b[39m.\u001b[39mparameters}\n\u001b[0;32m-> 2228\u001b[0m     print_method \u001b[39m=\u001b[39m functools\u001b[39m.\u001b[39mwraps(meth)(\u001b[39mlambda\u001b[39;00m \u001b[39m*\u001b[39margs, \u001b[39m*\u001b[39m\u001b[39m*\u001b[39mkwargs: meth(\n\u001b[1;32m   2229\u001b[0m         \u001b[39m*\u001b[39;49margs, \u001b[39m*\u001b[39;49m\u001b[39m*\u001b[39;49m{k: v \u001b[39mfor\u001b[39;49;00m k, v \u001b[39min\u001b[39;49;00m kwargs\u001b[39m.\u001b[39;49mitems() \u001b[39mif\u001b[39;49;00m k \u001b[39mnot\u001b[39;49;00m \u001b[39min\u001b[39;49;00m skip}))\n\u001b[1;32m   2230\u001b[0m \u001b[39melse\u001b[39;00m:  \u001b[39m# Let third-parties do as they see fit.\u001b[39;00m\n\u001b[1;32m   2231\u001b[0m     print_method \u001b[39m=\u001b[39m meth\n",
      "File \u001b[0;32m~/miniforge3/envs/synt/lib/python3.11/site-packages/matplotlib/backends/backend_pdf.py:2808\u001b[0m, in \u001b[0;36mFigureCanvasPdf.print_pdf\u001b[0;34m(self, filename, bbox_inches_restore, metadata)\u001b[0m\n\u001b[1;32m   2806\u001b[0m     file \u001b[39m=\u001b[39m filename\u001b[39m.\u001b[39m_file\n\u001b[1;32m   2807\u001b[0m \u001b[39melse\u001b[39;00m:\n\u001b[0;32m-> 2808\u001b[0m     file \u001b[39m=\u001b[39m PdfFile(filename, metadata\u001b[39m=\u001b[39;49mmetadata)\n\u001b[1;32m   2809\u001b[0m \u001b[39mtry\u001b[39;00m:\n\u001b[1;32m   2810\u001b[0m     file\u001b[39m.\u001b[39mnewPage(width, height)\n",
      "File \u001b[0;32m~/miniforge3/envs/synt/lib/python3.11/site-packages/matplotlib/backends/backend_pdf.py:713\u001b[0m, in \u001b[0;36mPdfFile.__init__\u001b[0;34m(self, filename, metadata)\u001b[0m\n\u001b[1;32m    711\u001b[0m \u001b[39mself\u001b[39m\u001b[39m.\u001b[39moriginal_file_like \u001b[39m=\u001b[39m \u001b[39mNone\u001b[39;00m\n\u001b[1;32m    712\u001b[0m \u001b[39mself\u001b[39m\u001b[39m.\u001b[39mtell_base \u001b[39m=\u001b[39m \u001b[39m0\u001b[39m\n\u001b[0;32m--> 713\u001b[0m fh, opened \u001b[39m=\u001b[39m cbook\u001b[39m.\u001b[39;49mto_filehandle(filename, \u001b[39m\"\u001b[39;49m\u001b[39mwb\u001b[39;49m\u001b[39m\"\u001b[39;49m, return_opened\u001b[39m=\u001b[39;49m\u001b[39mTrue\u001b[39;49;00m)\n\u001b[1;32m    714\u001b[0m \u001b[39mif\u001b[39;00m \u001b[39mnot\u001b[39;00m opened:\n\u001b[1;32m    715\u001b[0m     \u001b[39mtry\u001b[39;00m:\n",
      "File \u001b[0;32m~/miniforge3/envs/synt/lib/python3.11/site-packages/matplotlib/cbook/__init__.py:489\u001b[0m, in \u001b[0;36mto_filehandle\u001b[0;34m(fname, flag, return_opened, encoding)\u001b[0m\n\u001b[1;32m    487\u001b[0m         fh \u001b[39m=\u001b[39m bz2\u001b[39m.\u001b[39mBZ2File(fname, flag)\n\u001b[1;32m    488\u001b[0m     \u001b[39melse\u001b[39;00m:\n\u001b[0;32m--> 489\u001b[0m         fh \u001b[39m=\u001b[39m \u001b[39mopen\u001b[39;49m(fname, flag, encoding\u001b[39m=\u001b[39;49mencoding)\n\u001b[1;32m    490\u001b[0m     opened \u001b[39m=\u001b[39m \u001b[39mTrue\u001b[39;00m\n\u001b[1;32m    491\u001b[0m \u001b[39melif\u001b[39;00m \u001b[39mhasattr\u001b[39m(fname, \u001b[39m'\u001b[39m\u001b[39mseek\u001b[39m\u001b[39m'\u001b[39m):\n",
      "\u001b[0;31mFileNotFoundError\u001b[0m: [Errno 2] No such file or directory: '../../figs/new/fig5d.pdf'"
     ]
    },
    {
     "data": {
      "image/png": "[encoded data removed]",
      "text/plain": [
       "<Figure size 1500x200 with 1 Axes>"
      ]
     },
     "metadata": {},
     "output_type": "display_data"
    }
   ],
   "source": [
    "aux_grouped_distributions = GROUPED_DISTRIBUTIONS.groupby(['year', 'month']).mean()\n",
    "x_axis = [f'{MONTHS[str(i[1])]}\\n{i[0]}' for i in aux_grouped_distributions.index]\n",
    "\n",
    "XTICKS = np.arange(start=0, stop=len(x_axis), step=1)\n",
    "LABELS = [x_axis[i] for i in XTICKS]\n",
    "\n",
    "hor = 15\n",
    "ver = 2\n",
    "plt.figure(figsize=(hor,ver), dpi=100)\n",
    "\n",
    "plt.plot(aux_grouped_distributions['shapiro_wilk'].values, color='dodgerblue', label='Shapiro-Wilk Test')\n",
    "plt.plot(aux_grouped_distributions['lognormal_test'].values, color='orange', label='KS Test (Lognormal)')\n",
    "plt.axhline(y=0.05, linewidth=0.8, color='tomato', label='Significance Level (0.05)', zorder=0)\n",
    "\n",
    "plt.title(f'Goodness of Fit for Seville (SE)')\n",
    "plt.ylabel('p-value')\n",
    "plt.xlabel('Time')\n",
    "plt.tick_params(which='major', direction='in', length=5, width=0.75, grid_alpha=0.3)\n",
    "plt.tick_params(which='minor', direction='in', length=2.5, width=0.5, grid_alpha=0.3)\n",
    "plt.xticks(rotation=0, ticks=XTICKS, labels=LABELS)\n",
    "plt.minorticks_on()\n",
    "plt.ylim(0, 1)\n",
    "plt.xlim(0, len(aux_grouped_distributions)-1)\n",
    "plt.grid(True)\n",
    "plt.grid(visible=True, which='major', color='grey', linestyle='-', linewidth=0.5)\n",
    "plt.grid(visible=True, which='minor', color='lightgrey', linestyle='-', linewidth=0.3, alpha=0.2)\n",
    "plt.tight_layout\n",
    "plt.legend(loc='best', fontsize=9) # bbox_to_anchor=(1,1)\n",
    "plt.savefig('../../figs/new/fig5d.pdf', dpi=300, bbox_inches='tight')"
   ]
  },
  {
   "attachments": {},
   "cell_type": "markdown",
   "metadata": {},
   "source": [
    "### 2.2.2. Histogram (Gaussian or lognormal distributions)"
   ]
  },
  {
   "cell_type": "code",
   "execution_count": null,
   "metadata": {},
   "outputs": [],
   "source": [
    "# Constants\n",
    "TIMES = [f'{i}:0{j}' if j < 10 else f'{i}:{j}' for i in range(0, 24) for j in range(0, 60, RESOLUTION)]\n",
    "\n",
    "MONTHS = {'1': 'Jan', '2': 'Feb', '3': 'Mar', '4': 'Apr', '5': 'May', '6': 'Jun',\n",
    "          '7': 'Jul', '8': 'Aug', '9': 'Sep', '10': 'Oct', '11': 'Nov', '12': 'Dec'}\n",
    "\n",
    "XTICKS = np.arange(start=0, stop=len(TIMES), step=10)\n",
    "LABELS = [TIMES[i] for i in XTICKS]\n",
    "\n",
    "# src.utils.analysis function example\n",
    "YEAR = 2019\n",
    "MONTH = 1\n",
    "\n",
    "ANALYSIS = src.utils.analysis(df=df, year=YEAR, month=MONTH, irradiance_column='ghi_wm2', resolution=RESOLUTION, plot=False)"
   ]
  },
  {
   "cell_type": "code",
   "execution_count": null,
   "metadata": {},
   "outputs": [],
   "source": [
    "HOUR = 13\n",
    "MINUTE = 30\n",
    "SC = 'sc5'\n",
    "\n",
    "df_to_hist = df[(df.index.year == YEAR) & (df.index.month == MONTH) & (df.index.day.isin(ANALYSIS['bootstrap'][SC].index)) & (df.index.hour == HOUR) & (df.index.minute == MINUTE)]['ghi_wm2'].values\n",
    "\n",
    "hor = 8\n",
    "ver = 5\n",
    "plt.figure(figsize=(hor,ver))\n",
    "\n",
    "plt.hist(x=df_to_hist, bins='auto', color='lightgrey', alpha=0.7, edgecolor='black', linewidth=0.5);\n",
    "\n",
    "plt.title(f'Histogram for {MONTHS[str(MONTH)]}-{YEAR} at {HOUR}:{MINUTE}h ({str.upper(SC)})')\n",
    "plt.ylabel('Irradiance, $W/m^2$')\n",
    "plt.xlabel('Time')\n",
    "plt.tick_params(which='major', direction='in', length=5, width=0.75, grid_alpha=0.3)\n",
    "plt.tick_params(which='minor', direction='in', length=2.5, width=0.5, grid_alpha=0.3)\n",
    "plt.xticks(rotation=0)\n",
    "plt.minorticks_on()\n",
    "plt.ylim(0, None)\n",
    "plt.xlim(None, None)\n",
    "plt.grid(True)\n",
    "plt.grid(visible=True, which='major', color='grey', linestyle='-', linewidth=0.5)\n",
    "plt.grid(visible=True, which='minor', color='lightgrey', linestyle='-', linewidth=0.3, alpha=0.2)\n",
    "plt.tight_layout\n",
    "#plt.legend(loc='best', fontsize=9) # bbox_to_anchor=(1,1)"
   ]
  },
  {
   "attachments": {},
   "cell_type": "markdown",
   "metadata": {},
   "source": [
    "### 2.2.3. QQ-Plots"
   ]
  },
  {
   "cell_type": "code",
   "execution_count": null,
   "metadata": {},
   "outputs": [],
   "source": [
    "hor = 8\n",
    "ver = 5\n",
    "plt.figure(figsize=(hor,ver))\n",
    "\n",
    "qqplot(df_to_hist, line='q', markerfacecolor='blue')\n",
    "\n",
    "plt.title(f'Histogram for {MONTHS[str(MONTH)]}-{YEAR} at {HOUR}:{MINUTE}h ({str.upper(SC)})')\n",
    "#plt.ylabel()\n",
    "#plt.xlabel()\n",
    "plt.tick_params(which='major', direction='in', length=5, width=0.75, grid_alpha=0.3)\n",
    "plt.tick_params(which='minor', direction='in', length=2.5, width=0.5, grid_alpha=0.3)\n",
    "plt.xticks(rotation=0)\n",
    "plt.minorticks_on()\n",
    "plt.ylim(None, None)\n",
    "plt.xlim(None, None)\n",
    "plt.grid(True)\n",
    "plt.grid(visible=True, which='major', color='grey', linestyle='-', linewidth=0.5)\n",
    "plt.grid(visible=True, which='minor', color='lightgrey', linestyle='-', linewidth=0.3, alpha=0.2)\n",
    "plt.tight_layout\n",
    "#plt.legend(loc='best', fontsize=9) # bbox_to_anchor=(1,1)"
   ]
  },
  {
   "attachments": {},
   "cell_type": "markdown",
   "metadata": {},
   "source": [
    "# 3. Validations"
   ]
  },
  {
   "cell_type": "code",
   "execution_count": null,
   "metadata": {},
   "outputs": [],
   "source": [
    "SYNTHETIC = {'stochastic': {}, 'bootstrap': {}}\n",
    "IC = 0.95\n",
    "RUNS = 5\n",
    "\n",
    "for i in LOOP_YEARS:\n",
    "    for j in LOOP_MONTHS:\n",
    "        for k in LOOP_SC:\n",
    "            # Stochastic\n",
    "            SYNTHETIC['stochastic'][f'{MONTHS[str(j)]}{i}-{k}'] = src.methods.autoregressive(data=df,\n",
    "                                                                                             irradiance_column='ghi_wm2',\n",
    "                                                                                             year=i,\n",
    "                                                                                             month=j,\n",
    "                                                                                             sky_condition=k,\n",
    "                                                                                             method='stochastic',\n",
    "                                                                                             IC=IC,\n",
    "                                                                                             resolution=RESOLUTION,\n",
    "                                                                                             runs=RUNS)\n",
    "            # Bootstrap\n",
    "            SYNTHETIC['bootstrap'][f'{MONTHS[str(j)]}{i}-{k}'] = src.methods.autoregressive(data=df,\n",
    "                                                                                            irradiance_column='ghi_wm2',\n",
    "                                                                                            year=i,\n",
    "                                                                                            month=j,\n",
    "                                                                                            sky_condition=k,\n",
    "                                                                                            method='bootstrap',\n",
    "                                                                                            IC=IC,\n",
    "                                                                                            resolution=RESOLUTION,\n",
    "                                                                                            runs=RUNS)"
   ]
  },
  {
   "attachments": {},
   "cell_type": "markdown",
   "metadata": {},
   "source": [
    "## 3.1. Variability metrics"
   ]
  },
  {
   "cell_type": "code",
   "execution_count": null,
   "metadata": {},
   "outputs": [],
   "source": [
    "VARIABILITY_METRICS = {'stochastic': {}, 'bootstrap': {}}\n",
    "RUNS = 5\n",
    "\n",
    "for m in ['stochastic', 'bootstrap']:\n",
    "    for z in SYNTHETIC[m].keys():\n",
    "        i = int(z[3:7]) # Year\n",
    "        j = INVERSE_MONTHS[z[0:3]] # Month\n",
    "        k = z[8:11] # Sky condition\n",
    "\n",
    "        metrics = {'standard_deviation_increments': [[], []],\n",
    "                    'stability_index': [[], []],\n",
    "                    'iccdf': [[], []],\n",
    "                    'variability_index': [[], []]}\n",
    "\n",
    "        for _ in range(RUNS):\n",
    "            try:\n",
    "                aux = LOOP_ANALYSIS[f'{MONTHS[str(j)]}{i}']['bootstrap'][k].T.sample(n=1, axis=1)\n",
    "                sample1 = aux.values.flatten()\n",
    "                sample2 = SYNTHETIC[m][f'{MONTHS[str(j)]}{i}-{k}'].sample(n=1, axis=1).values.flatten()\n",
    "\n",
    "                # Standard deviation of increments (SDI)\n",
    "                metrics['standard_deviation_increments'][0].append(src.metrics.standard_deviation_increments(data=sample1))\n",
    "                metrics['standard_deviation_increments'][1].append(src.metrics.standard_deviation_increments(data=sample2))\n",
    "\n",
    "                # Stability index (SI)\n",
    "                metrics['stability_index'][0].append(src.metrics.stability_index(data=sample1, threshold=100))\n",
    "                metrics['stability_index'][1].append(src.metrics.stability_index(data=sample2, threshold=100))\n",
    "\n",
    "                # Integrated complementary cumulative distribution function (ICCDF)\n",
    "                metrics['iccdf'][0].append(src.metrics.iccdf(data=sample1))\n",
    "                metrics['iccdf'][1].append(src.metrics.iccdf(data=sample2))\n",
    "\n",
    "                # Variability index (VI)\n",
    "                temp = df.loc[(df.index.year == i) & (df.index.month == j) & (df.index.day == aux.columns[0])]\n",
    "                metrics['variability_index'][0].append(src.metrics.variability_index(timestamps=temp.index, ghi=sample1, hcs=temp['hcs_wm2'].values).mean())\n",
    "                metrics['variability_index'][1].append(src.metrics.variability_index(timestamps=temp.index, ghi=sample2, hcs=temp['hcs_wm2'].values).mean())\n",
    "\n",
    "            except:\n",
    "                pass\n",
    "\n",
    "        for _ in metrics.keys():\n",
    "            metrics[_] = np.mean(metrics[_], axis=1)\n",
    "\n",
    "        VARIABILITY_METRICS[m][f'{MONTHS[str(j)]}{i}-{k}'] = metrics"
   ]
  },
  {
   "cell_type": "code",
   "execution_count": null,
   "metadata": {},
   "outputs": [],
   "source": [
    "metrics_stochastic = pd.DataFrame(VARIABILITY_METRICS['stochastic']).T\n",
    "metrics_bootstrap = pd.DataFrame(VARIABILITY_METRICS['bootstrap']).T\n",
    "\n",
    "# Stochastic\n",
    "pe_stochastic = metrics_stochastic * 0\n",
    "pe_stochastic['month'] = [INVERSE_MONTHS[i[0:3]] for i in pe_stochastic.index]\n",
    "pe_stochastic['sc'] = [i[8:11] for i in pe_stochastic.index]\n",
    "\n",
    "for i in metrics_stochastic.columns:\n",
    "    pe_stochastic[i] = [src.metrics.wrapper_percentage_error(j) for j in metrics_stochastic[i]]\n",
    "\n",
    "pe_stochastic = pe_stochastic.fillna(0)\n",
    "\n",
    "# Bootstrap\n",
    "pe_bootstrap = metrics_bootstrap * 0\n",
    "pe_bootstrap['month'] = [INVERSE_MONTHS[i[0:3]] for i in pe_bootstrap.index]\n",
    "pe_bootstrap['sc'] = [i[8:11] for i in pe_bootstrap.index]\n",
    "\n",
    "for i in metrics_bootstrap.columns:\n",
    "    pe_bootstrap[i] = [src.metrics.wrapper_percentage_error(j) for j in metrics_bootstrap[i]]\n",
    "\n",
    "pe_bootstrap = pe_bootstrap.fillna(0)"
   ]
  },
  {
   "cell_type": "code",
   "execution_count": null,
   "metadata": {},
   "outputs": [],
   "source": [
    "# Percentage error monthly average\n",
    "VM_STOCHASTIC_MONTH = pe_stochastic.groupby(by='month').mean().round(decimals=2)\n",
    "VM_BOOTSTRAP_MONTH = pe_bootstrap.groupby(by='month').mean().round(decimals=2)\n",
    "\n",
    "# Percentage error sky condition average\n",
    "VM_STOCHASTIC_SC = pe_stochastic.groupby(by='sc').mean().round(decimals=2)\n",
    "VM_BOOTSTRAP_SC = pe_bootstrap.groupby(by='sc').mean().round(decimals=2)"
   ]
  },
  {
   "cell_type": "code",
   "execution_count": null,
   "metadata": {},
   "outputs": [],
   "source": [
    "# Download\n",
    "VM_STOCHASTIC_MONTH.to_csv(f'../metrics/variability/{FILE}/stochastic_month.csv')\n",
    "VM_BOOTSTRAP_MONTH.to_csv(f'../metrics/variability/{FILE}/bootstrap_month.csv')\n",
    "VM_STOCHASTIC_SC.to_csv(f'../metrics/variability/{FILE}/stochastic_sc.csv')\n",
    "VM_BOOTSTRAP_SC.to_csv(f'../metrics/variability/{FILE}/bootstrap_sc.csv')"
   ]
  },
  {
   "attachments": {},
   "cell_type": "markdown",
   "metadata": {},
   "source": [
    "## 3.2. Comparison of statistical distributions"
   ]
  },
  {
   "cell_type": "code",
   "execution_count": null,
   "metadata": {},
   "outputs": [],
   "source": [
    "STATISTICAL_METRICS = {'stochastic': {}, 'bootstrap': {}}\n",
    "RUNS = 5\n",
    "\n",
    "for m in ['stochastic', 'bootstrap']:\n",
    "    for z in SYNTHETIC[m].keys():\n",
    "        i = int(z[3:7]) # Year\n",
    "        j = INVERSE_MONTHS[z[0:3]] # Month\n",
    "        k = z[8:11] # Sky condition\n",
    "\n",
    "        metrics = {'kolmogorov_smirnov': [],\n",
    "                   'kullback_leibler_divergence': [],\n",
    "                   'overlapping_coefficient': []}\n",
    "\n",
    "        for _ in range(RUNS):\n",
    "            try:\n",
    "                sample1 = LOOP_ANALYSIS[f'{MONTHS[str(j)]}{i}']['bootstrap'][k].T.sample(n=1, axis=1).values.flatten()\n",
    "                sample2 = SYNTHETIC[m][f'{MONTHS[str(j)]}{i}-{k}'].sample(n=1, axis=1).values.flatten()\n",
    "\n",
    "                # Kolmogorov-Smirnov Test (KS)\n",
    "                metrics['kolmogorov_smirnov'].append(src.metrics.kolmogorov_smirnov(sample1=sample1, sample2=sample2))\n",
    "\n",
    "                # Kullback-Leibler Divergence (KLD)\n",
    "                metrics['kullback_leibler_divergence'].append(src.metrics.kullback_leibler_divergence(sample1=sample1, sample2=sample2))\n",
    "\n",
    "                # Overlapping coefficient (OVC)\n",
    "                metrics['overlapping_coefficient'].append(src.metrics.overlapping_coefficient(sample1=sample1, sample2=sample2))\n",
    "\n",
    "            except:\n",
    "                pass\n",
    "\n",
    "        for _ in metrics.keys():\n",
    "            metrics[_] = np.mean(metrics[_])\n",
    "\n",
    "        STATISTICAL_METRICS[m][f'{MONTHS[str(j)]}{i}-{k}'] = metrics"
   ]
  },
  {
   "cell_type": "code",
   "execution_count": null,
   "metadata": {},
   "outputs": [],
   "source": [
    "ovc = pd.Series([STATISTICAL_METRICS['bootstrap'][i]['overlapping_coefficient'] for i in STATISTICAL_METRICS['bootstrap'].keys()])"
   ]
  },
  {
   "cell_type": "code",
   "execution_count": null,
   "metadata": {},
   "outputs": [],
   "source": [
    "# Stochastic\n",
    "metrics_stochastic = pd.DataFrame(STATISTICAL_METRICS['stochastic']).T\n",
    "metrics_stochastic['month'] = [INVERSE_MONTHS[i[0:3]] for i in metrics_stochastic.index]\n",
    "metrics_stochastic['sc'] = [i[8:11] for i in metrics_stochastic.index]\n",
    "metrics_stochastic = metrics_stochastic.fillna(0)\n",
    "\n",
    "# Bootstrap\n",
    "metrics_bootstrap = pd.DataFrame(STATISTICAL_METRICS['bootstrap']).T\n",
    "metrics_bootstrap['month'] = [INVERSE_MONTHS[i[0:3]] for i in metrics_bootstrap.index]\n",
    "metrics_bootstrap['sc'] = [i[8:11] for i in metrics_bootstrap.index]\n",
    "metrics_bootstrap = metrics_bootstrap.fillna(0)"
   ]
  },
  {
   "cell_type": "code",
   "execution_count": null,
   "metadata": {},
   "outputs": [],
   "source": [
    "# Monthly average\n",
    "SM_STOCHASTIC_MONTH = metrics_stochastic.groupby(by='month').mean().round(decimals=2)\n",
    "SM_BOOTSTRAP_MONTH = metrics_bootstrap.groupby(by='month').mean().round(decimals=2)\n",
    "\n",
    "# Sky condition average\n",
    "SM_STOCHASTIC_SC = metrics_stochastic.groupby(by='sc').mean().round(decimals=2)\n",
    "SM_BOOTSTRAP_SC = metrics_bootstrap.groupby(by='sc').mean().round(decimals=2)"
   ]
  },
  {
   "cell_type": "code",
   "execution_count": null,
   "metadata": {},
   "outputs": [],
   "source": [
    "# Download\n",
    "SM_STOCHASTIC_MONTH.to_csv(f'../metrics/statistical/{FILE}/stochastic_month.csv')\n",
    "SM_BOOTSTRAP_MONTH.to_csv(f'../metrics/statistical/{FILE}/bootstrap_month.csv')\n",
    "SM_STOCHASTIC_SC.to_csv(f'../metrics/statistical/{FILE}/stochastic_sc.csv')\n",
    "SM_BOOTSTRAP_SC.to_csv(f'../metrics/statistical/{FILE}/bootstrap_sc.csv')"
   ]
  },
  {
   "attachments": {},
   "cell_type": "markdown",
   "metadata": {},
   "source": [
    "## 3.3. Energy production"
   ]
  },
  {
   "cell_type": "code",
   "execution_count": null,
   "metadata": {},
   "outputs": [],
   "source": [
    "INVERTER = pvlib.pvsystem.retrieve_sam(name='CECInverter')['ABB__TRIO_50_0_TL_OUTD_US_480__480V_']\n",
    "MODULE = pvlib.pvsystem.retrieve_sam(name='CECMod')['LG_Electronics_Inc__LG400N2W_A5']\n",
    "MPS = 16 # Modules per string\n",
    "SPI = 8 # Strings per inverter\n",
    "LOSS = 26.9"
   ]
  },
  {
   "cell_type": "code",
   "execution_count": null,
   "metadata": {},
   "outputs": [],
   "source": [
    "# Module temperature with NOCT equation\n",
    "df['tmod_c'] = df['tamb_c'] + (((MODULE['T_NOCT'] - 20)/800) * df['ghi_wm2'])\n",
    "\n",
    "TMOD = np.mean(df['tmod_c'].loc[(df.index.hour >= 6) & (df.index.hour < 18)])"
   ]
  },
  {
   "cell_type": "code",
   "execution_count": null,
   "metadata": {},
   "outputs": [],
   "source": [
    "ENERGY_METRIC = {'stochastic': {}, 'bootstrap': {}}\n",
    "RUNS = 5\n",
    "\n",
    "for m in ['stochastic', 'bootstrap']:\n",
    "    for z in SYNTHETIC[m].keys():\n",
    "        i = int(z[3:7]) # Year\n",
    "        j = INVERSE_MONTHS[z[0:3]] # Month\n",
    "        k = z[8:11] # Sky condition\n",
    "\n",
    "        metrics = [[], []]\n",
    "\n",
    "        for _ in range(RUNS):\n",
    "            try:\n",
    "                sample1 = LOOP_ANALYSIS[f'{MONTHS[str(j)]}{i}']['bootstrap'][k].T.sample(n=1, axis=1).values.flatten()\n",
    "                sample2 = SYNTHETIC[m][f'{MONTHS[str(j)]}{i}-{k}'].sample(n=1, axis=1).values.flatten()\n",
    "\n",
    "                # Energy production\n",
    "                metrics[0].append(src.metrics.energy(irradiance=sample1, resolution=RESOLUTION, tmod=TMOD, inverter=INVERTER, module=MODULE, mps=MPS, spi=SPI, loss=LOSS))\n",
    "                metrics[1].append(src.metrics.energy(irradiance=sample2, resolution=RESOLUTION, tmod=TMOD, inverter=INVERTER, module=MODULE, mps=MPS, spi=SPI, loss=LOSS))\n",
    "\n",
    "            except:\n",
    "                pass\n",
    "\n",
    "        ENERGY_METRIC[m][f'{MONTHS[str(j)]}{i}-{k}'] = np.mean(metrics, axis=1)"
   ]
  },
  {
   "cell_type": "code",
   "execution_count": null,
   "metadata": {},
   "outputs": [],
   "source": [
    "# Stochastic\n",
    "metrics_stochastic = pd.DataFrame(ENERGY_METRIC['stochastic'], index=['real', 'synthetic']).T\n",
    "metrics_stochastic['month'] = [INVERSE_MONTHS[i[0:3]] for i in metrics_stochastic.index]\n",
    "metrics_stochastic['sc'] = [i[8:11] for i in metrics_stochastic.index]\n",
    "metrics_stochastic['percentage_error'] = src.metrics.percentage_error(target=metrics_stochastic['real'], predicted=metrics_stochastic['synthetic'])\n",
    "metrics_stochastic = metrics_stochastic.fillna(0)\n",
    "\n",
    "# Bootstrap\n",
    "metrics_bootstrap = pd.DataFrame(ENERGY_METRIC['bootstrap'], index=['real', 'synthetic']).T\n",
    "metrics_bootstrap['month'] = [INVERSE_MONTHS[i[0:3]] for i in metrics_bootstrap.index]\n",
    "metrics_bootstrap['sc'] = [i[8:11] for i in metrics_bootstrap.index]\n",
    "metrics_bootstrap['percentage_error'] = src.metrics.percentage_error(target=metrics_bootstrap['real'], predicted=metrics_bootstrap['synthetic'])\n",
    "metrics_bootstrap = metrics_bootstrap.fillna(0)"
   ]
  },
  {
   "cell_type": "code",
   "execution_count": null,
   "metadata": {},
   "outputs": [],
   "source": [
    "# Percentage error monthly average\n",
    "EM_STOCHASTIC_MONTH = metrics_stochastic.groupby(by='month').mean().round(decimals=2)\n",
    "EM_BOOTSTRAP_MONTH = metrics_bootstrap.groupby(by='month').mean().round(decimals=2)\n",
    "\n",
    "# Percentage error sky condition average\n",
    "EM_STOCHASTIC_SC = metrics_stochastic.groupby(by='sc').mean().round(decimals=2)\n",
    "EM_BOOTSTRAP_SC = metrics_bootstrap.groupby(by='sc').mean().round(decimals=2)"
   ]
  },
  {
   "cell_type": "code",
   "execution_count": null,
   "metadata": {},
   "outputs": [],
   "source": [
    "# Download\n",
    "EM_STOCHASTIC_MONTH.to_csv(f'../metrics/energy/{FILE}/stochastic_month.csv')\n",
    "EM_BOOTSTRAP_MONTH.to_csv(f'../metrics/energy/{FILE}/bootstrap_month.csv')\n",
    "EM_STOCHASTIC_SC.to_csv(f'../metrics/energy/{FILE}/stochastic_sc.csv')\n",
    "EM_BOOTSTRAP_SC.to_csv(f'../metrics/energy/{FILE}/bootstrap_sc.csv')"
   ]
  },
  {
   "attachments": {},
   "cell_type": "markdown",
   "metadata": {},
   "source": [
    "## 3.4. Cumulative density functions (CDF)"
   ]
  },
  {
   "cell_type": "code",
   "execution_count": null,
   "metadata": {},
   "outputs": [],
   "source": [
    "YY = 2019\n",
    "MM = 'Nov'\n",
    "\n",
    "for i in LOOP_SC:\n",
    "    x, y = src.utils.cdf(data=LOOP_ANALYSIS[f'{MM}{YY}']['bootstrap'][i].T.sample(n=1, axis=1).iloc[:,0].values)\n",
    "    xs, ys = src.utils.cdf(data=SYNTHETIC['stochastic'][f'{MM}{YY}-{i}'].sample(n=1, axis=1).iloc[:,0].values)\n",
    "    xb, yb = src.utils.cdf(data=SYNTHETIC['bootstrap'][f'{MM}{YY}-{i}'].sample(n=1, axis=1).iloc[:,0].values)\n",
    "\n",
    "    hor = 6\n",
    "    ver = 5\n",
    "    plt.figure(figsize=(hor,ver), dpi=100)\n",
    "\n",
    "    plt.plot(x, y, color='dodgerblue', label='Measured')\n",
    "    plt.plot(xs, ys, color='orange', label='Synthetic (Stochastic)')\n",
    "    plt.plot(xb, yb, color='tomato', label='Synthetic (Bootstrap)')\n",
    "\n",
    "    plt.title(f'CDF Comparison ({MM}-{YY} {str.upper(i)})')\n",
    "    plt.ylabel('Cumulative Probability')\n",
    "    plt.xlabel('Irradiance, $W/m^2$')\n",
    "    plt.tick_params(which='major', direction='in', length=5, width=0.75, grid_alpha=0.3)\n",
    "    plt.tick_params(which='minor', direction='in', length=2.5, width=0.5, grid_alpha=0.3)\n",
    "    plt.xticks(rotation=0)\n",
    "    plt.minorticks_on()\n",
    "    plt.ylim(0, 1)\n",
    "    plt.xlim(-10, None)\n",
    "    plt.grid(True)\n",
    "    plt.grid(visible=True, which='major', color='grey', linestyle='-', linewidth=0.5)\n",
    "    plt.grid(visible=True, which='minor', color='lightgrey', linestyle='-', linewidth=0.3, alpha=0.2)\n",
    "    plt.tight_layout\n",
    "    plt.legend(loc='center right', fontsize=9) # bbox_to_anchor=(1,1)"
   ]
  }
 ],
 "metadata": {
  "kernelspec": {
   "display_name": "synt",
   "language": "python",
   "name": "python3"
  },
  "language_info": {
   "codemirror_mode": {
    "name": "ipython",
    "version": 3
   },
   "file_extension": ".py",
   "mimetype": "text/x-python",
   "name": "python",
   "nbconvert_exporter": "python",
   "pygments_lexer": "ipython3",
   "version": "3.11.0"
  },
  "vscode": {
   "interpreter": {
    "hash": "c8c41bbeb946ed25b91e141bf4af078b4c4a33e6b170bac4b92dc96c97838c02"
   }
  }
 },
 "nbformat": 4,
 "nbformat_minor": 4
}
